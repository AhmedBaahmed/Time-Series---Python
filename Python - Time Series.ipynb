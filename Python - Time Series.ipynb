{
 "cells": [
  {
   "cell_type": "markdown",
   "id": "11eeb71d",
   "metadata": {},
   "source": [
    "# 1. Date and time Data types"
   ]
  },
  {
   "cell_type": "code",
   "execution_count": 1,
   "id": "d61961d5",
   "metadata": {},
   "outputs": [],
   "source": [
    "# TS: is any dataset, where data is observed or measured at many points in time.\n",
    "# Time points usually occur at regular intervals, such as every minute, every day, every month or every year.\n",
    "# TS is a very important form of structured data in many fields, such as finance and economics.\n",
    "# We will focus on handling 'data' and 'time' data types.\n",
    "# Data and Time data are used as the index for Time series."
   ]
  },
  {
   "cell_type": "code",
   "execution_count": 19,
   "id": "d38829d7",
   "metadata": {},
   "outputs": [],
   "source": [
    "# Import libraries ...\n",
    "import pandas as pd\n",
    "from datetime import datetime"
   ]
  },
  {
   "cell_type": "code",
   "execution_count": 5,
   "id": "a2cc9eaf",
   "metadata": {},
   "outputs": [
    {
     "data": {
      "text/plain": [
       "datetime.datetime(2022, 7, 17, 10, 35, 17, 604126)"
      ]
     },
     "execution_count": 5,
     "metadata": {},
     "output_type": "execute_result"
    }
   ],
   "source": [
    "# Current time ...\n",
    "time_now = datetime.now()\n",
    "time_now"
   ]
  },
  {
   "cell_type": "code",
   "execution_count": 10,
   "id": "03074f27",
   "metadata": {},
   "outputs": [
    {
     "data": {
      "text/plain": [
       "2022"
      ]
     },
     "execution_count": 10,
     "metadata": {},
     "output_type": "execute_result"
    }
   ],
   "source": [
    "# Current day, month, year ...\n",
    "time_now.hour\n",
    "time_now.day\n",
    "time_now.month\n",
    "time_now.year"
   ]
  },
  {
   "cell_type": "code",
   "execution_count": 16,
   "id": "851e24d8",
   "metadata": {},
   "outputs": [
    {
     "data": {
      "text/plain": [
       "27759"
      ]
     },
     "execution_count": 16,
     "metadata": {},
     "output_type": "execute_result"
    }
   ],
   "source": [
    "# Difference between two days ...\n",
    "time1 = datetime(1946,1,1)\n",
    "time2 = datetime(2022,1,1)\n",
    "time_difference = time2-time1\n",
    "time_difference\n",
    "# or\n",
    "time_difference.days"
   ]
  },
  {
   "cell_type": "code",
   "execution_count": 18,
   "id": "804118c9",
   "metadata": {},
   "outputs": [
    {
     "data": {
      "text/plain": [
       "datetime.datetime(2021, 12, 9, 0, 0)"
      ]
     },
     "execution_count": 18,
     "metadata": {},
     "output_type": "execute_result"
    }
   ],
   "source": [
    "# Changing the time date ...\n",
    "from datetime import timedelta\n",
    "\n",
    "time1 + timedelta(23)\n",
    "\n",
    "#\n",
    "time2 - timedelta(23)"
   ]
  },
  {
   "cell_type": "markdown",
   "id": "57df7658",
   "metadata": {},
   "source": [
    "# 2. Converting Between String and Datetime"
   ]
  },
  {
   "cell_type": "code",
   "execution_count": 20,
   "id": "cf4435c4",
   "metadata": {},
   "outputs": [],
   "source": [
    "# How to convert between 'string' and 'datetime'\n",
    "# To prepare TS for analysis, the dates need to be formatted in 'datetime data type'.\n",
    "\n",
    "# Check the data type for the date column in the TS.\n",
    "# How to 'convert the date; into the proper 'datetime data type'.\n"
   ]
  },
  {
   "cell_type": "code",
   "execution_count": 40,
   "id": "b6a10cc2",
   "metadata": {},
   "outputs": [
    {
     "data": {
      "text/plain": [
       "'2022,09,12'"
      ]
     },
     "execution_count": 40,
     "metadata": {},
     "output_type": "execute_result"
    }
   ],
   "source": [
    "# Example ...\n",
    "T = '2022,09,12'\n",
    "type(T)\n",
    "T # its a string"
   ]
  },
  {
   "cell_type": "code",
   "execution_count": 41,
   "id": "6fc9c613",
   "metadata": {},
   "outputs": [
    {
     "data": {
      "text/plain": [
       "datetime.datetime(2022, 9, 12, 0, 0)"
      ]
     },
     "execution_count": 41,
     "metadata": {},
     "output_type": "execute_result"
    }
   ],
   "source": [
    "# Convert 'str' to 'datetime' ...\n",
    "forma = \"%Y,%m,%d\"\n",
    "time1 = datetime.strptime(T, forma)\n",
    "time1"
   ]
  },
  {
   "cell_type": "code",
   "execution_count": 43,
   "id": "45c0adea",
   "metadata": {},
   "outputs": [
    {
     "data": {
      "text/plain": [
       "'2022-6-1'"
      ]
     },
     "execution_count": 43,
     "metadata": {},
     "output_type": "execute_result"
    }
   ],
   "source": [
    "# Example ...\n",
    "time = '2022-6-1'\n",
    "time"
   ]
  },
  {
   "cell_type": "code",
   "execution_count": 45,
   "id": "97a6ebe6",
   "metadata": {},
   "outputs": [
    {
     "data": {
      "text/plain": [
       "datetime.datetime(2022, 6, 1, 0, 0)"
      ]
     },
     "execution_count": 45,
     "metadata": {},
     "output_type": "execute_result"
    }
   ],
   "source": [
    "# Convert 'str' to 'datetime' ...\n",
    "forma = \"%Y-%m-%d\"\n",
    "time1 = datetime.strptime(time, forma)\n",
    "time1"
   ]
  },
  {
   "cell_type": "code",
   "execution_count": 50,
   "id": "4a8a0566",
   "metadata": {},
   "outputs": [
    {
     "data": {
      "text/html": [
       "<div>\n",
       "<style scoped>\n",
       "    .dataframe tbody tr th:only-of-type {\n",
       "        vertical-align: middle;\n",
       "    }\n",
       "\n",
       "    .dataframe tbody tr th {\n",
       "        vertical-align: top;\n",
       "    }\n",
       "\n",
       "    .dataframe thead th {\n",
       "        text-align: right;\n",
       "    }\n",
       "</style>\n",
       "<table border=\"1\" class=\"dataframe\">\n",
       "  <thead>\n",
       "    <tr style=\"text-align: right;\">\n",
       "      <th></th>\n",
       "      <th>date</th>\n",
       "      <th>google</th>\n",
       "      <th>apple</th>\n",
       "    </tr>\n",
       "  </thead>\n",
       "  <tbody>\n",
       "    <tr>\n",
       "      <th>0</th>\n",
       "      <td>30-Apr-21</td>\n",
       "      <td>2410.12</td>\n",
       "      <td>131.24</td>\n",
       "    </tr>\n",
       "    <tr>\n",
       "      <th>1</th>\n",
       "      <td>29-Apr-21</td>\n",
       "      <td>2429.89</td>\n",
       "      <td>133.25</td>\n",
       "    </tr>\n",
       "    <tr>\n",
       "      <th>2</th>\n",
       "      <td>28-Apr-21</td>\n",
       "      <td>2379.91</td>\n",
       "      <td>133.35</td>\n",
       "    </tr>\n",
       "    <tr>\n",
       "      <th>3</th>\n",
       "      <td>27-Apr-21</td>\n",
       "      <td>2307.12</td>\n",
       "      <td>134.16</td>\n",
       "    </tr>\n",
       "    <tr>\n",
       "      <th>4</th>\n",
       "      <td>26-Apr-21</td>\n",
       "      <td>2326.74</td>\n",
       "      <td>134.49</td>\n",
       "    </tr>\n",
       "  </tbody>\n",
       "</table>\n",
       "</div>"
      ],
      "text/plain": [
       "        date   google   apple\n",
       "0  30-Apr-21  2410.12  131.24\n",
       "1  29-Apr-21  2429.89  133.25\n",
       "2  28-Apr-21  2379.91  133.35\n",
       "3  27-Apr-21  2307.12  134.16\n",
       "4  26-Apr-21  2326.74  134.49"
      ]
     },
     "execution_count": 50,
     "metadata": {},
     "output_type": "execute_result"
    }
   ],
   "source": [
    "# Example DF ...\n",
    "df = pd.read_csv('data/ex8.csv')\n",
    "df.head()"
   ]
  },
  {
   "cell_type": "code",
   "execution_count": 52,
   "id": "f4587708",
   "metadata": {},
   "outputs": [
    {
     "data": {
      "text/plain": [
       "dtype('O')"
      ]
     },
     "execution_count": 52,
     "metadata": {},
     "output_type": "execute_result"
    }
   ],
   "source": [
    "# Check the type of the column ...\n",
    "df.date\n",
    "df.date.dtype # its an 'object'"
   ]
  },
  {
   "cell_type": "code",
   "execution_count": 56,
   "id": "18db7ba9",
   "metadata": {},
   "outputs": [
    {
     "data": {
      "text/plain": [
       "0   2021-04-30\n",
       "1   2021-04-29\n",
       "2   2021-04-28\n",
       "3   2021-04-27\n",
       "4   2021-04-26\n",
       "5   2021-04-23\n",
       "6   2021-04-22\n",
       "7   2021-04-21\n",
       "8   2021-04-20\n",
       "Name: date, dtype: datetime64[ns]"
      ]
     },
     "execution_count": 56,
     "metadata": {},
     "output_type": "execute_result"
    }
   ],
   "source": [
    "# Convert it to 'datetime' ...\n",
    "df['date'] = pd.to_datetime(df['date'])\n",
    "df.date # Converted to the datetime"
   ]
  },
  {
   "cell_type": "code",
   "execution_count": 58,
   "id": "501182d2",
   "metadata": {},
   "outputs": [
    {
     "data": {
      "text/plain": [
       "date      datetime64[ns]\n",
       "google           float64\n",
       "apple            float64\n",
       "dtype: object"
      ]
     },
     "execution_count": 58,
     "metadata": {},
     "output_type": "execute_result"
    }
   ],
   "source": [
    "# Check the -DF- type ...\n",
    "df.dtypes # date: datetime64[ns]\n"
   ]
  },
  {
   "cell_type": "markdown",
   "id": "10158200",
   "metadata": {},
   "source": [
    "# 3. Basics of Time Series"
   ]
  },
  {
   "cell_type": "code",
   "execution_count": 59,
   "id": "cb4b0a06",
   "metadata": {},
   "outputs": [],
   "source": [
    "# Basics TS operations.\n",
    "# TS is a DF that is indexed with timestamp.\n",
    "# Timestamps need to be recognized by pandas as datetime objects."
   ]
  },
  {
   "cell_type": "code",
   "execution_count": 65,
   "id": "0d72b609",
   "metadata": {},
   "outputs": [
    {
     "data": {
      "text/html": [
       "<div>\n",
       "<style scoped>\n",
       "    .dataframe tbody tr th:only-of-type {\n",
       "        vertical-align: middle;\n",
       "    }\n",
       "\n",
       "    .dataframe tbody tr th {\n",
       "        vertical-align: top;\n",
       "    }\n",
       "\n",
       "    .dataframe thead th {\n",
       "        text-align: right;\n",
       "    }\n",
       "</style>\n",
       "<table border=\"1\" class=\"dataframe\">\n",
       "  <thead>\n",
       "    <tr style=\"text-align: right;\">\n",
       "      <th></th>\n",
       "      <th>date</th>\n",
       "      <th>google</th>\n",
       "      <th>apple</th>\n",
       "    </tr>\n",
       "  </thead>\n",
       "  <tbody>\n",
       "    <tr>\n",
       "      <th>0</th>\n",
       "      <td>30-Apr-19</td>\n",
       "      <td>2410.12</td>\n",
       "      <td>131.24</td>\n",
       "    </tr>\n",
       "    <tr>\n",
       "      <th>1</th>\n",
       "      <td>29-May-19</td>\n",
       "      <td>2429.89</td>\n",
       "      <td>133.25</td>\n",
       "    </tr>\n",
       "    <tr>\n",
       "      <th>2</th>\n",
       "      <td>28-Jun-19</td>\n",
       "      <td>2379.91</td>\n",
       "      <td>133.35</td>\n",
       "    </tr>\n",
       "    <tr>\n",
       "      <th>3</th>\n",
       "      <td>27-Jul-19</td>\n",
       "      <td>2307.12</td>\n",
       "      <td>134.16</td>\n",
       "    </tr>\n",
       "    <tr>\n",
       "      <th>4</th>\n",
       "      <td>26-Apr-20</td>\n",
       "      <td>2326.74</td>\n",
       "      <td>134.49</td>\n",
       "    </tr>\n",
       "  </tbody>\n",
       "</table>\n",
       "</div>"
      ],
      "text/plain": [
       "        date   google   apple\n",
       "0  30-Apr-19  2410.12  131.24\n",
       "1  29-May-19  2429.89  133.25\n",
       "2  28-Jun-19  2379.91  133.35\n",
       "3  27-Jul-19  2307.12  134.16\n",
       "4  26-Apr-20  2326.74  134.49"
      ]
     },
     "execution_count": 65,
     "metadata": {},
     "output_type": "execute_result"
    }
   ],
   "source": [
    "# Example ...\n",
    "TS = pd.read_csv('data/ex15.csv')\n",
    "TS.head()"
   ]
  },
  {
   "cell_type": "code",
   "execution_count": 66,
   "id": "fa2f3975",
   "metadata": {},
   "outputs": [
    {
     "data": {
      "text/plain": [
       "date       object\n",
       "google    float64\n",
       "apple     float64\n",
       "dtype: object"
      ]
     },
     "execution_count": 66,
     "metadata": {},
     "output_type": "execute_result"
    }
   ],
   "source": [
    "# Check date if its string or datetime ...\n",
    "TS.dtypes"
   ]
  },
  {
   "cell_type": "code",
   "execution_count": 67,
   "id": "4545e9c2",
   "metadata": {},
   "outputs": [
    {
     "data": {
      "text/plain": [
       "0    2019-04-30\n",
       "1    2019-05-29\n",
       "2    2019-06-28\n",
       "3    2019-07-27\n",
       "4    2020-04-26\n",
       "5    2020-05-23\n",
       "6    2020-06-24\n",
       "7    2020-07-20\n",
       "8    2021-04-20\n",
       "9    2021-05-30\n",
       "10   2021-06-29\n",
       "11   2021-07-28\n",
       "12   2021-04-27\n",
       "13   2022-05-26\n",
       "14   2022-06-23\n",
       "15   2022-07-22\n",
       "Name: date, dtype: datetime64[ns]"
      ]
     },
     "execution_count": 67,
     "metadata": {},
     "output_type": "execute_result"
    }
   ],
   "source": [
    "# Convert it to datetime ...\n",
    "TS['date'] = pd.to_datetime(TS['date'])\n",
    "TS.date "
   ]
  },
  {
   "cell_type": "code",
   "execution_count": 68,
   "id": "c7456d6d",
   "metadata": {},
   "outputs": [
    {
     "data": {
      "text/plain": [
       "date      datetime64[ns]\n",
       "google           float64\n",
       "apple            float64\n",
       "dtype: object"
      ]
     },
     "execution_count": 68,
     "metadata": {},
     "output_type": "execute_result"
    }
   ],
   "source": [
    "# Check it again ...\n",
    "TS.dtypes"
   ]
  },
  {
   "cell_type": "code",
   "execution_count": 69,
   "id": "d4623260",
   "metadata": {},
   "outputs": [
    {
     "data": {
      "text/html": [
       "<div>\n",
       "<style scoped>\n",
       "    .dataframe tbody tr th:only-of-type {\n",
       "        vertical-align: middle;\n",
       "    }\n",
       "\n",
       "    .dataframe tbody tr th {\n",
       "        vertical-align: top;\n",
       "    }\n",
       "\n",
       "    .dataframe thead th {\n",
       "        text-align: right;\n",
       "    }\n",
       "</style>\n",
       "<table border=\"1\" class=\"dataframe\">\n",
       "  <thead>\n",
       "    <tr style=\"text-align: right;\">\n",
       "      <th></th>\n",
       "      <th>date</th>\n",
       "      <th>google</th>\n",
       "      <th>apple</th>\n",
       "    </tr>\n",
       "  </thead>\n",
       "  <tbody>\n",
       "    <tr>\n",
       "      <th>0</th>\n",
       "      <td>2019-04-30</td>\n",
       "      <td>2410.12</td>\n",
       "      <td>131.24</td>\n",
       "    </tr>\n",
       "    <tr>\n",
       "      <th>1</th>\n",
       "      <td>2019-05-29</td>\n",
       "      <td>2429.89</td>\n",
       "      <td>133.25</td>\n",
       "    </tr>\n",
       "    <tr>\n",
       "      <th>2</th>\n",
       "      <td>2019-06-28</td>\n",
       "      <td>2379.91</td>\n",
       "      <td>133.35</td>\n",
       "    </tr>\n",
       "    <tr>\n",
       "      <th>3</th>\n",
       "      <td>2019-07-27</td>\n",
       "      <td>2307.12</td>\n",
       "      <td>134.16</td>\n",
       "    </tr>\n",
       "    <tr>\n",
       "      <th>4</th>\n",
       "      <td>2020-04-26</td>\n",
       "      <td>2326.74</td>\n",
       "      <td>134.49</td>\n",
       "    </tr>\n",
       "  </tbody>\n",
       "</table>\n",
       "</div>"
      ],
      "text/plain": [
       "        date   google   apple\n",
       "0 2019-04-30  2410.12  131.24\n",
       "1 2019-05-29  2429.89  133.25\n",
       "2 2019-06-28  2379.91  133.35\n",
       "3 2019-07-27  2307.12  134.16\n",
       "4 2020-04-26  2326.74  134.49"
      ]
     },
     "execution_count": 69,
     "metadata": {},
     "output_type": "execute_result"
    }
   ],
   "source": [
    "# Display it again ...\n",
    "TS.head()"
   ]
  },
  {
   "cell_type": "code",
   "execution_count": 71,
   "id": "2ec9ae4c",
   "metadata": {},
   "outputs": [
    {
     "data": {
      "text/html": [
       "<div>\n",
       "<style scoped>\n",
       "    .dataframe tbody tr th:only-of-type {\n",
       "        vertical-align: middle;\n",
       "    }\n",
       "\n",
       "    .dataframe tbody tr th {\n",
       "        vertical-align: top;\n",
       "    }\n",
       "\n",
       "    .dataframe thead th {\n",
       "        text-align: right;\n",
       "    }\n",
       "</style>\n",
       "<table border=\"1\" class=\"dataframe\">\n",
       "  <thead>\n",
       "    <tr style=\"text-align: right;\">\n",
       "      <th></th>\n",
       "      <th>google</th>\n",
       "      <th>apple</th>\n",
       "    </tr>\n",
       "    <tr>\n",
       "      <th>date</th>\n",
       "      <th></th>\n",
       "      <th></th>\n",
       "    </tr>\n",
       "  </thead>\n",
       "  <tbody>\n",
       "    <tr>\n",
       "      <th>2019-04-30</th>\n",
       "      <td>2410.12</td>\n",
       "      <td>131.24</td>\n",
       "    </tr>\n",
       "    <tr>\n",
       "      <th>2019-05-29</th>\n",
       "      <td>2429.89</td>\n",
       "      <td>133.25</td>\n",
       "    </tr>\n",
       "    <tr>\n",
       "      <th>2019-06-28</th>\n",
       "      <td>2379.91</td>\n",
       "      <td>133.35</td>\n",
       "    </tr>\n",
       "    <tr>\n",
       "      <th>2019-07-27</th>\n",
       "      <td>2307.12</td>\n",
       "      <td>134.16</td>\n",
       "    </tr>\n",
       "    <tr>\n",
       "      <th>2020-04-26</th>\n",
       "      <td>2326.74</td>\n",
       "      <td>134.49</td>\n",
       "    </tr>\n",
       "  </tbody>\n",
       "</table>\n",
       "</div>"
      ],
      "text/plain": [
       "             google   apple\n",
       "date                       \n",
       "2019-04-30  2410.12  131.24\n",
       "2019-05-29  2429.89  133.25\n",
       "2019-06-28  2379.91  133.35\n",
       "2019-07-27  2307.12  134.16\n",
       "2020-04-26  2326.74  134.49"
      ]
     },
     "execution_count": 71,
     "metadata": {},
     "output_type": "execute_result"
    }
   ],
   "source": [
    "# set the 'date' as index ...\n",
    "TS = TS.set_index('date')\n",
    "TS.head()"
   ]
  },
  {
   "cell_type": "code",
   "execution_count": 72,
   "id": "1195640c",
   "metadata": {},
   "outputs": [],
   "source": [
    "# TS analysis steps ...\n",
    "# 1. Reading the TS into pandas DataFrame.\n",
    "# 2. Converting the date column into datetime format.\n",
    "# 3. Setting the date column to the index."
   ]
  },
  {
   "cell_type": "code",
   "execution_count": 77,
   "id": "d0bb0e62",
   "metadata": {},
   "outputs": [
    {
     "data": {
      "text/html": [
       "<div>\n",
       "<style scoped>\n",
       "    .dataframe tbody tr th:only-of-type {\n",
       "        vertical-align: middle;\n",
       "    }\n",
       "\n",
       "    .dataframe tbody tr th {\n",
       "        vertical-align: top;\n",
       "    }\n",
       "\n",
       "    .dataframe thead th {\n",
       "        text-align: right;\n",
       "    }\n",
       "</style>\n",
       "<table border=\"1\" class=\"dataframe\">\n",
       "  <thead>\n",
       "    <tr style=\"text-align: right;\">\n",
       "      <th></th>\n",
       "      <th>google</th>\n",
       "      <th>apple</th>\n",
       "    </tr>\n",
       "    <tr>\n",
       "      <th>date</th>\n",
       "      <th></th>\n",
       "      <th></th>\n",
       "    </tr>\n",
       "  </thead>\n",
       "  <tbody>\n",
       "    <tr>\n",
       "      <th>2019-04-30</th>\n",
       "      <td>2410.12</td>\n",
       "      <td>131.24</td>\n",
       "    </tr>\n",
       "    <tr>\n",
       "      <th>2019-05-29</th>\n",
       "      <td>2429.89</td>\n",
       "      <td>133.25</td>\n",
       "    </tr>\n",
       "    <tr>\n",
       "      <th>2019-06-28</th>\n",
       "      <td>2379.91</td>\n",
       "      <td>133.35</td>\n",
       "    </tr>\n",
       "  </tbody>\n",
       "</table>\n",
       "</div>"
      ],
      "text/plain": [
       "             google   apple\n",
       "date                       \n",
       "2019-04-30  2410.12  131.24\n",
       "2019-05-29  2429.89  133.25\n",
       "2019-06-28  2379.91  133.35"
      ]
     },
     "execution_count": 77,
     "metadata": {},
     "output_type": "execute_result"
    }
   ],
   "source": [
    "# The three (03) steps in one line code ...\n",
    "TS = pd.read_csv('data/ex15.csv',\n",
    "                 parse_dates =['date'],\n",
    "                 index_col = 'date')\n",
    "\n",
    "TS.head(3)"
   ]
  },
  {
   "cell_type": "code",
   "execution_count": 87,
   "id": "0e77db0b",
   "metadata": {},
   "outputs": [
    {
     "data": {
      "text/html": [
       "<div>\n",
       "<style scoped>\n",
       "    .dataframe tbody tr th:only-of-type {\n",
       "        vertical-align: middle;\n",
       "    }\n",
       "\n",
       "    .dataframe tbody tr th {\n",
       "        vertical-align: top;\n",
       "    }\n",
       "\n",
       "    .dataframe thead th {\n",
       "        text-align: right;\n",
       "    }\n",
       "</style>\n",
       "<table border=\"1\" class=\"dataframe\">\n",
       "  <thead>\n",
       "    <tr style=\"text-align: right;\">\n",
       "      <th></th>\n",
       "      <th>google</th>\n",
       "      <th>apple</th>\n",
       "    </tr>\n",
       "    <tr>\n",
       "      <th>date</th>\n",
       "      <th></th>\n",
       "      <th></th>\n",
       "    </tr>\n",
       "  </thead>\n",
       "  <tbody>\n",
       "    <tr>\n",
       "      <th>2021-04-20</th>\n",
       "      <td>2293.63</td>\n",
       "      <td>132.88</td>\n",
       "    </tr>\n",
       "    <tr>\n",
       "      <th>2021-05-30</th>\n",
       "      <td>2410.12</td>\n",
       "      <td>131.24</td>\n",
       "    </tr>\n",
       "    <tr>\n",
       "      <th>2021-06-29</th>\n",
       "      <td>2429.89</td>\n",
       "      <td>133.25</td>\n",
       "    </tr>\n",
       "    <tr>\n",
       "      <th>2021-07-28</th>\n",
       "      <td>2379.91</td>\n",
       "      <td>133.35</td>\n",
       "    </tr>\n",
       "    <tr>\n",
       "      <th>2021-04-27</th>\n",
       "      <td>2307.12</td>\n",
       "      <td>134.16</td>\n",
       "    </tr>\n",
       "  </tbody>\n",
       "</table>\n",
       "</div>"
      ],
      "text/plain": [
       "             google   apple\n",
       "date                       \n",
       "2021-04-20  2293.63  132.88\n",
       "2021-05-30  2410.12  131.24\n",
       "2021-06-29  2429.89  133.25\n",
       "2021-07-28  2379.91  133.35\n",
       "2021-04-27  2307.12  134.16"
      ]
     },
     "execution_count": 87,
     "metadata": {},
     "output_type": "execute_result"
    }
   ],
   "source": [
    "# Select a specific data in the 'TS' ...\n",
    "TS.loc['2021'] # TS.loc['2021-04'] "
   ]
  },
  {
   "cell_type": "code",
   "execution_count": 88,
   "id": "eef11717",
   "metadata": {},
   "outputs": [
    {
     "name": "stderr",
     "output_type": "stream",
     "text": [
      "C:\\Users\\xps\\AppData\\Local\\Temp\\ipykernel_19144\\111852787.py:2: FutureWarning: Value based partial slicing on non-monotonic DatetimeIndexes with non-existing keys is deprecated and will raise a KeyError in a future Version.\n",
      "  TS.loc['2019':'2021']\n"
     ]
    },
    {
     "data": {
      "text/html": [
       "<div>\n",
       "<style scoped>\n",
       "    .dataframe tbody tr th:only-of-type {\n",
       "        vertical-align: middle;\n",
       "    }\n",
       "\n",
       "    .dataframe tbody tr th {\n",
       "        vertical-align: top;\n",
       "    }\n",
       "\n",
       "    .dataframe thead th {\n",
       "        text-align: right;\n",
       "    }\n",
       "</style>\n",
       "<table border=\"1\" class=\"dataframe\">\n",
       "  <thead>\n",
       "    <tr style=\"text-align: right;\">\n",
       "      <th></th>\n",
       "      <th>google</th>\n",
       "      <th>apple</th>\n",
       "    </tr>\n",
       "    <tr>\n",
       "      <th>date</th>\n",
       "      <th></th>\n",
       "      <th></th>\n",
       "    </tr>\n",
       "  </thead>\n",
       "  <tbody>\n",
       "    <tr>\n",
       "      <th>2019-04-30</th>\n",
       "      <td>2410.12</td>\n",
       "      <td>131.24</td>\n",
       "    </tr>\n",
       "    <tr>\n",
       "      <th>2019-05-29</th>\n",
       "      <td>2429.89</td>\n",
       "      <td>133.25</td>\n",
       "    </tr>\n",
       "    <tr>\n",
       "      <th>2019-06-28</th>\n",
       "      <td>2379.91</td>\n",
       "      <td>133.35</td>\n",
       "    </tr>\n",
       "    <tr>\n",
       "      <th>2019-07-27</th>\n",
       "      <td>2307.12</td>\n",
       "      <td>134.16</td>\n",
       "    </tr>\n",
       "    <tr>\n",
       "      <th>2020-04-26</th>\n",
       "      <td>2326.74</td>\n",
       "      <td>134.49</td>\n",
       "    </tr>\n",
       "    <tr>\n",
       "      <th>2020-05-23</th>\n",
       "      <td>2315.30</td>\n",
       "      <td>134.09</td>\n",
       "    </tr>\n",
       "    <tr>\n",
       "      <th>2020-06-24</th>\n",
       "      <td>2267.92</td>\n",
       "      <td>131.72</td>\n",
       "    </tr>\n",
       "    <tr>\n",
       "      <th>2020-07-20</th>\n",
       "      <td>2293.29</td>\n",
       "      <td>133.27</td>\n",
       "    </tr>\n",
       "    <tr>\n",
       "      <th>2021-04-20</th>\n",
       "      <td>2293.63</td>\n",
       "      <td>132.88</td>\n",
       "    </tr>\n",
       "    <tr>\n",
       "      <th>2021-05-30</th>\n",
       "      <td>2410.12</td>\n",
       "      <td>131.24</td>\n",
       "    </tr>\n",
       "    <tr>\n",
       "      <th>2021-06-29</th>\n",
       "      <td>2429.89</td>\n",
       "      <td>133.25</td>\n",
       "    </tr>\n",
       "    <tr>\n",
       "      <th>2021-07-28</th>\n",
       "      <td>2379.91</td>\n",
       "      <td>133.35</td>\n",
       "    </tr>\n",
       "    <tr>\n",
       "      <th>2021-04-27</th>\n",
       "      <td>2307.12</td>\n",
       "      <td>134.16</td>\n",
       "    </tr>\n",
       "  </tbody>\n",
       "</table>\n",
       "</div>"
      ],
      "text/plain": [
       "             google   apple\n",
       "date                       \n",
       "2019-04-30  2410.12  131.24\n",
       "2019-05-29  2429.89  133.25\n",
       "2019-06-28  2379.91  133.35\n",
       "2019-07-27  2307.12  134.16\n",
       "2020-04-26  2326.74  134.49\n",
       "2020-05-23  2315.30  134.09\n",
       "2020-06-24  2267.92  131.72\n",
       "2020-07-20  2293.29  133.27\n",
       "2021-04-20  2293.63  132.88\n",
       "2021-05-30  2410.12  131.24\n",
       "2021-06-29  2429.89  133.25\n",
       "2021-07-28  2379.91  133.35\n",
       "2021-04-27  2307.12  134.16"
      ]
     },
     "execution_count": 88,
     "metadata": {},
     "output_type": "execute_result"
    }
   ],
   "source": [
    "#\n",
    "TS.loc['2019':'2021'] # TS.loc[:'2021'] "
   ]
  },
  {
   "cell_type": "code",
   "execution_count": 89,
   "id": "43a2e13e",
   "metadata": {},
   "outputs": [
    {
     "data": {
      "text/plain": [
       "True"
      ]
     },
     "execution_count": 89,
     "metadata": {},
     "output_type": "execute_result"
    }
   ],
   "source": [
    "# Check for duplicate date ...\n",
    "TS.index.is_unique"
   ]
  },
  {
   "cell_type": "markdown",
   "id": "d0ad985d",
   "metadata": {},
   "source": [
    "# 4. Generating Date Ranges"
   ]
  },
  {
   "cell_type": "code",
   "execution_count": 90,
   "id": "20d76c1e",
   "metadata": {},
   "outputs": [],
   "source": [
    "# How to \"generate date ranges\" from TS.\n",
    "# Sometimes, you need to create your own date index:\n",
    "            # To add a date index for a dataset without one.\n",
    "            # To replace an old date index with a new one."
   ]
  },
  {
   "cell_type": "code",
   "execution_count": 91,
   "id": "a45ff46f",
   "metadata": {},
   "outputs": [
    {
     "data": {
      "text/html": [
       "<div>\n",
       "<style scoped>\n",
       "    .dataframe tbody tr th:only-of-type {\n",
       "        vertical-align: middle;\n",
       "    }\n",
       "\n",
       "    .dataframe tbody tr th {\n",
       "        vertical-align: top;\n",
       "    }\n",
       "\n",
       "    .dataframe thead th {\n",
       "        text-align: right;\n",
       "    }\n",
       "</style>\n",
       "<table border=\"1\" class=\"dataframe\">\n",
       "  <thead>\n",
       "    <tr style=\"text-align: right;\">\n",
       "      <th></th>\n",
       "      <th>google</th>\n",
       "      <th>apple</th>\n",
       "    </tr>\n",
       "  </thead>\n",
       "  <tbody>\n",
       "    <tr>\n",
       "      <th>0</th>\n",
       "      <td>2410.12</td>\n",
       "      <td>131.24</td>\n",
       "    </tr>\n",
       "    <tr>\n",
       "      <th>1</th>\n",
       "      <td>2429.89</td>\n",
       "      <td>133.25</td>\n",
       "    </tr>\n",
       "    <tr>\n",
       "      <th>2</th>\n",
       "      <td>2379.91</td>\n",
       "      <td>133.35</td>\n",
       "    </tr>\n",
       "    <tr>\n",
       "      <th>3</th>\n",
       "      <td>2307.12</td>\n",
       "      <td>134.16</td>\n",
       "    </tr>\n",
       "    <tr>\n",
       "      <th>4</th>\n",
       "      <td>2326.74</td>\n",
       "      <td>134.49</td>\n",
       "    </tr>\n",
       "    <tr>\n",
       "      <th>5</th>\n",
       "      <td>2315.30</td>\n",
       "      <td>134.09</td>\n",
       "    </tr>\n",
       "    <tr>\n",
       "      <th>6</th>\n",
       "      <td>2267.92</td>\n",
       "      <td>131.72</td>\n",
       "    </tr>\n",
       "    <tr>\n",
       "      <th>7</th>\n",
       "      <td>2293.29</td>\n",
       "      <td>133.27</td>\n",
       "    </tr>\n",
       "    <tr>\n",
       "      <th>8</th>\n",
       "      <td>2293.63</td>\n",
       "      <td>132.88</td>\n",
       "    </tr>\n",
       "    <tr>\n",
       "      <th>9</th>\n",
       "      <td>2410.12</td>\n",
       "      <td>131.24</td>\n",
       "    </tr>\n",
       "    <tr>\n",
       "      <th>10</th>\n",
       "      <td>2429.89</td>\n",
       "      <td>133.25</td>\n",
       "    </tr>\n",
       "    <tr>\n",
       "      <th>11</th>\n",
       "      <td>2379.91</td>\n",
       "      <td>133.35</td>\n",
       "    </tr>\n",
       "    <tr>\n",
       "      <th>12</th>\n",
       "      <td>2307.12</td>\n",
       "      <td>134.16</td>\n",
       "    </tr>\n",
       "    <tr>\n",
       "      <th>13</th>\n",
       "      <td>2326.74</td>\n",
       "      <td>134.49</td>\n",
       "    </tr>\n",
       "    <tr>\n",
       "      <th>14</th>\n",
       "      <td>2315.30</td>\n",
       "      <td>134.09</td>\n",
       "    </tr>\n",
       "  </tbody>\n",
       "</table>\n",
       "</div>"
      ],
      "text/plain": [
       "     google   apple\n",
       "0   2410.12  131.24\n",
       "1   2429.89  133.25\n",
       "2   2379.91  133.35\n",
       "3   2307.12  134.16\n",
       "4   2326.74  134.49\n",
       "5   2315.30  134.09\n",
       "6   2267.92  131.72\n",
       "7   2293.29  133.27\n",
       "8   2293.63  132.88\n",
       "9   2410.12  131.24\n",
       "10  2429.89  133.25\n",
       "11  2379.91  133.35\n",
       "12  2307.12  134.16\n",
       "13  2326.74  134.49\n",
       "14  2315.30  134.09"
      ]
     },
     "execution_count": 91,
     "metadata": {},
     "output_type": "execute_result"
    }
   ],
   "source": [
    "df = pd.read_csv('data/ex16.csv')\n",
    "df"
   ]
  },
  {
   "cell_type": "code",
   "execution_count": 92,
   "id": "be75e54b",
   "metadata": {},
   "outputs": [
    {
     "data": {
      "text/plain": [
       "DatetimeIndex(['2020-05-01', '2020-05-02', '2020-05-03', '2020-05-04',\n",
       "               '2020-05-05', '2020-05-06', '2020-05-07', '2020-05-08',\n",
       "               '2020-05-09', '2020-05-10', '2020-05-11', '2020-05-12',\n",
       "               '2020-05-13', '2020-05-14', '2020-05-15'],\n",
       "              dtype='datetime64[ns]', freq='D')"
      ]
     },
     "execution_count": 92,
     "metadata": {},
     "output_type": "execute_result"
    }
   ],
   "source": [
    "# Adding an index to the DF ...\n",
    "index = pd.date_range(start='2020-05-01', end='2020-05-15') #,periods=15\n",
    "index"
   ]
  },
  {
   "cell_type": "code",
   "execution_count": 93,
   "id": "55b5dc4f",
   "metadata": {},
   "outputs": [
    {
     "data": {
      "text/html": [
       "<div>\n",
       "<style scoped>\n",
       "    .dataframe tbody tr th:only-of-type {\n",
       "        vertical-align: middle;\n",
       "    }\n",
       "\n",
       "    .dataframe tbody tr th {\n",
       "        vertical-align: top;\n",
       "    }\n",
       "\n",
       "    .dataframe thead th {\n",
       "        text-align: right;\n",
       "    }\n",
       "</style>\n",
       "<table border=\"1\" class=\"dataframe\">\n",
       "  <thead>\n",
       "    <tr style=\"text-align: right;\">\n",
       "      <th></th>\n",
       "      <th>google</th>\n",
       "      <th>apple</th>\n",
       "    </tr>\n",
       "  </thead>\n",
       "  <tbody>\n",
       "    <tr>\n",
       "      <th>2020-05-01</th>\n",
       "      <td>2410.12</td>\n",
       "      <td>131.24</td>\n",
       "    </tr>\n",
       "    <tr>\n",
       "      <th>2020-05-02</th>\n",
       "      <td>2429.89</td>\n",
       "      <td>133.25</td>\n",
       "    </tr>\n",
       "    <tr>\n",
       "      <th>2020-05-03</th>\n",
       "      <td>2379.91</td>\n",
       "      <td>133.35</td>\n",
       "    </tr>\n",
       "    <tr>\n",
       "      <th>2020-05-04</th>\n",
       "      <td>2307.12</td>\n",
       "      <td>134.16</td>\n",
       "    </tr>\n",
       "    <tr>\n",
       "      <th>2020-05-05</th>\n",
       "      <td>2326.74</td>\n",
       "      <td>134.49</td>\n",
       "    </tr>\n",
       "    <tr>\n",
       "      <th>2020-05-06</th>\n",
       "      <td>2315.30</td>\n",
       "      <td>134.09</td>\n",
       "    </tr>\n",
       "    <tr>\n",
       "      <th>2020-05-07</th>\n",
       "      <td>2267.92</td>\n",
       "      <td>131.72</td>\n",
       "    </tr>\n",
       "    <tr>\n",
       "      <th>2020-05-08</th>\n",
       "      <td>2293.29</td>\n",
       "      <td>133.27</td>\n",
       "    </tr>\n",
       "    <tr>\n",
       "      <th>2020-05-09</th>\n",
       "      <td>2293.63</td>\n",
       "      <td>132.88</td>\n",
       "    </tr>\n",
       "    <tr>\n",
       "      <th>2020-05-10</th>\n",
       "      <td>2410.12</td>\n",
       "      <td>131.24</td>\n",
       "    </tr>\n",
       "    <tr>\n",
       "      <th>2020-05-11</th>\n",
       "      <td>2429.89</td>\n",
       "      <td>133.25</td>\n",
       "    </tr>\n",
       "    <tr>\n",
       "      <th>2020-05-12</th>\n",
       "      <td>2379.91</td>\n",
       "      <td>133.35</td>\n",
       "    </tr>\n",
       "    <tr>\n",
       "      <th>2020-05-13</th>\n",
       "      <td>2307.12</td>\n",
       "      <td>134.16</td>\n",
       "    </tr>\n",
       "    <tr>\n",
       "      <th>2020-05-14</th>\n",
       "      <td>2326.74</td>\n",
       "      <td>134.49</td>\n",
       "    </tr>\n",
       "    <tr>\n",
       "      <th>2020-05-15</th>\n",
       "      <td>2315.30</td>\n",
       "      <td>134.09</td>\n",
       "    </tr>\n",
       "  </tbody>\n",
       "</table>\n",
       "</div>"
      ],
      "text/plain": [
       "             google   apple\n",
       "2020-05-01  2410.12  131.24\n",
       "2020-05-02  2429.89  133.25\n",
       "2020-05-03  2379.91  133.35\n",
       "2020-05-04  2307.12  134.16\n",
       "2020-05-05  2326.74  134.49\n",
       "2020-05-06  2315.30  134.09\n",
       "2020-05-07  2267.92  131.72\n",
       "2020-05-08  2293.29  133.27\n",
       "2020-05-09  2293.63  132.88\n",
       "2020-05-10  2410.12  131.24\n",
       "2020-05-11  2429.89  133.25\n",
       "2020-05-12  2379.91  133.35\n",
       "2020-05-13  2307.12  134.16\n",
       "2020-05-14  2326.74  134.49\n",
       "2020-05-15  2315.30  134.09"
      ]
     },
     "execution_count": 93,
     "metadata": {},
     "output_type": "execute_result"
    }
   ],
   "source": [
    "# Add/set the index to the TS ...\n",
    "TS = df.set_index(index)\n",
    "TS"
   ]
  },
  {
   "cell_type": "code",
   "execution_count": 95,
   "id": "9b5d02bb",
   "metadata": {},
   "outputs": [
    {
     "data": {
      "text/plain": [
       "DatetimeIndex(['2020-01-31', '2020-02-28', '2020-03-31', '2020-04-30',\n",
       "               '2020-05-29', '2020-06-30', '2020-07-31', '2020-08-31',\n",
       "               '2020-09-30', '2020-10-30', '2020-11-30', '2020-12-31'],\n",
       "              dtype='datetime64[ns]', freq='BM')"
      ]
     },
     "execution_count": 95,
     "metadata": {},
     "output_type": "execute_result"
    }
   ],
   "source": [
    "# By last day month business (BM) ...\n",
    "index_last = pd.date_range('2020-01-01',\n",
    "                           '2020-12-31',\n",
    "                           freq='BM')\n",
    "index_last"
   ]
  },
  {
   "cell_type": "code",
   "execution_count": 100,
   "id": "57ed82b6",
   "metadata": {},
   "outputs": [
    {
     "data": {
      "text/plain": [
       "DatetimeIndex(['2020-01-01', '2020-01-02', '2020-01-03', '2020-01-06',\n",
       "               '2020-01-07', '2020-01-08', '2020-01-09', '2020-01-10',\n",
       "               '2020-01-13', '2020-01-14', '2020-01-15', '2020-01-16',\n",
       "               '2020-01-17', '2020-01-20', '2020-01-21', '2020-01-22',\n",
       "               '2020-01-23', '2020-01-24', '2020-01-27', '2020-01-28',\n",
       "               '2020-01-29', '2020-01-30', '2020-01-31'],\n",
       "              dtype='datetime64[ns]', freq='B')"
      ]
     },
     "execution_count": 100,
     "metadata": {},
     "output_type": "execute_result"
    }
   ],
   "source": [
    "# By day month business (B) ...\n",
    "index_BD = pd.date_range('2020-01-01',\n",
    "                           '2020-01-31',\n",
    "                           freq='B')\n",
    "index_BD"
   ]
  },
  {
   "cell_type": "code",
   "execution_count": 101,
   "id": "cfcbd201",
   "metadata": {},
   "outputs": [
    {
     "data": {
      "text/plain": [
       "DatetimeIndex(['2020-01-01 00:00:00', '2020-01-01 04:00:00',\n",
       "               '2020-01-01 08:00:00', '2020-01-01 12:00:00',\n",
       "               '2020-01-01 16:00:00', '2020-01-01 20:00:00',\n",
       "               '2020-01-02 00:00:00'],\n",
       "              dtype='datetime64[ns]', freq='4H')"
      ]
     },
     "execution_count": 101,
     "metadata": {},
     "output_type": "execute_result"
    }
   ],
   "source": [
    "# By hours business (4h) ...\n",
    "index_4h = pd.date_range('2020-01-01',\n",
    "                         '2020-01-02',\n",
    "                         freq='4h')\n",
    "index_4h"
   ]
  },
  {
   "cell_type": "code",
   "execution_count": 103,
   "id": "bddcc321",
   "metadata": {},
   "outputs": [
    {
     "data": {
      "text/plain": [
       "DatetimeIndex(['2020-01-01 00:00:00', '2020-01-01 01:30:00',\n",
       "               '2020-01-01 03:00:00', '2020-01-01 04:30:00',\n",
       "               '2020-01-01 06:00:00', '2020-01-01 07:30:00',\n",
       "               '2020-01-01 09:00:00', '2020-01-01 10:30:00',\n",
       "               '2020-01-01 12:00:00', '2020-01-01 13:30:00',\n",
       "               '2020-01-01 15:00:00', '2020-01-01 16:30:00',\n",
       "               '2020-01-01 18:00:00', '2020-01-01 19:30:00',\n",
       "               '2020-01-01 21:00:00', '2020-01-01 22:30:00',\n",
       "               '2020-01-02 00:00:00'],\n",
       "              dtype='datetime64[ns]', freq='90T')"
      ]
     },
     "execution_count": 103,
     "metadata": {},
     "output_type": "execute_result"
    }
   ],
   "source": [
    "# By set the hours of business (1h30min) ...\n",
    "index_1h30 = pd.date_range('2020-01-01',\n",
    "                          '2020-01-02',\n",
    "                          freq='1h30min')\n",
    "index_1h30"
   ]
  },
  {
   "cell_type": "code",
   "execution_count": 105,
   "id": "e3392cec",
   "metadata": {},
   "outputs": [
    {
     "data": {
      "text/plain": [
       "DatetimeIndex(['2020-01-17', '2020-02-21', '2020-03-20', '2020-04-17',\n",
       "               '2020-05-15', '2020-06-19', '2020-07-17', '2020-08-21',\n",
       "               '2020-09-18', '2020-10-16', '2020-11-20', '2020-12-18'],\n",
       "              dtype='datetime64[ns]', freq='WOM-3FRI')"
      ]
     },
     "execution_count": 105,
     "metadata": {},
     "output_type": "execute_result"
    }
   ],
   "source": [
    "# By set the Week-Of_month (WOF) business (Every week end Business) ...\n",
    "index_WOM = pd.date_range('2020-01-01',\n",
    "                          '2020-12-31',\n",
    "                          freq='WOM-3FRI') # 3FRI: 3rd Week Friday\n",
    "index_WOM"
   ]
  },
  {
   "cell_type": "markdown",
   "id": "1ee7ff83",
   "metadata": {},
   "source": [
    "# "
   ]
  },
  {
   "cell_type": "markdown",
   "id": "a81139d2",
   "metadata": {},
   "source": [
    "# 5. Shifting Data Through Time (Lagging and Leading)"
   ]
  },
  {
   "cell_type": "code",
   "execution_count": 106,
   "id": "a66e6c0a",
   "metadata": {},
   "outputs": [],
   "source": [
    "# Data shifting: refers to moving data backward and forward through time while leaving the date index unchanged.\n",
    "\n",
    "# Shifting data backward is called 'lagging'.\n",
    "# Shifting data forward is called 'leading'.\n",
    "\n",
    "# Shifting data in TS introduces missing values.\n",
    "# When 'shifting backward', the missing values will be at the 'start' of the TS.\n",
    "# When 'shifting forward', the missing values will be at the 'end' of the TS."
   ]
  },
  {
   "cell_type": "code",
   "execution_count": 108,
   "id": "5146c757",
   "metadata": {},
   "outputs": [
    {
     "data": {
      "text/html": [
       "<div>\n",
       "<style scoped>\n",
       "    .dataframe tbody tr th:only-of-type {\n",
       "        vertical-align: middle;\n",
       "    }\n",
       "\n",
       "    .dataframe tbody tr th {\n",
       "        vertical-align: top;\n",
       "    }\n",
       "\n",
       "    .dataframe thead th {\n",
       "        text-align: right;\n",
       "    }\n",
       "</style>\n",
       "<table border=\"1\" class=\"dataframe\">\n",
       "  <thead>\n",
       "    <tr style=\"text-align: right;\">\n",
       "      <th></th>\n",
       "      <th>apple</th>\n",
       "    </tr>\n",
       "    <tr>\n",
       "      <th>date</th>\n",
       "      <th></th>\n",
       "    </tr>\n",
       "  </thead>\n",
       "  <tbody>\n",
       "    <tr>\n",
       "      <th>2019-04-01</th>\n",
       "      <td>131.24</td>\n",
       "    </tr>\n",
       "    <tr>\n",
       "      <th>2019-04-02</th>\n",
       "      <td>133.25</td>\n",
       "    </tr>\n",
       "    <tr>\n",
       "      <th>2019-04-03</th>\n",
       "      <td>133.35</td>\n",
       "    </tr>\n",
       "    <tr>\n",
       "      <th>2019-04-04</th>\n",
       "      <td>134.16</td>\n",
       "    </tr>\n",
       "    <tr>\n",
       "      <th>2019-04-05</th>\n",
       "      <td>134.49</td>\n",
       "    </tr>\n",
       "    <tr>\n",
       "      <th>2019-04-06</th>\n",
       "      <td>134.09</td>\n",
       "    </tr>\n",
       "    <tr>\n",
       "      <th>2019-04-07</th>\n",
       "      <td>131.72</td>\n",
       "    </tr>\n",
       "    <tr>\n",
       "      <th>2019-04-08</th>\n",
       "      <td>133.27</td>\n",
       "    </tr>\n",
       "    <tr>\n",
       "      <th>2019-04-09</th>\n",
       "      <td>132.88</td>\n",
       "    </tr>\n",
       "    <tr>\n",
       "      <th>2019-04-10</th>\n",
       "      <td>131.24</td>\n",
       "    </tr>\n",
       "    <tr>\n",
       "      <th>2019-04-11</th>\n",
       "      <td>133.25</td>\n",
       "    </tr>\n",
       "    <tr>\n",
       "      <th>2019-04-12</th>\n",
       "      <td>133.35</td>\n",
       "    </tr>\n",
       "    <tr>\n",
       "      <th>2019-04-13</th>\n",
       "      <td>134.16</td>\n",
       "    </tr>\n",
       "    <tr>\n",
       "      <th>2019-04-14</th>\n",
       "      <td>134.49</td>\n",
       "    </tr>\n",
       "    <tr>\n",
       "      <th>2019-04-15</th>\n",
       "      <td>134.09</td>\n",
       "    </tr>\n",
       "    <tr>\n",
       "      <th>2019-04-16</th>\n",
       "      <td>131.72</td>\n",
       "    </tr>\n",
       "  </tbody>\n",
       "</table>\n",
       "</div>"
      ],
      "text/plain": [
       "             apple\n",
       "date              \n",
       "2019-04-01  131.24\n",
       "2019-04-02  133.25\n",
       "2019-04-03  133.35\n",
       "2019-04-04  134.16\n",
       "2019-04-05  134.49\n",
       "2019-04-06  134.09\n",
       "2019-04-07  131.72\n",
       "2019-04-08  133.27\n",
       "2019-04-09  132.88\n",
       "2019-04-10  131.24\n",
       "2019-04-11  133.25\n",
       "2019-04-12  133.35\n",
       "2019-04-13  134.16\n",
       "2019-04-14  134.49\n",
       "2019-04-15  134.09\n",
       "2019-04-16  131.72"
      ]
     },
     "execution_count": 108,
     "metadata": {},
     "output_type": "execute_result"
    }
   ],
   "source": [
    "ts = pd.read_csv('data/ex17.csv',\n",
    "                 index_col='date',\n",
    "                 parse_dates=True)\n",
    "ts"
   ]
  },
  {
   "cell_type": "code",
   "execution_count": 111,
   "id": "ecc0001e",
   "metadata": {},
   "outputs": [
    {
     "data": {
      "text/html": [
       "<div>\n",
       "<style scoped>\n",
       "    .dataframe tbody tr th:only-of-type {\n",
       "        vertical-align: middle;\n",
       "    }\n",
       "\n",
       "    .dataframe tbody tr th {\n",
       "        vertical-align: top;\n",
       "    }\n",
       "\n",
       "    .dataframe thead th {\n",
       "        text-align: right;\n",
       "    }\n",
       "</style>\n",
       "<table border=\"1\" class=\"dataframe\">\n",
       "  <thead>\n",
       "    <tr style=\"text-align: right;\">\n",
       "      <th></th>\n",
       "      <th>apple</th>\n",
       "    </tr>\n",
       "    <tr>\n",
       "      <th>date</th>\n",
       "      <th></th>\n",
       "    </tr>\n",
       "  </thead>\n",
       "  <tbody>\n",
       "    <tr>\n",
       "      <th>2019-04-01</th>\n",
       "      <td>NaN</td>\n",
       "    </tr>\n",
       "    <tr>\n",
       "      <th>2019-04-02</th>\n",
       "      <td>131.24</td>\n",
       "    </tr>\n",
       "    <tr>\n",
       "      <th>2019-04-03</th>\n",
       "      <td>133.25</td>\n",
       "    </tr>\n",
       "    <tr>\n",
       "      <th>2019-04-04</th>\n",
       "      <td>133.35</td>\n",
       "    </tr>\n",
       "    <tr>\n",
       "      <th>2019-04-05</th>\n",
       "      <td>134.16</td>\n",
       "    </tr>\n",
       "    <tr>\n",
       "      <th>2019-04-06</th>\n",
       "      <td>134.49</td>\n",
       "    </tr>\n",
       "    <tr>\n",
       "      <th>2019-04-07</th>\n",
       "      <td>134.09</td>\n",
       "    </tr>\n",
       "    <tr>\n",
       "      <th>2019-04-08</th>\n",
       "      <td>131.72</td>\n",
       "    </tr>\n",
       "    <tr>\n",
       "      <th>2019-04-09</th>\n",
       "      <td>133.27</td>\n",
       "    </tr>\n",
       "    <tr>\n",
       "      <th>2019-04-10</th>\n",
       "      <td>132.88</td>\n",
       "    </tr>\n",
       "    <tr>\n",
       "      <th>2019-04-11</th>\n",
       "      <td>131.24</td>\n",
       "    </tr>\n",
       "    <tr>\n",
       "      <th>2019-04-12</th>\n",
       "      <td>133.25</td>\n",
       "    </tr>\n",
       "    <tr>\n",
       "      <th>2019-04-13</th>\n",
       "      <td>133.35</td>\n",
       "    </tr>\n",
       "    <tr>\n",
       "      <th>2019-04-14</th>\n",
       "      <td>134.16</td>\n",
       "    </tr>\n",
       "    <tr>\n",
       "      <th>2019-04-15</th>\n",
       "      <td>134.49</td>\n",
       "    </tr>\n",
       "    <tr>\n",
       "      <th>2019-04-16</th>\n",
       "      <td>134.09</td>\n",
       "    </tr>\n",
       "  </tbody>\n",
       "</table>\n",
       "</div>"
      ],
      "text/plain": [
       "             apple\n",
       "date              \n",
       "2019-04-01     NaN\n",
       "2019-04-02  131.24\n",
       "2019-04-03  133.25\n",
       "2019-04-04  133.35\n",
       "2019-04-05  134.16\n",
       "2019-04-06  134.49\n",
       "2019-04-07  134.09\n",
       "2019-04-08  131.72\n",
       "2019-04-09  133.27\n",
       "2019-04-10  132.88\n",
       "2019-04-11  131.24\n",
       "2019-04-12  133.25\n",
       "2019-04-13  133.35\n",
       "2019-04-14  134.16\n",
       "2019-04-15  134.49\n",
       "2019-04-16  134.09"
      ]
     },
     "execution_count": 111,
     "metadata": {},
     "output_type": "execute_result"
    }
   ],
   "source": [
    "# shift the price one day backward ...\n",
    "ts.shift(periods=1) # 1 means one day shift"
   ]
  },
  {
   "cell_type": "code",
   "execution_count": 112,
   "id": "1f2cb68b",
   "metadata": {},
   "outputs": [
    {
     "data": {
      "text/html": [
       "<div>\n",
       "<style scoped>\n",
       "    .dataframe tbody tr th:only-of-type {\n",
       "        vertical-align: middle;\n",
       "    }\n",
       "\n",
       "    .dataframe tbody tr th {\n",
       "        vertical-align: top;\n",
       "    }\n",
       "\n",
       "    .dataframe thead th {\n",
       "        text-align: right;\n",
       "    }\n",
       "</style>\n",
       "<table border=\"1\" class=\"dataframe\">\n",
       "  <thead>\n",
       "    <tr style=\"text-align: right;\">\n",
       "      <th></th>\n",
       "      <th>apple</th>\n",
       "    </tr>\n",
       "    <tr>\n",
       "      <th>date</th>\n",
       "      <th></th>\n",
       "    </tr>\n",
       "  </thead>\n",
       "  <tbody>\n",
       "    <tr>\n",
       "      <th>2019-04-01</th>\n",
       "      <td>NaN</td>\n",
       "    </tr>\n",
       "    <tr>\n",
       "      <th>2019-04-02</th>\n",
       "      <td>NaN</td>\n",
       "    </tr>\n",
       "    <tr>\n",
       "      <th>2019-04-03</th>\n",
       "      <td>NaN</td>\n",
       "    </tr>\n",
       "    <tr>\n",
       "      <th>2019-04-04</th>\n",
       "      <td>131.24</td>\n",
       "    </tr>\n",
       "    <tr>\n",
       "      <th>2019-04-05</th>\n",
       "      <td>133.25</td>\n",
       "    </tr>\n",
       "    <tr>\n",
       "      <th>2019-04-06</th>\n",
       "      <td>133.35</td>\n",
       "    </tr>\n",
       "    <tr>\n",
       "      <th>2019-04-07</th>\n",
       "      <td>134.16</td>\n",
       "    </tr>\n",
       "    <tr>\n",
       "      <th>2019-04-08</th>\n",
       "      <td>134.49</td>\n",
       "    </tr>\n",
       "    <tr>\n",
       "      <th>2019-04-09</th>\n",
       "      <td>134.09</td>\n",
       "    </tr>\n",
       "    <tr>\n",
       "      <th>2019-04-10</th>\n",
       "      <td>131.72</td>\n",
       "    </tr>\n",
       "    <tr>\n",
       "      <th>2019-04-11</th>\n",
       "      <td>133.27</td>\n",
       "    </tr>\n",
       "    <tr>\n",
       "      <th>2019-04-12</th>\n",
       "      <td>132.88</td>\n",
       "    </tr>\n",
       "    <tr>\n",
       "      <th>2019-04-13</th>\n",
       "      <td>131.24</td>\n",
       "    </tr>\n",
       "    <tr>\n",
       "      <th>2019-04-14</th>\n",
       "      <td>133.25</td>\n",
       "    </tr>\n",
       "    <tr>\n",
       "      <th>2019-04-15</th>\n",
       "      <td>133.35</td>\n",
       "    </tr>\n",
       "    <tr>\n",
       "      <th>2019-04-16</th>\n",
       "      <td>134.16</td>\n",
       "    </tr>\n",
       "  </tbody>\n",
       "</table>\n",
       "</div>"
      ],
      "text/plain": [
       "             apple\n",
       "date              \n",
       "2019-04-01     NaN\n",
       "2019-04-02     NaN\n",
       "2019-04-03     NaN\n",
       "2019-04-04  131.24\n",
       "2019-04-05  133.25\n",
       "2019-04-06  133.35\n",
       "2019-04-07  134.16\n",
       "2019-04-08  134.49\n",
       "2019-04-09  134.09\n",
       "2019-04-10  131.72\n",
       "2019-04-11  133.27\n",
       "2019-04-12  132.88\n",
       "2019-04-13  131.24\n",
       "2019-04-14  133.25\n",
       "2019-04-15  133.35\n",
       "2019-04-16  134.16"
      ]
     },
     "execution_count": 112,
     "metadata": {},
     "output_type": "execute_result"
    }
   ],
   "source": [
    "# shift the price one day backward ...\n",
    "ts.shift(periods=3) # 3 means one three shift"
   ]
  },
  {
   "cell_type": "code",
   "execution_count": 113,
   "id": "17207fd9",
   "metadata": {},
   "outputs": [
    {
     "data": {
      "text/html": [
       "<div>\n",
       "<style scoped>\n",
       "    .dataframe tbody tr th:only-of-type {\n",
       "        vertical-align: middle;\n",
       "    }\n",
       "\n",
       "    .dataframe tbody tr th {\n",
       "        vertical-align: top;\n",
       "    }\n",
       "\n",
       "    .dataframe thead th {\n",
       "        text-align: right;\n",
       "    }\n",
       "</style>\n",
       "<table border=\"1\" class=\"dataframe\">\n",
       "  <thead>\n",
       "    <tr style=\"text-align: right;\">\n",
       "      <th></th>\n",
       "      <th>apple</th>\n",
       "    </tr>\n",
       "    <tr>\n",
       "      <th>date</th>\n",
       "      <th></th>\n",
       "    </tr>\n",
       "  </thead>\n",
       "  <tbody>\n",
       "    <tr>\n",
       "      <th>2019-04-01</th>\n",
       "      <td>133.25</td>\n",
       "    </tr>\n",
       "    <tr>\n",
       "      <th>2019-04-02</th>\n",
       "      <td>133.35</td>\n",
       "    </tr>\n",
       "    <tr>\n",
       "      <th>2019-04-03</th>\n",
       "      <td>134.16</td>\n",
       "    </tr>\n",
       "    <tr>\n",
       "      <th>2019-04-04</th>\n",
       "      <td>134.49</td>\n",
       "    </tr>\n",
       "    <tr>\n",
       "      <th>2019-04-05</th>\n",
       "      <td>134.09</td>\n",
       "    </tr>\n",
       "    <tr>\n",
       "      <th>2019-04-06</th>\n",
       "      <td>131.72</td>\n",
       "    </tr>\n",
       "    <tr>\n",
       "      <th>2019-04-07</th>\n",
       "      <td>133.27</td>\n",
       "    </tr>\n",
       "    <tr>\n",
       "      <th>2019-04-08</th>\n",
       "      <td>132.88</td>\n",
       "    </tr>\n",
       "    <tr>\n",
       "      <th>2019-04-09</th>\n",
       "      <td>131.24</td>\n",
       "    </tr>\n",
       "    <tr>\n",
       "      <th>2019-04-10</th>\n",
       "      <td>133.25</td>\n",
       "    </tr>\n",
       "    <tr>\n",
       "      <th>2019-04-11</th>\n",
       "      <td>133.35</td>\n",
       "    </tr>\n",
       "    <tr>\n",
       "      <th>2019-04-12</th>\n",
       "      <td>134.16</td>\n",
       "    </tr>\n",
       "    <tr>\n",
       "      <th>2019-04-13</th>\n",
       "      <td>134.49</td>\n",
       "    </tr>\n",
       "    <tr>\n",
       "      <th>2019-04-14</th>\n",
       "      <td>134.09</td>\n",
       "    </tr>\n",
       "    <tr>\n",
       "      <th>2019-04-15</th>\n",
       "      <td>131.72</td>\n",
       "    </tr>\n",
       "    <tr>\n",
       "      <th>2019-04-16</th>\n",
       "      <td>NaN</td>\n",
       "    </tr>\n",
       "  </tbody>\n",
       "</table>\n",
       "</div>"
      ],
      "text/plain": [
       "             apple\n",
       "date              \n",
       "2019-04-01  133.25\n",
       "2019-04-02  133.35\n",
       "2019-04-03  134.16\n",
       "2019-04-04  134.49\n",
       "2019-04-05  134.09\n",
       "2019-04-06  131.72\n",
       "2019-04-07  133.27\n",
       "2019-04-08  132.88\n",
       "2019-04-09  131.24\n",
       "2019-04-10  133.25\n",
       "2019-04-11  133.35\n",
       "2019-04-12  134.16\n",
       "2019-04-13  134.49\n",
       "2019-04-14  134.09\n",
       "2019-04-15  131.72\n",
       "2019-04-16     NaN"
      ]
     },
     "execution_count": 113,
     "metadata": {},
     "output_type": "execute_result"
    }
   ],
   "source": [
    "# shift the price one day forwardward ...\n",
    "ts.shift(periods= -1) # -1 means one day shift"
   ]
  },
  {
   "cell_type": "code",
   "execution_count": 115,
   "id": "2a78dd4c",
   "metadata": {},
   "outputs": [
    {
     "data": {
      "text/html": [
       "<div>\n",
       "<style scoped>\n",
       "    .dataframe tbody tr th:only-of-type {\n",
       "        vertical-align: middle;\n",
       "    }\n",
       "\n",
       "    .dataframe tbody tr th {\n",
       "        vertical-align: top;\n",
       "    }\n",
       "\n",
       "    .dataframe thead th {\n",
       "        text-align: right;\n",
       "    }\n",
       "</style>\n",
       "<table border=\"1\" class=\"dataframe\">\n",
       "  <thead>\n",
       "    <tr style=\"text-align: right;\">\n",
       "      <th></th>\n",
       "      <th>apple</th>\n",
       "      <th>lag1</th>\n",
       "    </tr>\n",
       "    <tr>\n",
       "      <th>date</th>\n",
       "      <th></th>\n",
       "      <th></th>\n",
       "    </tr>\n",
       "  </thead>\n",
       "  <tbody>\n",
       "    <tr>\n",
       "      <th>2019-04-01</th>\n",
       "      <td>131.24</td>\n",
       "      <td>NaN</td>\n",
       "    </tr>\n",
       "    <tr>\n",
       "      <th>2019-04-02</th>\n",
       "      <td>133.25</td>\n",
       "      <td>131.24</td>\n",
       "    </tr>\n",
       "    <tr>\n",
       "      <th>2019-04-03</th>\n",
       "      <td>133.35</td>\n",
       "      <td>133.25</td>\n",
       "    </tr>\n",
       "    <tr>\n",
       "      <th>2019-04-04</th>\n",
       "      <td>134.16</td>\n",
       "      <td>133.35</td>\n",
       "    </tr>\n",
       "    <tr>\n",
       "      <th>2019-04-05</th>\n",
       "      <td>134.49</td>\n",
       "      <td>134.16</td>\n",
       "    </tr>\n",
       "    <tr>\n",
       "      <th>2019-04-06</th>\n",
       "      <td>134.09</td>\n",
       "      <td>134.49</td>\n",
       "    </tr>\n",
       "    <tr>\n",
       "      <th>2019-04-07</th>\n",
       "      <td>131.72</td>\n",
       "      <td>134.09</td>\n",
       "    </tr>\n",
       "    <tr>\n",
       "      <th>2019-04-08</th>\n",
       "      <td>133.27</td>\n",
       "      <td>131.72</td>\n",
       "    </tr>\n",
       "    <tr>\n",
       "      <th>2019-04-09</th>\n",
       "      <td>132.88</td>\n",
       "      <td>133.27</td>\n",
       "    </tr>\n",
       "    <tr>\n",
       "      <th>2019-04-10</th>\n",
       "      <td>131.24</td>\n",
       "      <td>132.88</td>\n",
       "    </tr>\n",
       "    <tr>\n",
       "      <th>2019-04-11</th>\n",
       "      <td>133.25</td>\n",
       "      <td>131.24</td>\n",
       "    </tr>\n",
       "    <tr>\n",
       "      <th>2019-04-12</th>\n",
       "      <td>133.35</td>\n",
       "      <td>133.25</td>\n",
       "    </tr>\n",
       "    <tr>\n",
       "      <th>2019-04-13</th>\n",
       "      <td>134.16</td>\n",
       "      <td>133.35</td>\n",
       "    </tr>\n",
       "    <tr>\n",
       "      <th>2019-04-14</th>\n",
       "      <td>134.49</td>\n",
       "      <td>134.16</td>\n",
       "    </tr>\n",
       "    <tr>\n",
       "      <th>2019-04-15</th>\n",
       "      <td>134.09</td>\n",
       "      <td>134.49</td>\n",
       "    </tr>\n",
       "    <tr>\n",
       "      <th>2019-04-16</th>\n",
       "      <td>131.72</td>\n",
       "      <td>134.09</td>\n",
       "    </tr>\n",
       "  </tbody>\n",
       "</table>\n",
       "</div>"
      ],
      "text/plain": [
       "             apple    lag1\n",
       "date                      \n",
       "2019-04-01  131.24     NaN\n",
       "2019-04-02  133.25  131.24\n",
       "2019-04-03  133.35  133.25\n",
       "2019-04-04  134.16  133.35\n",
       "2019-04-05  134.49  134.16\n",
       "2019-04-06  134.09  134.49\n",
       "2019-04-07  131.72  134.09\n",
       "2019-04-08  133.27  131.72\n",
       "2019-04-09  132.88  133.27\n",
       "2019-04-10  131.24  132.88\n",
       "2019-04-11  133.25  131.24\n",
       "2019-04-12  133.35  133.25\n",
       "2019-04-13  134.16  133.35\n",
       "2019-04-14  134.49  134.16\n",
       "2019-04-15  134.09  134.49\n",
       "2019-04-16  131.72  134.09"
      ]
     },
     "execution_count": 115,
     "metadata": {},
     "output_type": "execute_result"
    }
   ],
   "source": [
    "# Create another column to help us in forcasting the future of Business ...\n",
    "ts['lag1'] = ts['apple'].shift(1)\n",
    "ts"
   ]
  },
  {
   "cell_type": "code",
   "execution_count": 117,
   "id": "16981065",
   "metadata": {},
   "outputs": [
    {
     "data": {
      "text/html": [
       "<div>\n",
       "<style scoped>\n",
       "    .dataframe tbody tr th:only-of-type {\n",
       "        vertical-align: middle;\n",
       "    }\n",
       "\n",
       "    .dataframe tbody tr th {\n",
       "        vertical-align: top;\n",
       "    }\n",
       "\n",
       "    .dataframe thead th {\n",
       "        text-align: right;\n",
       "    }\n",
       "</style>\n",
       "<table border=\"1\" class=\"dataframe\">\n",
       "  <thead>\n",
       "    <tr style=\"text-align: right;\">\n",
       "      <th></th>\n",
       "      <th>apple</th>\n",
       "      <th>lag1</th>\n",
       "    </tr>\n",
       "    <tr>\n",
       "      <th>date</th>\n",
       "      <th></th>\n",
       "      <th></th>\n",
       "    </tr>\n",
       "  </thead>\n",
       "  <tbody>\n",
       "    <tr>\n",
       "      <th>2019-04-02</th>\n",
       "      <td>133.25</td>\n",
       "      <td>131.24</td>\n",
       "    </tr>\n",
       "    <tr>\n",
       "      <th>2019-04-03</th>\n",
       "      <td>133.35</td>\n",
       "      <td>133.25</td>\n",
       "    </tr>\n",
       "    <tr>\n",
       "      <th>2019-04-04</th>\n",
       "      <td>134.16</td>\n",
       "      <td>133.35</td>\n",
       "    </tr>\n",
       "    <tr>\n",
       "      <th>2019-04-05</th>\n",
       "      <td>134.49</td>\n",
       "      <td>134.16</td>\n",
       "    </tr>\n",
       "    <tr>\n",
       "      <th>2019-04-06</th>\n",
       "      <td>134.09</td>\n",
       "      <td>134.49</td>\n",
       "    </tr>\n",
       "    <tr>\n",
       "      <th>2019-04-07</th>\n",
       "      <td>131.72</td>\n",
       "      <td>134.09</td>\n",
       "    </tr>\n",
       "    <tr>\n",
       "      <th>2019-04-08</th>\n",
       "      <td>133.27</td>\n",
       "      <td>131.72</td>\n",
       "    </tr>\n",
       "    <tr>\n",
       "      <th>2019-04-09</th>\n",
       "      <td>132.88</td>\n",
       "      <td>133.27</td>\n",
       "    </tr>\n",
       "    <tr>\n",
       "      <th>2019-04-10</th>\n",
       "      <td>131.24</td>\n",
       "      <td>132.88</td>\n",
       "    </tr>\n",
       "    <tr>\n",
       "      <th>2019-04-11</th>\n",
       "      <td>133.25</td>\n",
       "      <td>131.24</td>\n",
       "    </tr>\n",
       "    <tr>\n",
       "      <th>2019-04-12</th>\n",
       "      <td>133.35</td>\n",
       "      <td>133.25</td>\n",
       "    </tr>\n",
       "    <tr>\n",
       "      <th>2019-04-13</th>\n",
       "      <td>134.16</td>\n",
       "      <td>133.35</td>\n",
       "    </tr>\n",
       "    <tr>\n",
       "      <th>2019-04-14</th>\n",
       "      <td>134.49</td>\n",
       "      <td>134.16</td>\n",
       "    </tr>\n",
       "    <tr>\n",
       "      <th>2019-04-15</th>\n",
       "      <td>134.09</td>\n",
       "      <td>134.49</td>\n",
       "    </tr>\n",
       "    <tr>\n",
       "      <th>2019-04-16</th>\n",
       "      <td>131.72</td>\n",
       "      <td>134.09</td>\n",
       "    </tr>\n",
       "  </tbody>\n",
       "</table>\n",
       "</div>"
      ],
      "text/plain": [
       "             apple    lag1\n",
       "date                      \n",
       "2019-04-02  133.25  131.24\n",
       "2019-04-03  133.35  133.25\n",
       "2019-04-04  134.16  133.35\n",
       "2019-04-05  134.49  134.16\n",
       "2019-04-06  134.09  134.49\n",
       "2019-04-07  131.72  134.09\n",
       "2019-04-08  133.27  131.72\n",
       "2019-04-09  132.88  133.27\n",
       "2019-04-10  131.24  132.88\n",
       "2019-04-11  133.25  131.24\n",
       "2019-04-12  133.35  133.25\n",
       "2019-04-13  134.16  133.35\n",
       "2019-04-14  134.49  134.16\n",
       "2019-04-15  134.09  134.49\n",
       "2019-04-16  131.72  134.09"
      ]
     },
     "execution_count": 117,
     "metadata": {},
     "output_type": "execute_result"
    }
   ],
   "source": [
    "# Delete the missing values ...\n",
    "ts.dropna(inplace=True)\n",
    "ts"
   ]
  },
  {
   "cell_type": "code",
   "execution_count": 118,
   "id": "8996b03d",
   "metadata": {},
   "outputs": [
    {
     "data": {
      "text/html": [
       "<div>\n",
       "<style scoped>\n",
       "    .dataframe tbody tr th:only-of-type {\n",
       "        vertical-align: middle;\n",
       "    }\n",
       "\n",
       "    .dataframe tbody tr th {\n",
       "        vertical-align: top;\n",
       "    }\n",
       "\n",
       "    .dataframe thead th {\n",
       "        text-align: right;\n",
       "    }\n",
       "</style>\n",
       "<table border=\"1\" class=\"dataframe\">\n",
       "  <thead>\n",
       "    <tr style=\"text-align: right;\">\n",
       "      <th></th>\n",
       "      <th>apple</th>\n",
       "      <th>lag1</th>\n",
       "      <th>percent change</th>\n",
       "    </tr>\n",
       "    <tr>\n",
       "      <th>date</th>\n",
       "      <th></th>\n",
       "      <th></th>\n",
       "      <th></th>\n",
       "    </tr>\n",
       "  </thead>\n",
       "  <tbody>\n",
       "    <tr>\n",
       "      <th>2019-04-02</th>\n",
       "      <td>133.25</td>\n",
       "      <td>131.24</td>\n",
       "      <td>NaN</td>\n",
       "    </tr>\n",
       "    <tr>\n",
       "      <th>2019-04-03</th>\n",
       "      <td>133.35</td>\n",
       "      <td>133.25</td>\n",
       "      <td>1.000750</td>\n",
       "    </tr>\n",
       "    <tr>\n",
       "      <th>2019-04-04</th>\n",
       "      <td>134.16</td>\n",
       "      <td>133.35</td>\n",
       "      <td>1.006074</td>\n",
       "    </tr>\n",
       "    <tr>\n",
       "      <th>2019-04-05</th>\n",
       "      <td>134.49</td>\n",
       "      <td>134.16</td>\n",
       "      <td>1.002460</td>\n",
       "    </tr>\n",
       "    <tr>\n",
       "      <th>2019-04-06</th>\n",
       "      <td>134.09</td>\n",
       "      <td>134.49</td>\n",
       "      <td>0.997026</td>\n",
       "    </tr>\n",
       "    <tr>\n",
       "      <th>2019-04-07</th>\n",
       "      <td>131.72</td>\n",
       "      <td>134.09</td>\n",
       "      <td>0.982325</td>\n",
       "    </tr>\n",
       "    <tr>\n",
       "      <th>2019-04-08</th>\n",
       "      <td>133.27</td>\n",
       "      <td>131.72</td>\n",
       "      <td>1.011767</td>\n",
       "    </tr>\n",
       "    <tr>\n",
       "      <th>2019-04-09</th>\n",
       "      <td>132.88</td>\n",
       "      <td>133.27</td>\n",
       "      <td>0.997074</td>\n",
       "    </tr>\n",
       "    <tr>\n",
       "      <th>2019-04-10</th>\n",
       "      <td>131.24</td>\n",
       "      <td>132.88</td>\n",
       "      <td>0.987658</td>\n",
       "    </tr>\n",
       "    <tr>\n",
       "      <th>2019-04-11</th>\n",
       "      <td>133.25</td>\n",
       "      <td>131.24</td>\n",
       "      <td>1.015315</td>\n",
       "    </tr>\n",
       "    <tr>\n",
       "      <th>2019-04-12</th>\n",
       "      <td>133.35</td>\n",
       "      <td>133.25</td>\n",
       "      <td>1.000750</td>\n",
       "    </tr>\n",
       "    <tr>\n",
       "      <th>2019-04-13</th>\n",
       "      <td>134.16</td>\n",
       "      <td>133.35</td>\n",
       "      <td>1.006074</td>\n",
       "    </tr>\n",
       "    <tr>\n",
       "      <th>2019-04-14</th>\n",
       "      <td>134.49</td>\n",
       "      <td>134.16</td>\n",
       "      <td>1.002460</td>\n",
       "    </tr>\n",
       "    <tr>\n",
       "      <th>2019-04-15</th>\n",
       "      <td>134.09</td>\n",
       "      <td>134.49</td>\n",
       "      <td>0.997026</td>\n",
       "    </tr>\n",
       "    <tr>\n",
       "      <th>2019-04-16</th>\n",
       "      <td>131.72</td>\n",
       "      <td>134.09</td>\n",
       "      <td>0.982325</td>\n",
       "    </tr>\n",
       "  </tbody>\n",
       "</table>\n",
       "</div>"
      ],
      "text/plain": [
       "             apple    lag1  percent change\n",
       "date                                      \n",
       "2019-04-02  133.25  131.24             NaN\n",
       "2019-04-03  133.35  133.25        1.000750\n",
       "2019-04-04  134.16  133.35        1.006074\n",
       "2019-04-05  134.49  134.16        1.002460\n",
       "2019-04-06  134.09  134.49        0.997026\n",
       "2019-04-07  131.72  134.09        0.982325\n",
       "2019-04-08  133.27  131.72        1.011767\n",
       "2019-04-09  132.88  133.27        0.997074\n",
       "2019-04-10  131.24  132.88        0.987658\n",
       "2019-04-11  133.25  131.24        1.015315\n",
       "2019-04-12  133.35  133.25        1.000750\n",
       "2019-04-13  134.16  133.35        1.006074\n",
       "2019-04-14  134.49  134.16        1.002460\n",
       "2019-04-15  134.09  134.49        0.997026\n",
       "2019-04-16  131.72  134.09        0.982325"
      ]
     },
     "execution_count": 118,
     "metadata": {},
     "output_type": "execute_result"
    }
   ],
   "source": [
    "#\n",
    "ts['percent change'] = (ts['apple']/ts['apple'].shift(1))\n",
    "ts"
   ]
  },
  {
   "cell_type": "code",
   "execution_count": 119,
   "id": "36157c77",
   "metadata": {},
   "outputs": [
    {
     "data": {
      "text/html": [
       "<div>\n",
       "<style scoped>\n",
       "    .dataframe tbody tr th:only-of-type {\n",
       "        vertical-align: middle;\n",
       "    }\n",
       "\n",
       "    .dataframe tbody tr th {\n",
       "        vertical-align: top;\n",
       "    }\n",
       "\n",
       "    .dataframe thead th {\n",
       "        text-align: right;\n",
       "    }\n",
       "</style>\n",
       "<table border=\"1\" class=\"dataframe\">\n",
       "  <thead>\n",
       "    <tr style=\"text-align: right;\">\n",
       "      <th></th>\n",
       "      <th>apple</th>\n",
       "      <th>lag1</th>\n",
       "      <th>percent change</th>\n",
       "    </tr>\n",
       "    <tr>\n",
       "      <th>date</th>\n",
       "      <th></th>\n",
       "      <th></th>\n",
       "      <th></th>\n",
       "    </tr>\n",
       "  </thead>\n",
       "  <tbody>\n",
       "    <tr>\n",
       "      <th>2019-04-03</th>\n",
       "      <td>133.35</td>\n",
       "      <td>133.25</td>\n",
       "      <td>1.000750</td>\n",
       "    </tr>\n",
       "    <tr>\n",
       "      <th>2019-04-04</th>\n",
       "      <td>134.16</td>\n",
       "      <td>133.35</td>\n",
       "      <td>1.006074</td>\n",
       "    </tr>\n",
       "    <tr>\n",
       "      <th>2019-04-05</th>\n",
       "      <td>134.49</td>\n",
       "      <td>134.16</td>\n",
       "      <td>1.002460</td>\n",
       "    </tr>\n",
       "    <tr>\n",
       "      <th>2019-04-06</th>\n",
       "      <td>134.09</td>\n",
       "      <td>134.49</td>\n",
       "      <td>0.997026</td>\n",
       "    </tr>\n",
       "    <tr>\n",
       "      <th>2019-04-07</th>\n",
       "      <td>131.72</td>\n",
       "      <td>134.09</td>\n",
       "      <td>0.982325</td>\n",
       "    </tr>\n",
       "    <tr>\n",
       "      <th>2019-04-08</th>\n",
       "      <td>133.27</td>\n",
       "      <td>131.72</td>\n",
       "      <td>1.011767</td>\n",
       "    </tr>\n",
       "    <tr>\n",
       "      <th>2019-04-09</th>\n",
       "      <td>132.88</td>\n",
       "      <td>133.27</td>\n",
       "      <td>0.997074</td>\n",
       "    </tr>\n",
       "    <tr>\n",
       "      <th>2019-04-10</th>\n",
       "      <td>131.24</td>\n",
       "      <td>132.88</td>\n",
       "      <td>0.987658</td>\n",
       "    </tr>\n",
       "    <tr>\n",
       "      <th>2019-04-11</th>\n",
       "      <td>133.25</td>\n",
       "      <td>131.24</td>\n",
       "      <td>1.015315</td>\n",
       "    </tr>\n",
       "    <tr>\n",
       "      <th>2019-04-12</th>\n",
       "      <td>133.35</td>\n",
       "      <td>133.25</td>\n",
       "      <td>1.000750</td>\n",
       "    </tr>\n",
       "    <tr>\n",
       "      <th>2019-04-13</th>\n",
       "      <td>134.16</td>\n",
       "      <td>133.35</td>\n",
       "      <td>1.006074</td>\n",
       "    </tr>\n",
       "    <tr>\n",
       "      <th>2019-04-14</th>\n",
       "      <td>134.49</td>\n",
       "      <td>134.16</td>\n",
       "      <td>1.002460</td>\n",
       "    </tr>\n",
       "    <tr>\n",
       "      <th>2019-04-15</th>\n",
       "      <td>134.09</td>\n",
       "      <td>134.49</td>\n",
       "      <td>0.997026</td>\n",
       "    </tr>\n",
       "    <tr>\n",
       "      <th>2019-04-16</th>\n",
       "      <td>131.72</td>\n",
       "      <td>134.09</td>\n",
       "      <td>0.982325</td>\n",
       "    </tr>\n",
       "  </tbody>\n",
       "</table>\n",
       "</div>"
      ],
      "text/plain": [
       "             apple    lag1  percent change\n",
       "date                                      \n",
       "2019-04-03  133.35  133.25        1.000750\n",
       "2019-04-04  134.16  133.35        1.006074\n",
       "2019-04-05  134.49  134.16        1.002460\n",
       "2019-04-06  134.09  134.49        0.997026\n",
       "2019-04-07  131.72  134.09        0.982325\n",
       "2019-04-08  133.27  131.72        1.011767\n",
       "2019-04-09  132.88  133.27        0.997074\n",
       "2019-04-10  131.24  132.88        0.987658\n",
       "2019-04-11  133.25  131.24        1.015315\n",
       "2019-04-12  133.35  133.25        1.000750\n",
       "2019-04-13  134.16  133.35        1.006074\n",
       "2019-04-14  134.49  134.16        1.002460\n",
       "2019-04-15  134.09  134.49        0.997026\n",
       "2019-04-16  131.72  134.09        0.982325"
      ]
     },
     "execution_count": 119,
     "metadata": {},
     "output_type": "execute_result"
    }
   ],
   "source": [
    "# Delete the missing values ...\n",
    "ts.dropna(inplace=True)\n",
    "ts"
   ]
  },
  {
   "cell_type": "markdown",
   "id": "69b183a0",
   "metadata": {},
   "source": [
    "# "
   ]
  },
  {
   "cell_type": "markdown",
   "id": "13c7eb42",
   "metadata": {},
   "source": [
    "# 6. Handling Time Zone"
   ]
  },
  {
   "cell_type": "code",
   "execution_count": 120,
   "id": "24f5c4ef",
   "metadata": {},
   "outputs": [],
   "source": [
    "# Often the collection of TS data is related to regions.\n",
    "# It is essential to be able to identify the time zone.\n",
    "# To be able to convert between time zones."
   ]
  },
  {
   "cell_type": "code",
   "execution_count": 122,
   "id": "591c1be8",
   "metadata": {},
   "outputs": [],
   "source": [
    "# import libraries ...\n",
    "import pytz # python time zone"
   ]
  },
  {
   "cell_type": "code",
   "execution_count": 123,
   "id": "1f45a275",
   "metadata": {},
   "outputs": [
    {
     "data": {
      "text/plain": [
       "['Africa/Abidjan', 'Africa/Accra', 'Africa/Addis_Ababa', 'Africa/Algiers', 'Africa/Asmara', 'Africa/Bamako', 'Africa/Bangui', 'Africa/Banjul', 'Africa/Bissau', 'Africa/Blantyre', 'Africa/Brazzaville', 'Africa/Bujumbura', 'Africa/Cairo', 'Africa/Casablanca', 'Africa/Ceuta', 'Africa/Conakry', 'Africa/Dakar', 'Africa/Dar_es_Salaam', 'Africa/Djibouti', 'Africa/Douala', 'Africa/El_Aaiun', 'Africa/Freetown', 'Africa/Gaborone', 'Africa/Harare', 'Africa/Johannesburg', 'Africa/Juba', 'Africa/Kampala', 'Africa/Khartoum', 'Africa/Kigali', 'Africa/Kinshasa', 'Africa/Lagos', 'Africa/Libreville', 'Africa/Lome', 'Africa/Luanda', 'Africa/Lubumbashi', 'Africa/Lusaka', 'Africa/Malabo', 'Africa/Maputo', 'Africa/Maseru', 'Africa/Mbabane', 'Africa/Mogadishu', 'Africa/Monrovia', 'Africa/Nairobi', 'Africa/Ndjamena', 'Africa/Niamey', 'Africa/Nouakchott', 'Africa/Ouagadougou', 'Africa/Porto-Novo', 'Africa/Sao_Tome', 'Africa/Tripoli', 'Africa/Tunis', 'Africa/Windhoek', 'America/Adak', 'America/Anchorage', 'America/Anguilla', 'America/Antigua', 'America/Araguaina', 'America/Argentina/Buenos_Aires', 'America/Argentina/Catamarca', 'America/Argentina/Cordoba', 'America/Argentina/Jujuy', 'America/Argentina/La_Rioja', 'America/Argentina/Mendoza', 'America/Argentina/Rio_Gallegos', 'America/Argentina/Salta', 'America/Argentina/San_Juan', 'America/Argentina/San_Luis', 'America/Argentina/Tucuman', 'America/Argentina/Ushuaia', 'America/Aruba', 'America/Asuncion', 'America/Atikokan', 'America/Bahia', 'America/Bahia_Banderas', 'America/Barbados', 'America/Belem', 'America/Belize', 'America/Blanc-Sablon', 'America/Boa_Vista', 'America/Bogota', 'America/Boise', 'America/Cambridge_Bay', 'America/Campo_Grande', 'America/Cancun', 'America/Caracas', 'America/Cayenne', 'America/Cayman', 'America/Chicago', 'America/Chihuahua', 'America/Costa_Rica', 'America/Creston', 'America/Cuiaba', 'America/Curacao', 'America/Danmarkshavn', 'America/Dawson', 'America/Dawson_Creek', 'America/Denver', 'America/Detroit', 'America/Dominica', 'America/Edmonton', 'America/Eirunepe', 'America/El_Salvador', 'America/Fort_Nelson', 'America/Fortaleza', 'America/Glace_Bay', 'America/Goose_Bay', 'America/Grand_Turk', 'America/Grenada', 'America/Guadeloupe', 'America/Guatemala', 'America/Guayaquil', 'America/Guyana', 'America/Halifax', 'America/Havana', 'America/Hermosillo', 'America/Indiana/Indianapolis', 'America/Indiana/Knox', 'America/Indiana/Marengo', 'America/Indiana/Petersburg', 'America/Indiana/Tell_City', 'America/Indiana/Vevay', 'America/Indiana/Vincennes', 'America/Indiana/Winamac', 'America/Inuvik', 'America/Iqaluit', 'America/Jamaica', 'America/Juneau', 'America/Kentucky/Louisville', 'America/Kentucky/Monticello', 'America/Kralendijk', 'America/La_Paz', 'America/Lima', 'America/Los_Angeles', 'America/Lower_Princes', 'America/Maceio', 'America/Managua', 'America/Manaus', 'America/Marigot', 'America/Martinique', 'America/Matamoros', 'America/Mazatlan', 'America/Menominee', 'America/Merida', 'America/Metlakatla', 'America/Mexico_City', 'America/Miquelon', 'America/Moncton', 'America/Monterrey', 'America/Montevideo', 'America/Montserrat', 'America/Nassau', 'America/New_York', 'America/Nipigon', 'America/Nome', 'America/Noronha', 'America/North_Dakota/Beulah', 'America/North_Dakota/Center', 'America/North_Dakota/New_Salem', 'America/Nuuk', 'America/Ojinaga', 'America/Panama', 'America/Pangnirtung', 'America/Paramaribo', 'America/Phoenix', 'America/Port-au-Prince', 'America/Port_of_Spain', 'America/Porto_Velho', 'America/Puerto_Rico', 'America/Punta_Arenas', 'America/Rainy_River', 'America/Rankin_Inlet', 'America/Recife', 'America/Regina', 'America/Resolute', 'America/Rio_Branco', 'America/Santarem', 'America/Santiago', 'America/Santo_Domingo', 'America/Sao_Paulo', 'America/Scoresbysund', 'America/Sitka', 'America/St_Barthelemy', 'America/St_Johns', 'America/St_Kitts', 'America/St_Lucia', 'America/St_Thomas', 'America/St_Vincent', 'America/Swift_Current', 'America/Tegucigalpa', 'America/Thule', 'America/Thunder_Bay', 'America/Tijuana', 'America/Toronto', 'America/Tortola', 'America/Vancouver', 'America/Whitehorse', 'America/Winnipeg', 'America/Yakutat', 'America/Yellowknife', 'Antarctica/Casey', 'Antarctica/Davis', 'Antarctica/DumontDUrville', 'Antarctica/Macquarie', 'Antarctica/Mawson', 'Antarctica/McMurdo', 'Antarctica/Palmer', 'Antarctica/Rothera', 'Antarctica/Syowa', 'Antarctica/Troll', 'Antarctica/Vostok', 'Arctic/Longyearbyen', 'Asia/Aden', 'Asia/Almaty', 'Asia/Amman', 'Asia/Anadyr', 'Asia/Aqtau', 'Asia/Aqtobe', 'Asia/Ashgabat', 'Asia/Atyrau', 'Asia/Baghdad', 'Asia/Bahrain', 'Asia/Baku', 'Asia/Bangkok', 'Asia/Barnaul', 'Asia/Beirut', 'Asia/Bishkek', 'Asia/Brunei', 'Asia/Chita', 'Asia/Choibalsan', 'Asia/Colombo', 'Asia/Damascus', 'Asia/Dhaka', 'Asia/Dili', 'Asia/Dubai', 'Asia/Dushanbe', 'Asia/Famagusta', 'Asia/Gaza', 'Asia/Hebron', 'Asia/Ho_Chi_Minh', 'Asia/Hong_Kong', 'Asia/Hovd', 'Asia/Irkutsk', 'Asia/Jakarta', 'Asia/Jayapura', 'Asia/Jerusalem', 'Asia/Kabul', 'Asia/Kamchatka', 'Asia/Karachi', 'Asia/Kathmandu', 'Asia/Khandyga', 'Asia/Kolkata', 'Asia/Krasnoyarsk', 'Asia/Kuala_Lumpur', 'Asia/Kuching', 'Asia/Kuwait', 'Asia/Macau', 'Asia/Magadan', 'Asia/Makassar', 'Asia/Manila', 'Asia/Muscat', 'Asia/Nicosia', 'Asia/Novokuznetsk', 'Asia/Novosibirsk', 'Asia/Omsk', 'Asia/Oral', 'Asia/Phnom_Penh', 'Asia/Pontianak', 'Asia/Pyongyang', 'Asia/Qatar', 'Asia/Qostanay', 'Asia/Qyzylorda', 'Asia/Riyadh', 'Asia/Sakhalin', 'Asia/Samarkand', 'Asia/Seoul', 'Asia/Shanghai', 'Asia/Singapore', 'Asia/Srednekolymsk', 'Asia/Taipei', 'Asia/Tashkent', 'Asia/Tbilisi', 'Asia/Tehran', 'Asia/Thimphu', 'Asia/Tokyo', 'Asia/Tomsk', 'Asia/Ulaanbaatar', 'Asia/Urumqi', 'Asia/Ust-Nera', 'Asia/Vientiane', 'Asia/Vladivostok', 'Asia/Yakutsk', 'Asia/Yangon', 'Asia/Yekaterinburg', 'Asia/Yerevan', 'Atlantic/Azores', 'Atlantic/Bermuda', 'Atlantic/Canary', 'Atlantic/Cape_Verde', 'Atlantic/Faroe', 'Atlantic/Madeira', 'Atlantic/Reykjavik', 'Atlantic/South_Georgia', 'Atlantic/St_Helena', 'Atlantic/Stanley', 'Australia/Adelaide', 'Australia/Brisbane', 'Australia/Broken_Hill', 'Australia/Darwin', 'Australia/Eucla', 'Australia/Hobart', 'Australia/Lindeman', 'Australia/Lord_Howe', 'Australia/Melbourne', 'Australia/Perth', 'Australia/Sydney', 'Canada/Atlantic', 'Canada/Central', 'Canada/Eastern', 'Canada/Mountain', 'Canada/Newfoundland', 'Canada/Pacific', 'Europe/Amsterdam', 'Europe/Andorra', 'Europe/Astrakhan', 'Europe/Athens', 'Europe/Belgrade', 'Europe/Berlin', 'Europe/Bratislava', 'Europe/Brussels', 'Europe/Bucharest', 'Europe/Budapest', 'Europe/Busingen', 'Europe/Chisinau', 'Europe/Copenhagen', 'Europe/Dublin', 'Europe/Gibraltar', 'Europe/Guernsey', 'Europe/Helsinki', 'Europe/Isle_of_Man', 'Europe/Istanbul', 'Europe/Jersey', 'Europe/Kaliningrad', 'Europe/Kiev', 'Europe/Kirov', 'Europe/Lisbon', 'Europe/Ljubljana', 'Europe/London', 'Europe/Luxembourg', 'Europe/Madrid', 'Europe/Malta', 'Europe/Mariehamn', 'Europe/Minsk', 'Europe/Monaco', 'Europe/Moscow', 'Europe/Oslo', 'Europe/Paris', 'Europe/Podgorica', 'Europe/Prague', 'Europe/Riga', 'Europe/Rome', 'Europe/Samara', 'Europe/San_Marino', 'Europe/Sarajevo', 'Europe/Saratov', 'Europe/Simferopol', 'Europe/Skopje', 'Europe/Sofia', 'Europe/Stockholm', 'Europe/Tallinn', 'Europe/Tirane', 'Europe/Ulyanovsk', 'Europe/Uzhgorod', 'Europe/Vaduz', 'Europe/Vatican', 'Europe/Vienna', 'Europe/Vilnius', 'Europe/Volgograd', 'Europe/Warsaw', 'Europe/Zagreb', 'Europe/Zaporozhye', 'Europe/Zurich', 'GMT', 'Indian/Antananarivo', 'Indian/Chagos', 'Indian/Christmas', 'Indian/Cocos', 'Indian/Comoro', 'Indian/Kerguelen', 'Indian/Mahe', 'Indian/Maldives', 'Indian/Mauritius', 'Indian/Mayotte', 'Indian/Reunion', 'Pacific/Apia', 'Pacific/Auckland', 'Pacific/Bougainville', 'Pacific/Chatham', 'Pacific/Chuuk', 'Pacific/Easter', 'Pacific/Efate', 'Pacific/Fakaofo', 'Pacific/Fiji', 'Pacific/Funafuti', 'Pacific/Galapagos', 'Pacific/Gambier', 'Pacific/Guadalcanal', 'Pacific/Guam', 'Pacific/Honolulu', 'Pacific/Kanton', 'Pacific/Kiritimati', 'Pacific/Kosrae', 'Pacific/Kwajalein', 'Pacific/Majuro', 'Pacific/Marquesas', 'Pacific/Midway', 'Pacific/Nauru', 'Pacific/Niue', 'Pacific/Norfolk', 'Pacific/Noumea', 'Pacific/Pago_Pago', 'Pacific/Palau', 'Pacific/Pitcairn', 'Pacific/Pohnpei', 'Pacific/Port_Moresby', 'Pacific/Rarotonga', 'Pacific/Saipan', 'Pacific/Tahiti', 'Pacific/Tarawa', 'Pacific/Tongatapu', 'Pacific/Wake', 'Pacific/Wallis', 'US/Alaska', 'US/Arizona', 'US/Central', 'US/Eastern', 'US/Hawaii', 'US/Mountain', 'US/Pacific', 'UTC']"
      ]
     },
     "execution_count": 123,
     "metadata": {},
     "output_type": "execute_result"
    }
   ],
   "source": [
    "#\n",
    "pytz.common_timezones"
   ]
  },
  {
   "cell_type": "code",
   "execution_count": 124,
   "id": "371aa3a1",
   "metadata": {},
   "outputs": [
    {
     "data": {
      "text/plain": [
       "DatetimeIndex(['2021-07-01 13:30:00', '2021-07-01 14:30:00',\n",
       "               '2021-07-01 15:30:00', '2021-07-01 16:30:00',\n",
       "               '2021-07-01 17:30:00', '2021-07-01 18:30:00',\n",
       "               '2021-07-01 19:30:00', '2021-07-01 20:30:00',\n",
       "               '2021-07-01 21:30:00', '2021-07-01 22:30:00'],\n",
       "              dtype='datetime64[ns]', freq='H')"
      ]
     },
     "execution_count": 124,
     "metadata": {},
     "output_type": "execute_result"
    }
   ],
   "source": [
    "#\n",
    "date_index = pd.date_range('2021-07-01 13:30',\n",
    "                           periods = 10,\n",
    "                           freq = 'H')\n",
    "date_index\n"
   ]
  },
  {
   "cell_type": "code",
   "execution_count": 126,
   "id": "62d79536",
   "metadata": {},
   "outputs": [
    {
     "name": "stdout",
     "output_type": "stream",
     "text": [
      "None\n"
     ]
    }
   ],
   "source": [
    "# Check which time zone is used ...\n",
    "print(date_index.tz)"
   ]
  },
  {
   "cell_type": "code",
   "execution_count": 127,
   "id": "f6487860",
   "metadata": {},
   "outputs": [
    {
     "data": {
      "text/plain": [
       "DatetimeIndex(['2021-07-01 13:30:00+00:00', '2021-07-01 14:30:00+00:00',\n",
       "               '2021-07-01 15:30:00+00:00', '2021-07-01 16:30:00+00:00',\n",
       "               '2021-07-01 17:30:00+00:00', '2021-07-01 18:30:00+00:00',\n",
       "               '2021-07-01 19:30:00+00:00', '2021-07-01 20:30:00+00:00',\n",
       "               '2021-07-01 21:30:00+00:00', '2021-07-01 22:30:00+00:00'],\n",
       "              dtype='datetime64[ns, UTC]', freq='H')"
      ]
     },
     "execution_count": 127,
     "metadata": {},
     "output_type": "execute_result"
    }
   ],
   "source": [
    "# Associate a time zone 'tz'\n",
    "date_index = pd.date_range('2021-07-01 13:30',\n",
    "                           periods = 10,\n",
    "                           freq = 'H',\n",
    "                           tz = 'UTC')\n",
    "date_index\n"
   ]
  },
  {
   "cell_type": "code",
   "execution_count": 128,
   "id": "9848b649",
   "metadata": {},
   "outputs": [
    {
     "name": "stdout",
     "output_type": "stream",
     "text": [
      "UTC\n"
     ]
    }
   ],
   "source": [
    "# Check which time zone is used ...\n",
    "print(date_index.tz)"
   ]
  },
  {
   "cell_type": "code",
   "execution_count": 129,
   "id": "4a361283",
   "metadata": {},
   "outputs": [
    {
     "data": {
      "text/html": [
       "<div>\n",
       "<style scoped>\n",
       "    .dataframe tbody tr th:only-of-type {\n",
       "        vertical-align: middle;\n",
       "    }\n",
       "\n",
       "    .dataframe tbody tr th {\n",
       "        vertical-align: top;\n",
       "    }\n",
       "\n",
       "    .dataframe thead th {\n",
       "        text-align: right;\n",
       "    }\n",
       "</style>\n",
       "<table border=\"1\" class=\"dataframe\">\n",
       "  <thead>\n",
       "    <tr style=\"text-align: right;\">\n",
       "      <th></th>\n",
       "      <th>amount</th>\n",
       "    </tr>\n",
       "    <tr>\n",
       "      <th>time</th>\n",
       "      <th></th>\n",
       "    </tr>\n",
       "  </thead>\n",
       "  <tbody>\n",
       "    <tr>\n",
       "      <th>2022-07-17 00:00:00</th>\n",
       "      <td>100</td>\n",
       "    </tr>\n",
       "    <tr>\n",
       "      <th>2022-07-17 01:00:00</th>\n",
       "      <td>104</td>\n",
       "    </tr>\n",
       "    <tr>\n",
       "      <th>2022-07-17 02:00:00</th>\n",
       "      <td>108</td>\n",
       "    </tr>\n",
       "    <tr>\n",
       "      <th>2022-07-17 03:00:00</th>\n",
       "      <td>113</td>\n",
       "    </tr>\n",
       "    <tr>\n",
       "      <th>2022-07-17 04:00:00</th>\n",
       "      <td>117</td>\n",
       "    </tr>\n",
       "    <tr>\n",
       "      <th>2022-07-17 05:00:00</th>\n",
       "      <td>121</td>\n",
       "    </tr>\n",
       "    <tr>\n",
       "      <th>2022-07-17 06:00:00</th>\n",
       "      <td>125</td>\n",
       "    </tr>\n",
       "    <tr>\n",
       "      <th>2022-07-17 07:00:00</th>\n",
       "      <td>129</td>\n",
       "    </tr>\n",
       "    <tr>\n",
       "      <th>2022-07-17 08:00:00</th>\n",
       "      <td>133</td>\n",
       "    </tr>\n",
       "    <tr>\n",
       "      <th>2022-07-17 09:00:00</th>\n",
       "      <td>138</td>\n",
       "    </tr>\n",
       "    <tr>\n",
       "      <th>2022-07-17 10:00:00</th>\n",
       "      <td>142</td>\n",
       "    </tr>\n",
       "    <tr>\n",
       "      <th>2022-07-17 11:00:00</th>\n",
       "      <td>146</td>\n",
       "    </tr>\n",
       "    <tr>\n",
       "      <th>2022-07-17 12:00:00</th>\n",
       "      <td>150</td>\n",
       "    </tr>\n",
       "    <tr>\n",
       "      <th>2022-07-17 13:00:00</th>\n",
       "      <td>154</td>\n",
       "    </tr>\n",
       "    <tr>\n",
       "      <th>2022-07-17 14:00:00</th>\n",
       "      <td>158</td>\n",
       "    </tr>\n",
       "    <tr>\n",
       "      <th>2022-07-17 15:00:00</th>\n",
       "      <td>163</td>\n",
       "    </tr>\n",
       "    <tr>\n",
       "      <th>2022-07-17 16:00:00</th>\n",
       "      <td>167</td>\n",
       "    </tr>\n",
       "    <tr>\n",
       "      <th>2022-07-17 17:00:00</th>\n",
       "      <td>171</td>\n",
       "    </tr>\n",
       "    <tr>\n",
       "      <th>2022-07-17 18:00:00</th>\n",
       "      <td>175</td>\n",
       "    </tr>\n",
       "    <tr>\n",
       "      <th>2022-07-17 19:00:00</th>\n",
       "      <td>179</td>\n",
       "    </tr>\n",
       "  </tbody>\n",
       "</table>\n",
       "</div>"
      ],
      "text/plain": [
       "                     amount\n",
       "time                       \n",
       "2022-07-17 00:00:00     100\n",
       "2022-07-17 01:00:00     104\n",
       "2022-07-17 02:00:00     108\n",
       "2022-07-17 03:00:00     113\n",
       "2022-07-17 04:00:00     117\n",
       "2022-07-17 05:00:00     121\n",
       "2022-07-17 06:00:00     125\n",
       "2022-07-17 07:00:00     129\n",
       "2022-07-17 08:00:00     133\n",
       "2022-07-17 09:00:00     138\n",
       "2022-07-17 10:00:00     142\n",
       "2022-07-17 11:00:00     146\n",
       "2022-07-17 12:00:00     150\n",
       "2022-07-17 13:00:00     154\n",
       "2022-07-17 14:00:00     158\n",
       "2022-07-17 15:00:00     163\n",
       "2022-07-17 16:00:00     167\n",
       "2022-07-17 17:00:00     171\n",
       "2022-07-17 18:00:00     175\n",
       "2022-07-17 19:00:00     179"
      ]
     },
     "execution_count": 129,
     "metadata": {},
     "output_type": "execute_result"
    }
   ],
   "source": [
    "# Example ...\n",
    "ts = pd.read_csv('data/ex18.csv', index_col='time', parse_dates=True)\n",
    "ts"
   ]
  },
  {
   "cell_type": "code",
   "execution_count": 130,
   "id": "71c1d64e",
   "metadata": {},
   "outputs": [
    {
     "name": "stdout",
     "output_type": "stream",
     "text": [
      "UTC\n"
     ]
    },
    {
     "data": {
      "text/html": [
       "<div>\n",
       "<style scoped>\n",
       "    .dataframe tbody tr th:only-of-type {\n",
       "        vertical-align: middle;\n",
       "    }\n",
       "\n",
       "    .dataframe tbody tr th {\n",
       "        vertical-align: top;\n",
       "    }\n",
       "\n",
       "    .dataframe thead th {\n",
       "        text-align: right;\n",
       "    }\n",
       "</style>\n",
       "<table border=\"1\" class=\"dataframe\">\n",
       "  <thead>\n",
       "    <tr style=\"text-align: right;\">\n",
       "      <th></th>\n",
       "      <th>amount</th>\n",
       "    </tr>\n",
       "    <tr>\n",
       "      <th>time</th>\n",
       "      <th></th>\n",
       "    </tr>\n",
       "  </thead>\n",
       "  <tbody>\n",
       "    <tr>\n",
       "      <th>2022-07-17 00:00:00+00:00</th>\n",
       "      <td>100</td>\n",
       "    </tr>\n",
       "    <tr>\n",
       "      <th>2022-07-17 01:00:00+00:00</th>\n",
       "      <td>104</td>\n",
       "    </tr>\n",
       "    <tr>\n",
       "      <th>2022-07-17 02:00:00+00:00</th>\n",
       "      <td>108</td>\n",
       "    </tr>\n",
       "    <tr>\n",
       "      <th>2022-07-17 03:00:00+00:00</th>\n",
       "      <td>113</td>\n",
       "    </tr>\n",
       "    <tr>\n",
       "      <th>2022-07-17 04:00:00+00:00</th>\n",
       "      <td>117</td>\n",
       "    </tr>\n",
       "    <tr>\n",
       "      <th>2022-07-17 05:00:00+00:00</th>\n",
       "      <td>121</td>\n",
       "    </tr>\n",
       "    <tr>\n",
       "      <th>2022-07-17 06:00:00+00:00</th>\n",
       "      <td>125</td>\n",
       "    </tr>\n",
       "    <tr>\n",
       "      <th>2022-07-17 07:00:00+00:00</th>\n",
       "      <td>129</td>\n",
       "    </tr>\n",
       "    <tr>\n",
       "      <th>2022-07-17 08:00:00+00:00</th>\n",
       "      <td>133</td>\n",
       "    </tr>\n",
       "    <tr>\n",
       "      <th>2022-07-17 09:00:00+00:00</th>\n",
       "      <td>138</td>\n",
       "    </tr>\n",
       "    <tr>\n",
       "      <th>2022-07-17 10:00:00+00:00</th>\n",
       "      <td>142</td>\n",
       "    </tr>\n",
       "    <tr>\n",
       "      <th>2022-07-17 11:00:00+00:00</th>\n",
       "      <td>146</td>\n",
       "    </tr>\n",
       "    <tr>\n",
       "      <th>2022-07-17 12:00:00+00:00</th>\n",
       "      <td>150</td>\n",
       "    </tr>\n",
       "    <tr>\n",
       "      <th>2022-07-17 13:00:00+00:00</th>\n",
       "      <td>154</td>\n",
       "    </tr>\n",
       "    <tr>\n",
       "      <th>2022-07-17 14:00:00+00:00</th>\n",
       "      <td>158</td>\n",
       "    </tr>\n",
       "    <tr>\n",
       "      <th>2022-07-17 15:00:00+00:00</th>\n",
       "      <td>163</td>\n",
       "    </tr>\n",
       "    <tr>\n",
       "      <th>2022-07-17 16:00:00+00:00</th>\n",
       "      <td>167</td>\n",
       "    </tr>\n",
       "    <tr>\n",
       "      <th>2022-07-17 17:00:00+00:00</th>\n",
       "      <td>171</td>\n",
       "    </tr>\n",
       "    <tr>\n",
       "      <th>2022-07-17 18:00:00+00:00</th>\n",
       "      <td>175</td>\n",
       "    </tr>\n",
       "    <tr>\n",
       "      <th>2022-07-17 19:00:00+00:00</th>\n",
       "      <td>179</td>\n",
       "    </tr>\n",
       "  </tbody>\n",
       "</table>\n",
       "</div>"
      ],
      "text/plain": [
       "                           amount\n",
       "time                             \n",
       "2022-07-17 00:00:00+00:00     100\n",
       "2022-07-17 01:00:00+00:00     104\n",
       "2022-07-17 02:00:00+00:00     108\n",
       "2022-07-17 03:00:00+00:00     113\n",
       "2022-07-17 04:00:00+00:00     117\n",
       "2022-07-17 05:00:00+00:00     121\n",
       "2022-07-17 06:00:00+00:00     125\n",
       "2022-07-17 07:00:00+00:00     129\n",
       "2022-07-17 08:00:00+00:00     133\n",
       "2022-07-17 09:00:00+00:00     138\n",
       "2022-07-17 10:00:00+00:00     142\n",
       "2022-07-17 11:00:00+00:00     146\n",
       "2022-07-17 12:00:00+00:00     150\n",
       "2022-07-17 13:00:00+00:00     154\n",
       "2022-07-17 14:00:00+00:00     158\n",
       "2022-07-17 15:00:00+00:00     163\n",
       "2022-07-17 16:00:00+00:00     167\n",
       "2022-07-17 17:00:00+00:00     171\n",
       "2022-07-17 18:00:00+00:00     175\n",
       "2022-07-17 19:00:00+00:00     179"
      ]
     },
     "execution_count": 130,
     "metadata": {},
     "output_type": "execute_result"
    }
   ],
   "source": [
    "# Check which time zone is used ...\n",
    "print(date_index.tz)\n",
    "\n",
    "# Add a time zone to the ts ...\n",
    "ts_UTC = ts.tz_localize('UTC')\n",
    "ts_UTC"
   ]
  },
  {
   "cell_type": "code",
   "execution_count": 133,
   "id": "afb4b145",
   "metadata": {},
   "outputs": [
    {
     "data": {
      "text/html": [
       "<div>\n",
       "<style scoped>\n",
       "    .dataframe tbody tr th:only-of-type {\n",
       "        vertical-align: middle;\n",
       "    }\n",
       "\n",
       "    .dataframe tbody tr th {\n",
       "        vertical-align: top;\n",
       "    }\n",
       "\n",
       "    .dataframe thead th {\n",
       "        text-align: right;\n",
       "    }\n",
       "</style>\n",
       "<table border=\"1\" class=\"dataframe\">\n",
       "  <thead>\n",
       "    <tr style=\"text-align: right;\">\n",
       "      <th></th>\n",
       "      <th>amount</th>\n",
       "    </tr>\n",
       "    <tr>\n",
       "      <th>time</th>\n",
       "      <th></th>\n",
       "    </tr>\n",
       "  </thead>\n",
       "  <tbody>\n",
       "    <tr>\n",
       "      <th>2022-07-16 20:00:00-04:00</th>\n",
       "      <td>100</td>\n",
       "    </tr>\n",
       "    <tr>\n",
       "      <th>2022-07-16 21:00:00-04:00</th>\n",
       "      <td>104</td>\n",
       "    </tr>\n",
       "    <tr>\n",
       "      <th>2022-07-16 22:00:00-04:00</th>\n",
       "      <td>108</td>\n",
       "    </tr>\n",
       "    <tr>\n",
       "      <th>2022-07-16 23:00:00-04:00</th>\n",
       "      <td>113</td>\n",
       "    </tr>\n",
       "    <tr>\n",
       "      <th>2022-07-17 00:00:00-04:00</th>\n",
       "      <td>117</td>\n",
       "    </tr>\n",
       "    <tr>\n",
       "      <th>2022-07-17 01:00:00-04:00</th>\n",
       "      <td>121</td>\n",
       "    </tr>\n",
       "    <tr>\n",
       "      <th>2022-07-17 02:00:00-04:00</th>\n",
       "      <td>125</td>\n",
       "    </tr>\n",
       "    <tr>\n",
       "      <th>2022-07-17 03:00:00-04:00</th>\n",
       "      <td>129</td>\n",
       "    </tr>\n",
       "    <tr>\n",
       "      <th>2022-07-17 04:00:00-04:00</th>\n",
       "      <td>133</td>\n",
       "    </tr>\n",
       "    <tr>\n",
       "      <th>2022-07-17 05:00:00-04:00</th>\n",
       "      <td>138</td>\n",
       "    </tr>\n",
       "    <tr>\n",
       "      <th>2022-07-17 06:00:00-04:00</th>\n",
       "      <td>142</td>\n",
       "    </tr>\n",
       "    <tr>\n",
       "      <th>2022-07-17 07:00:00-04:00</th>\n",
       "      <td>146</td>\n",
       "    </tr>\n",
       "    <tr>\n",
       "      <th>2022-07-17 08:00:00-04:00</th>\n",
       "      <td>150</td>\n",
       "    </tr>\n",
       "    <tr>\n",
       "      <th>2022-07-17 09:00:00-04:00</th>\n",
       "      <td>154</td>\n",
       "    </tr>\n",
       "    <tr>\n",
       "      <th>2022-07-17 10:00:00-04:00</th>\n",
       "      <td>158</td>\n",
       "    </tr>\n",
       "    <tr>\n",
       "      <th>2022-07-17 11:00:00-04:00</th>\n",
       "      <td>163</td>\n",
       "    </tr>\n",
       "    <tr>\n",
       "      <th>2022-07-17 12:00:00-04:00</th>\n",
       "      <td>167</td>\n",
       "    </tr>\n",
       "    <tr>\n",
       "      <th>2022-07-17 13:00:00-04:00</th>\n",
       "      <td>171</td>\n",
       "    </tr>\n",
       "    <tr>\n",
       "      <th>2022-07-17 14:00:00-04:00</th>\n",
       "      <td>175</td>\n",
       "    </tr>\n",
       "    <tr>\n",
       "      <th>2022-07-17 15:00:00-04:00</th>\n",
       "      <td>179</td>\n",
       "    </tr>\n",
       "  </tbody>\n",
       "</table>\n",
       "</div>"
      ],
      "text/plain": [
       "                           amount\n",
       "time                             \n",
       "2022-07-16 20:00:00-04:00     100\n",
       "2022-07-16 21:00:00-04:00     104\n",
       "2022-07-16 22:00:00-04:00     108\n",
       "2022-07-16 23:00:00-04:00     113\n",
       "2022-07-17 00:00:00-04:00     117\n",
       "2022-07-17 01:00:00-04:00     121\n",
       "2022-07-17 02:00:00-04:00     125\n",
       "2022-07-17 03:00:00-04:00     129\n",
       "2022-07-17 04:00:00-04:00     133\n",
       "2022-07-17 05:00:00-04:00     138\n",
       "2022-07-17 06:00:00-04:00     142\n",
       "2022-07-17 07:00:00-04:00     146\n",
       "2022-07-17 08:00:00-04:00     150\n",
       "2022-07-17 09:00:00-04:00     154\n",
       "2022-07-17 10:00:00-04:00     158\n",
       "2022-07-17 11:00:00-04:00     163\n",
       "2022-07-17 12:00:00-04:00     167\n",
       "2022-07-17 13:00:00-04:00     171\n",
       "2022-07-17 14:00:00-04:00     175\n",
       "2022-07-17 15:00:00-04:00     179"
      ]
     },
     "execution_count": 133,
     "metadata": {},
     "output_type": "execute_result"
    }
   ],
   "source": [
    "# convert time zome to another one ...\n",
    "ts_UTC.tz_convert('America/New_York')"
   ]
  },
  {
   "cell_type": "markdown",
   "id": "eb8251e3",
   "metadata": {},
   "source": [
    "# "
   ]
  },
  {
   "cell_type": "markdown",
   "id": "4feae463",
   "metadata": {},
   "source": [
    "# 7. Resampling and Frequency Conversion"
   ]
  },
  {
   "cell_type": "code",
   "execution_count": 134,
   "id": "20c7cb0f",
   "metadata": {},
   "outputs": [],
   "source": [
    "# Focus on a method in TS whcich is called resampling/ frequency conversion.\n",
    "# Resampling: means converting the index from one date frequency to another one.\n",
    "\n",
    "# An example of 'resampling' is aggregating 'lower frequency' data (daily data) to 'higher frequency' data (monthly data).\n",
    "\n",
    "# resample()"
   ]
  },
  {
   "cell_type": "code",
   "execution_count": 138,
   "id": "a57f6e04",
   "metadata": {},
   "outputs": [
    {
     "data": {
      "text/html": [
       "<div>\n",
       "<style scoped>\n",
       "    .dataframe tbody tr th:only-of-type {\n",
       "        vertical-align: middle;\n",
       "    }\n",
       "\n",
       "    .dataframe tbody tr th {\n",
       "        vertical-align: top;\n",
       "    }\n",
       "\n",
       "    .dataframe thead th {\n",
       "        text-align: right;\n",
       "    }\n",
       "</style>\n",
       "<table border=\"1\" class=\"dataframe\">\n",
       "  <thead>\n",
       "    <tr style=\"text-align: right;\">\n",
       "      <th></th>\n",
       "      <th>Close</th>\n",
       "    </tr>\n",
       "    <tr>\n",
       "      <th>Date</th>\n",
       "      <th></th>\n",
       "    </tr>\n",
       "  </thead>\n",
       "  <tbody>\n",
       "    <tr>\n",
       "      <th>2021-01-04</th>\n",
       "      <td>129.4</td>\n",
       "    </tr>\n",
       "    <tr>\n",
       "      <th>2021-01-05</th>\n",
       "      <td>131.0</td>\n",
       "    </tr>\n",
       "    <tr>\n",
       "      <th>2021-01-06</th>\n",
       "      <td>126.6</td>\n",
       "    </tr>\n",
       "    <tr>\n",
       "      <th>2021-01-07</th>\n",
       "      <td>130.9</td>\n",
       "    </tr>\n",
       "    <tr>\n",
       "      <th>2021-01-08</th>\n",
       "      <td>132.1</td>\n",
       "    </tr>\n",
       "  </tbody>\n",
       "</table>\n",
       "</div>"
      ],
      "text/plain": [
       "            Close\n",
       "Date             \n",
       "2021-01-04  129.4\n",
       "2021-01-05  131.0\n",
       "2021-01-06  126.6\n",
       "2021-01-07  130.9\n",
       "2021-01-08  132.1"
      ]
     },
     "execution_count": 138,
     "metadata": {},
     "output_type": "execute_result"
    }
   ],
   "source": [
    "# Example ...\n",
    "ts = pd.read_csv('data/apple.csv',\n",
    "                 index_col = 'Date',\n",
    "                 parse_dates = True)\n",
    "ts.head()"
   ]
  },
  {
   "cell_type": "code",
   "execution_count": 143,
   "id": "f5078997",
   "metadata": {},
   "outputs": [
    {
     "data": {
      "text/html": [
       "<div>\n",
       "<style scoped>\n",
       "    .dataframe tbody tr th:only-of-type {\n",
       "        vertical-align: middle;\n",
       "    }\n",
       "\n",
       "    .dataframe tbody tr th {\n",
       "        vertical-align: top;\n",
       "    }\n",
       "\n",
       "    .dataframe thead th {\n",
       "        text-align: right;\n",
       "    }\n",
       "</style>\n",
       "<table border=\"1\" class=\"dataframe\">\n",
       "  <thead>\n",
       "    <tr style=\"text-align: right;\">\n",
       "      <th></th>\n",
       "      <th>Close</th>\n",
       "    </tr>\n",
       "    <tr>\n",
       "      <th>Date</th>\n",
       "      <th></th>\n",
       "    </tr>\n",
       "  </thead>\n",
       "  <tbody>\n",
       "    <tr>\n",
       "      <th>2021-01-10</th>\n",
       "      <td>130.000</td>\n",
       "    </tr>\n",
       "    <tr>\n",
       "      <th>2021-01-17</th>\n",
       "      <td>128.940</td>\n",
       "    </tr>\n",
       "    <tr>\n",
       "      <th>2021-01-24</th>\n",
       "      <td>133.950</td>\n",
       "    </tr>\n",
       "    <tr>\n",
       "      <th>2021-01-31</th>\n",
       "      <td>139.460</td>\n",
       "    </tr>\n",
       "    <tr>\n",
       "      <th>2021-02-07</th>\n",
       "      <td>135.440</td>\n",
       "    </tr>\n",
       "    <tr>\n",
       "      <th>2021-02-14</th>\n",
       "      <td>135.760</td>\n",
       "    </tr>\n",
       "    <tr>\n",
       "      <th>2021-02-21</th>\n",
       "      <td>130.900</td>\n",
       "    </tr>\n",
       "    <tr>\n",
       "      <th>2021-02-28</th>\n",
       "      <td>123.920</td>\n",
       "    </tr>\n",
       "    <tr>\n",
       "      <th>2021-03-07</th>\n",
       "      <td>123.300</td>\n",
       "    </tr>\n",
       "    <tr>\n",
       "      <th>2021-03-14</th>\n",
       "      <td>120.100</td>\n",
       "    </tr>\n",
       "    <tr>\n",
       "      <th>2021-03-21</th>\n",
       "      <td>122.980</td>\n",
       "    </tr>\n",
       "    <tr>\n",
       "      <th>2021-03-28</th>\n",
       "      <td>121.560</td>\n",
       "    </tr>\n",
       "    <tr>\n",
       "      <th>2021-04-04</th>\n",
       "      <td>121.625</td>\n",
       "    </tr>\n",
       "    <tr>\n",
       "      <th>2021-04-11</th>\n",
       "      <td>128.680</td>\n",
       "    </tr>\n",
       "    <tr>\n",
       "      <th>2021-04-18</th>\n",
       "      <td>133.260</td>\n",
       "    </tr>\n",
       "    <tr>\n",
       "      <th>2021-04-25</th>\n",
       "      <td>133.520</td>\n",
       "    </tr>\n",
       "    <tr>\n",
       "      <th>2021-05-02</th>\n",
       "      <td>133.540</td>\n",
       "    </tr>\n",
       "    <tr>\n",
       "      <th>2021-05-09</th>\n",
       "      <td>129.680</td>\n",
       "    </tr>\n",
       "    <tr>\n",
       "      <th>2021-05-16</th>\n",
       "      <td>125.620</td>\n",
       "    </tr>\n",
       "    <tr>\n",
       "      <th>2021-05-23</th>\n",
       "      <td>125.720</td>\n",
       "    </tr>\n",
       "    <tr>\n",
       "      <th>2021-05-30</th>\n",
       "      <td>126.160</td>\n",
       "    </tr>\n",
       "    <tr>\n",
       "      <th>2021-06-06</th>\n",
       "      <td>124.700</td>\n",
       "    </tr>\n",
       "    <tr>\n",
       "      <th>2021-06-13</th>\n",
       "      <td>126.640</td>\n",
       "    </tr>\n",
       "    <tr>\n",
       "      <th>2021-06-20</th>\n",
       "      <td>130.520</td>\n",
       "    </tr>\n",
       "    <tr>\n",
       "      <th>2021-06-27</th>\n",
       "      <td>133.300</td>\n",
       "    </tr>\n",
       "    <tr>\n",
       "      <th>2021-07-04</th>\n",
       "      <td>136.350</td>\n",
       "    </tr>\n",
       "  </tbody>\n",
       "</table>\n",
       "</div>"
      ],
      "text/plain": [
       "              Close\n",
       "Date               \n",
       "2021-01-10  130.000\n",
       "2021-01-17  128.940\n",
       "2021-01-24  133.950\n",
       "2021-01-31  139.460\n",
       "2021-02-07  135.440\n",
       "2021-02-14  135.760\n",
       "2021-02-21  130.900\n",
       "2021-02-28  123.920\n",
       "2021-03-07  123.300\n",
       "2021-03-14  120.100\n",
       "2021-03-21  122.980\n",
       "2021-03-28  121.560\n",
       "2021-04-04  121.625\n",
       "2021-04-11  128.680\n",
       "2021-04-18  133.260\n",
       "2021-04-25  133.520\n",
       "2021-05-02  133.540\n",
       "2021-05-09  129.680\n",
       "2021-05-16  125.620\n",
       "2021-05-23  125.720\n",
       "2021-05-30  126.160\n",
       "2021-06-06  124.700\n",
       "2021-06-13  126.640\n",
       "2021-06-20  130.520\n",
       "2021-06-27  133.300\n",
       "2021-07-04  136.350"
      ]
     },
     "execution_count": 143,
     "metadata": {},
     "output_type": "execute_result"
    }
   ],
   "source": [
    "# Aggregating daily data to weekly data (dviding them) ...\n",
    "\n",
    "ts.resample('w').mean() # w:week"
   ]
  },
  {
   "cell_type": "code",
   "execution_count": 146,
   "id": "df1626e3",
   "metadata": {},
   "outputs": [
    {
     "data": {
      "text/html": [
       "<div>\n",
       "<style scoped>\n",
       "    .dataframe tbody tr th:only-of-type {\n",
       "        vertical-align: middle;\n",
       "    }\n",
       "\n",
       "    .dataframe tbody tr th {\n",
       "        vertical-align: top;\n",
       "    }\n",
       "\n",
       "    .dataframe thead th {\n",
       "        text-align: right;\n",
       "    }\n",
       "</style>\n",
       "<table border=\"1\" class=\"dataframe\">\n",
       "  <thead>\n",
       "    <tr style=\"text-align: right;\">\n",
       "      <th></th>\n",
       "      <th>Close</th>\n",
       "    </tr>\n",
       "    <tr>\n",
       "      <th>Date</th>\n",
       "      <th></th>\n",
       "    </tr>\n",
       "  </thead>\n",
       "  <tbody>\n",
       "    <tr>\n",
       "      <th>2021-01-31</th>\n",
       "      <td>133.042105</td>\n",
       "    </tr>\n",
       "    <tr>\n",
       "      <th>2021-02-28</th>\n",
       "      <td>131.536842</td>\n",
       "    </tr>\n",
       "    <tr>\n",
       "      <th>2021-03-31</th>\n",
       "      <td>121.878261</td>\n",
       "    </tr>\n",
       "    <tr>\n",
       "      <th>2021-04-30</th>\n",
       "      <td>131.809524</td>\n",
       "    </tr>\n",
       "    <tr>\n",
       "      <th>2021-05-31</th>\n",
       "      <td>126.795000</td>\n",
       "    </tr>\n",
       "    <tr>\n",
       "      <th>2021-06-30</th>\n",
       "      <td>129.963636</td>\n",
       "    </tr>\n",
       "    <tr>\n",
       "      <th>2021-07-31</th>\n",
       "      <td>137.300000</td>\n",
       "    </tr>\n",
       "  </tbody>\n",
       "</table>\n",
       "</div>"
      ],
      "text/plain": [
       "                 Close\n",
       "Date                  \n",
       "2021-01-31  133.042105\n",
       "2021-02-28  131.536842\n",
       "2021-03-31  121.878261\n",
       "2021-04-30  131.809524\n",
       "2021-05-31  126.795000\n",
       "2021-06-30  129.963636\n",
       "2021-07-31  137.300000"
      ]
     },
     "execution_count": 146,
     "metadata": {},
     "output_type": "execute_result"
    }
   ],
   "source": [
    "# Aggregating daily data to Monthly data (dviding them) ...\n",
    "\n",
    "ts.resample('M').mean() # M: Month"
   ]
  },
  {
   "cell_type": "code",
   "execution_count": 149,
   "id": "eb543509",
   "metadata": {},
   "outputs": [
    {
     "data": {
      "text/html": [
       "<div>\n",
       "<style scoped>\n",
       "    .dataframe tbody tr th:only-of-type {\n",
       "        vertical-align: middle;\n",
       "    }\n",
       "\n",
       "    .dataframe tbody tr th {\n",
       "        vertical-align: top;\n",
       "    }\n",
       "\n",
       "    .dataframe thead th {\n",
       "        text-align: right;\n",
       "    }\n",
       "</style>\n",
       "<table border=\"1\" class=\"dataframe\">\n",
       "  <thead>\n",
       "    <tr style=\"text-align: right;\">\n",
       "      <th></th>\n",
       "      <th>Close</th>\n",
       "    </tr>\n",
       "    <tr>\n",
       "      <th>Date</th>\n",
       "      <th></th>\n",
       "    </tr>\n",
       "  </thead>\n",
       "  <tbody>\n",
       "    <tr>\n",
       "      <th>2021-01</th>\n",
       "      <td>133.042105</td>\n",
       "    </tr>\n",
       "    <tr>\n",
       "      <th>2021-02</th>\n",
       "      <td>131.536842</td>\n",
       "    </tr>\n",
       "    <tr>\n",
       "      <th>2021-03</th>\n",
       "      <td>121.878261</td>\n",
       "    </tr>\n",
       "    <tr>\n",
       "      <th>2021-04</th>\n",
       "      <td>131.809524</td>\n",
       "    </tr>\n",
       "    <tr>\n",
       "      <th>2021-05</th>\n",
       "      <td>126.795000</td>\n",
       "    </tr>\n",
       "    <tr>\n",
       "      <th>2021-06</th>\n",
       "      <td>129.963636</td>\n",
       "    </tr>\n",
       "    <tr>\n",
       "      <th>2021-07</th>\n",
       "      <td>137.300000</td>\n",
       "    </tr>\n",
       "  </tbody>\n",
       "</table>\n",
       "</div>"
      ],
      "text/plain": [
       "              Close\n",
       "Date               \n",
       "2021-01  133.042105\n",
       "2021-02  131.536842\n",
       "2021-03  121.878261\n",
       "2021-04  131.809524\n",
       "2021-05  126.795000\n",
       "2021-06  129.963636\n",
       "2021-07  137.300000"
      ]
     },
     "execution_count": 149,
     "metadata": {},
     "output_type": "execute_result"
    }
   ],
   "source": [
    "# Aggregating daily data to Monthly data (dviding them) ...\n",
    "\n",
    "ts.resample('M', kind='period').mean() #"
   ]
  },
  {
   "cell_type": "code",
   "execution_count": 151,
   "id": "4fc96c3f",
   "metadata": {},
   "outputs": [
    {
     "data": {
      "text/html": [
       "<div>\n",
       "<style scoped>\n",
       "    .dataframe tbody tr th:only-of-type {\n",
       "        vertical-align: middle;\n",
       "    }\n",
       "\n",
       "    .dataframe tbody tr th {\n",
       "        vertical-align: top;\n",
       "    }\n",
       "\n",
       "    .dataframe thead th {\n",
       "        text-align: right;\n",
       "    }\n",
       "</style>\n",
       "<table border=\"1\" class=\"dataframe\">\n",
       "  <thead>\n",
       "    <tr style=\"text-align: right;\">\n",
       "      <th></th>\n",
       "      <th>Sales</th>\n",
       "    </tr>\n",
       "    <tr>\n",
       "      <th>Date</th>\n",
       "      <th></th>\n",
       "    </tr>\n",
       "  </thead>\n",
       "  <tbody>\n",
       "    <tr>\n",
       "      <th>2021-06-30</th>\n",
       "      <td>370</td>\n",
       "    </tr>\n",
       "    <tr>\n",
       "      <th>2021-06-29</th>\n",
       "      <td>363</td>\n",
       "    </tr>\n",
       "    <tr>\n",
       "      <th>2021-06-28</th>\n",
       "      <td>348</td>\n",
       "    </tr>\n",
       "    <tr>\n",
       "      <th>2021-06-25</th>\n",
       "      <td>331</td>\n",
       "    </tr>\n",
       "    <tr>\n",
       "      <th>2021-06-24</th>\n",
       "      <td>334</td>\n",
       "    </tr>\n",
       "    <tr>\n",
       "      <th>...</th>\n",
       "      <td>...</td>\n",
       "    </tr>\n",
       "    <tr>\n",
       "      <th>2020-07-09</th>\n",
       "      <td>43</td>\n",
       "    </tr>\n",
       "    <tr>\n",
       "      <th>2020-07-08</th>\n",
       "      <td>47</td>\n",
       "    </tr>\n",
       "    <tr>\n",
       "      <th>2020-07-07</th>\n",
       "      <td>68</td>\n",
       "    </tr>\n",
       "    <tr>\n",
       "      <th>2020-07-06</th>\n",
       "      <td>65</td>\n",
       "    </tr>\n",
       "    <tr>\n",
       "      <th>2020-07-02</th>\n",
       "      <td>90</td>\n",
       "    </tr>\n",
       "  </tbody>\n",
       "</table>\n",
       "<p>251 rows × 1 columns</p>\n",
       "</div>"
      ],
      "text/plain": [
       "            Sales\n",
       "Date             \n",
       "2021-06-30    370\n",
       "2021-06-29    363\n",
       "2021-06-28    348\n",
       "2021-06-25    331\n",
       "2021-06-24    334\n",
       "...           ...\n",
       "2020-07-09     43\n",
       "2020-07-08     47\n",
       "2020-07-07     68\n",
       "2020-07-06     65\n",
       "2020-07-02     90\n",
       "\n",
       "[251 rows x 1 columns]"
      ]
     },
     "execution_count": 151,
     "metadata": {},
     "output_type": "execute_result"
    }
   ],
   "source": [
    "# Example ...\n",
    "sales = pd.read_csv('data/sales.csv',\n",
    "                    index_col = 'Date',\n",
    "                    parse_dates = True)\n",
    "sales"
   ]
  },
  {
   "cell_type": "code",
   "execution_count": 154,
   "id": "299743a1",
   "metadata": {},
   "outputs": [
    {
     "data": {
      "text/html": [
       "<div>\n",
       "<style scoped>\n",
       "    .dataframe tbody tr th:only-of-type {\n",
       "        vertical-align: middle;\n",
       "    }\n",
       "\n",
       "    .dataframe tbody tr th {\n",
       "        vertical-align: top;\n",
       "    }\n",
       "\n",
       "    .dataframe thead th {\n",
       "        text-align: right;\n",
       "    }\n",
       "</style>\n",
       "<table border=\"1\" class=\"dataframe\">\n",
       "  <thead>\n",
       "    <tr style=\"text-align: right;\">\n",
       "      <th></th>\n",
       "      <th>Sales</th>\n",
       "    </tr>\n",
       "    <tr>\n",
       "      <th>Date</th>\n",
       "      <th></th>\n",
       "    </tr>\n",
       "  </thead>\n",
       "  <tbody>\n",
       "    <tr>\n",
       "      <th>2020-07</th>\n",
       "      <td>1012</td>\n",
       "    </tr>\n",
       "    <tr>\n",
       "      <th>2020-08</th>\n",
       "      <td>3633</td>\n",
       "    </tr>\n",
       "    <tr>\n",
       "      <th>2020-09</th>\n",
       "      <td>3176</td>\n",
       "    </tr>\n",
       "    <tr>\n",
       "      <th>2020-10</th>\n",
       "      <td>3613</td>\n",
       "    </tr>\n",
       "    <tr>\n",
       "      <th>2020-11</th>\n",
       "      <td>3366</td>\n",
       "    </tr>\n",
       "    <tr>\n",
       "      <th>2020-12</th>\n",
       "      <td>6006</td>\n",
       "    </tr>\n",
       "    <tr>\n",
       "      <th>2021-01</th>\n",
       "      <td>6278</td>\n",
       "    </tr>\n",
       "    <tr>\n",
       "      <th>2021-02</th>\n",
       "      <td>5992</td>\n",
       "    </tr>\n",
       "    <tr>\n",
       "      <th>2021-03</th>\n",
       "      <td>5032</td>\n",
       "    </tr>\n",
       "    <tr>\n",
       "      <th>2021-04</th>\n",
       "      <td>6680</td>\n",
       "    </tr>\n",
       "    <tr>\n",
       "      <th>2021-05</th>\n",
       "      <td>5359</td>\n",
       "    </tr>\n",
       "    <tr>\n",
       "      <th>2021-06</th>\n",
       "      <td>6592</td>\n",
       "    </tr>\n",
       "  </tbody>\n",
       "</table>\n",
       "</div>"
      ],
      "text/plain": [
       "         Sales\n",
       "Date          \n",
       "2020-07   1012\n",
       "2020-08   3633\n",
       "2020-09   3176\n",
       "2020-10   3613\n",
       "2020-11   3366\n",
       "2020-12   6006\n",
       "2021-01   6278\n",
       "2021-02   5992\n",
       "2021-03   5032\n",
       "2021-04   6680\n",
       "2021-05   5359\n",
       "2021-06   6592"
      ]
     },
     "execution_count": 154,
     "metadata": {},
     "output_type": "execute_result"
    }
   ],
   "source": [
    "# resample() ... => display the sum of sales monthly\n",
    "sales.resample('M',\n",
    "               kind='period').sum()"
   ]
  },
  {
   "cell_type": "markdown",
   "id": "19b02855",
   "metadata": {},
   "source": [
    "# "
   ]
  },
  {
   "cell_type": "markdown",
   "id": "88d50fbc",
   "metadata": {},
   "source": [
    "# 8. Rolling and Moving Windows"
   ]
  },
  {
   "cell_type": "code",
   "execution_count": 155,
   "id": "7fd30cd3",
   "metadata": {},
   "outputs": [],
   "source": [
    "# rolling/moving window.\n",
    "# rolling is like having a 'window sliding' over the TS data and extracting out every data you can see through this window.\n",
    "\n",
    "# Rolling => is used in TS analysis to check for 'stability over time'.\n",
    "# Rolling => used to explore the 'main trend of the data'.\n"
   ]
  },
  {
   "cell_type": "code",
   "execution_count": 157,
   "id": "982863fc",
   "metadata": {},
   "outputs": [
    {
     "data": {
      "text/html": [
       "<div>\n",
       "<style scoped>\n",
       "    .dataframe tbody tr th:only-of-type {\n",
       "        vertical-align: middle;\n",
       "    }\n",
       "\n",
       "    .dataframe tbody tr th {\n",
       "        vertical-align: top;\n",
       "    }\n",
       "\n",
       "    .dataframe thead th {\n",
       "        text-align: right;\n",
       "    }\n",
       "</style>\n",
       "<table border=\"1\" class=\"dataframe\">\n",
       "  <thead>\n",
       "    <tr style=\"text-align: right;\">\n",
       "      <th></th>\n",
       "      <th>Close</th>\n",
       "    </tr>\n",
       "    <tr>\n",
       "      <th>Date</th>\n",
       "      <th></th>\n",
       "    </tr>\n",
       "  </thead>\n",
       "  <tbody>\n",
       "    <tr>\n",
       "      <th>2021-01-04</th>\n",
       "      <td>129.4</td>\n",
       "    </tr>\n",
       "    <tr>\n",
       "      <th>2021-01-05</th>\n",
       "      <td>131.0</td>\n",
       "    </tr>\n",
       "    <tr>\n",
       "      <th>2021-01-06</th>\n",
       "      <td>126.6</td>\n",
       "    </tr>\n",
       "    <tr>\n",
       "      <th>2021-01-07</th>\n",
       "      <td>130.9</td>\n",
       "    </tr>\n",
       "    <tr>\n",
       "      <th>2021-01-08</th>\n",
       "      <td>132.1</td>\n",
       "    </tr>\n",
       "  </tbody>\n",
       "</table>\n",
       "</div>"
      ],
      "text/plain": [
       "            Close\n",
       "Date             \n",
       "2021-01-04  129.4\n",
       "2021-01-05  131.0\n",
       "2021-01-06  126.6\n",
       "2021-01-07  130.9\n",
       "2021-01-08  132.1"
      ]
     },
     "execution_count": 157,
     "metadata": {},
     "output_type": "execute_result"
    }
   ],
   "source": [
    "# Example ...\n",
    "apple = pd.read_csv('data/apple.csv',\n",
    "                    index_col='Date',\n",
    "                    parse_dates=True)\n",
    "apple.head()"
   ]
  },
  {
   "cell_type": "code",
   "execution_count": 158,
   "id": "fa84960b",
   "metadata": {},
   "outputs": [
    {
     "data": {
      "text/plain": [
       "<AxesSubplot:xlabel='Date'>"
      ]
     },
     "execution_count": 158,
     "metadata": {},
     "output_type": "execute_result"
    },
    {
     "data": {
      "image/png": "[encoded data removed]",
      "text/plain": [
       "<Figure size 432x288 with 1 Axes>"
      ]
     },
     "metadata": {
      "needs_background": "light"
     },
     "output_type": "display_data"
    }
   ],
   "source": [
    "# Plot ...\n",
    "apple['Close'].plot()"
   ]
  },
  {
   "cell_type": "code",
   "execution_count": 159,
   "id": "f47bd19e",
   "metadata": {},
   "outputs": [
    {
     "data": {
      "text/html": [
       "<div>\n",
       "<style scoped>\n",
       "    .dataframe tbody tr th:only-of-type {\n",
       "        vertical-align: middle;\n",
       "    }\n",
       "\n",
       "    .dataframe tbody tr th {\n",
       "        vertical-align: top;\n",
       "    }\n",
       "\n",
       "    .dataframe thead th {\n",
       "        text-align: right;\n",
       "    }\n",
       "</style>\n",
       "<table border=\"1\" class=\"dataframe\">\n",
       "  <thead>\n",
       "    <tr style=\"text-align: right;\">\n",
       "      <th></th>\n",
       "      <th>Close</th>\n",
       "    </tr>\n",
       "    <tr>\n",
       "      <th>Date</th>\n",
       "      <th></th>\n",
       "    </tr>\n",
       "  </thead>\n",
       "  <tbody>\n",
       "    <tr>\n",
       "      <th>2021-01-04</th>\n",
       "      <td>NaN</td>\n",
       "    </tr>\n",
       "    <tr>\n",
       "      <th>2021-01-05</th>\n",
       "      <td>NaN</td>\n",
       "    </tr>\n",
       "    <tr>\n",
       "      <th>2021-01-06</th>\n",
       "      <td>129.000000</td>\n",
       "    </tr>\n",
       "    <tr>\n",
       "      <th>2021-01-07</th>\n",
       "      <td>129.500000</td>\n",
       "    </tr>\n",
       "    <tr>\n",
       "      <th>2021-01-08</th>\n",
       "      <td>129.866667</td>\n",
       "    </tr>\n",
       "    <tr>\n",
       "      <th>...</th>\n",
       "      <td>...</td>\n",
       "    </tr>\n",
       "    <tr>\n",
       "      <th>2021-06-25</th>\n",
       "      <td>133.400000</td>\n",
       "    </tr>\n",
       "    <tr>\n",
       "      <th>2021-06-28</th>\n",
       "      <td>133.766667</td>\n",
       "    </tr>\n",
       "    <tr>\n",
       "      <th>2021-06-29</th>\n",
       "      <td>134.733333</td>\n",
       "    </tr>\n",
       "    <tr>\n",
       "      <th>2021-06-30</th>\n",
       "      <td>136.033333</td>\n",
       "    </tr>\n",
       "    <tr>\n",
       "      <th>2021-07-01</th>\n",
       "      <td>136.866667</td>\n",
       "    </tr>\n",
       "  </tbody>\n",
       "</table>\n",
       "<p>125 rows × 1 columns</p>\n",
       "</div>"
      ],
      "text/plain": [
       "                 Close\n",
       "Date                  \n",
       "2021-01-04         NaN\n",
       "2021-01-05         NaN\n",
       "2021-01-06  129.000000\n",
       "2021-01-07  129.500000\n",
       "2021-01-08  129.866667\n",
       "...                ...\n",
       "2021-06-25  133.400000\n",
       "2021-06-28  133.766667\n",
       "2021-06-29  134.733333\n",
       "2021-06-30  136.033333\n",
       "2021-07-01  136.866667\n",
       "\n",
       "[125 rows x 1 columns]"
      ]
     },
     "execution_count": 159,
     "metadata": {},
     "output_type": "execute_result"
    }
   ],
   "source": [
    "# rolling() ...\n",
    "apple.rolling(window=3).mean()"
   ]
  },
  {
   "cell_type": "code",
   "execution_count": 160,
   "id": "bb719631",
   "metadata": {},
   "outputs": [
    {
     "data": {
      "text/plain": [
       "<AxesSubplot:xlabel='Date'>"
      ]
     },
     "execution_count": 160,
     "metadata": {},
     "output_type": "execute_result"
    },
    {
     "data": {
      "image/png": "[encoded data removed]",
      "text/plain": [
       "<Figure size 432x288 with 1 Axes>"
      ]
     },
     "metadata": {
      "needs_background": "light"
     },
     "output_type": "display_data"
    }
   ],
   "source": [
    "# Plot befor and after the rolling() ...\n",
    "apple['Close'].plot() # blue line: original\n",
    "apple['Close'].rolling(window=3).mean().plot() # Moving Average\n"
   ]
  },
  {
   "cell_type": "code",
   "execution_count": 161,
   "id": "3b5613ec",
   "metadata": {},
   "outputs": [
    {
     "data": {
      "text/plain": [
       "<AxesSubplot:xlabel='Date'>"
      ]
     },
     "execution_count": 161,
     "metadata": {},
     "output_type": "execute_result"
    },
    {
     "data": {
      "image/png": "[encoded data removed]",
      "text/plain": [
       "<Figure size 432x288 with 1 Axes>"
      ]
     },
     "metadata": {
      "needs_background": "light"
     },
     "output_type": "display_data"
    }
   ],
   "source": [
    "# Plot befor and after the rolling() ...\n",
    "apple['Close'].plot() # blue line: original\n",
    "apple['Close'].rolling(window=10).mean().plot() # Moving Average\n"
   ]
  },
  {
   "cell_type": "code",
   "execution_count": 163,
   "id": "2308fdd5",
   "metadata": {},
   "outputs": [
    {
     "data": {
      "text/html": [
       "<div>\n",
       "<style scoped>\n",
       "    .dataframe tbody tr th:only-of-type {\n",
       "        vertical-align: middle;\n",
       "    }\n",
       "\n",
       "    .dataframe tbody tr th {\n",
       "        vertical-align: top;\n",
       "    }\n",
       "\n",
       "    .dataframe thead th {\n",
       "        text-align: right;\n",
       "    }\n",
       "</style>\n",
       "<table border=\"1\" class=\"dataframe\">\n",
       "  <thead>\n",
       "    <tr style=\"text-align: right;\">\n",
       "      <th></th>\n",
       "      <th>Passengers</th>\n",
       "    </tr>\n",
       "    <tr>\n",
       "      <th>Month</th>\n",
       "      <th></th>\n",
       "    </tr>\n",
       "  </thead>\n",
       "  <tbody>\n",
       "    <tr>\n",
       "      <th>1949-01-01</th>\n",
       "      <td>112</td>\n",
       "    </tr>\n",
       "    <tr>\n",
       "      <th>1949-02-01</th>\n",
       "      <td>118</td>\n",
       "    </tr>\n",
       "    <tr>\n",
       "      <th>1949-03-01</th>\n",
       "      <td>132</td>\n",
       "    </tr>\n",
       "    <tr>\n",
       "      <th>1949-04-01</th>\n",
       "      <td>129</td>\n",
       "    </tr>\n",
       "    <tr>\n",
       "      <th>1949-05-01</th>\n",
       "      <td>121</td>\n",
       "    </tr>\n",
       "  </tbody>\n",
       "</table>\n",
       "</div>"
      ],
      "text/plain": [
       "            Passengers\n",
       "Month                 \n",
       "1949-01-01         112\n",
       "1949-02-01         118\n",
       "1949-03-01         132\n",
       "1949-04-01         129\n",
       "1949-05-01         121"
      ]
     },
     "execution_count": 163,
     "metadata": {},
     "output_type": "execute_result"
    }
   ],
   "source": [
    "# Example ...\n",
    "Air = pd.read_csv('data/AirPassenger.csv',\n",
    "                  index_col = 'Month',\n",
    "                  parse_dates = True)\n",
    "\n",
    "Air.head()"
   ]
  },
  {
   "cell_type": "code",
   "execution_count": 165,
   "id": "99b69cb4",
   "metadata": {},
   "outputs": [
    {
     "data": {
      "text/plain": [
       "<AxesSubplot:xlabel='Month'>"
      ]
     },
     "execution_count": 165,
     "metadata": {},
     "output_type": "execute_result"
    },
    {
     "data": {
      "image/png": "[encoded data removed]",
      "text/plain": [
       "<Figure size 648x360 with 1 Axes>"
      ]
     },
     "metadata": {
      "needs_background": "light"
     },
     "output_type": "display_data"
    }
   ],
   "source": [
    "# Plot ...\n",
    "Air['Passengers'].plot(figsize=(9,5))"
   ]
  },
  {
   "cell_type": "code",
   "execution_count": 170,
   "id": "3bce0141",
   "metadata": {},
   "outputs": [
    {
     "data": {
      "text/plain": [
       "<AxesSubplot:xlabel='Month'>"
      ]
     },
     "execution_count": 170,
     "metadata": {},
     "output_type": "execute_result"
    },
    {
     "data": {
      "image/png": "[encoded data removed]",
      "text/plain": [
       "<Figure size 648x360 with 1 Axes>"
      ]
     },
     "metadata": {
      "needs_background": "light"
     },
     "output_type": "display_data"
    }
   ],
   "source": [
    "# Plot after aplying 'rolling()' method ...\n",
    "Air['Passengers'].plot(figsize=(9,5))\n",
    "Air['Passengers'].rolling(window=10).mean().plot()"
   ]
  },
  {
   "cell_type": "markdown",
   "id": "27885800",
   "metadata": {},
   "source": [
    "# "
   ]
  },
  {
   "cell_type": "markdown",
   "id": "fe25393a",
   "metadata": {},
   "source": [
    "# Real World Data Analysis Example"
   ]
  },
  {
   "cell_type": "markdown",
   "id": "162dc0ac",
   "metadata": {},
   "source": [
    "### Housing Dataset Analysis"
   ]
  },
  {
   "cell_type": "code",
   "execution_count": 173,
   "id": "d793d193",
   "metadata": {},
   "outputs": [],
   "source": [
    "# Part -1- ... Prepare dataset for statistics modeling/ advanced analysis ...\n",
    "\n",
    "# setp -1- => understand all variables in the datase.\n",
    "\n",
    "# setp -2- => exploring the \"dependent variable\". we will have a deep\n",
    "              # look at the 'target variable' which is the variable\n",
    "              # that we are trying to predict\n",
    "        \n",
    "# setp -3- => investigate the relationships between the dependent\n",
    "              # variable and the other independent variables.\n",
    "    \n",
    "# setp -4- => cleaning the data, handle missing data, outliers,\n",
    "              # and categorical variables.\n",
    "    \n",
    "# setp -5- => checking statistical assimptions. Check if the data\n",
    "              # meet assumptions that are required for advanced\n",
    "              # analysis, for example checking for data normality."
   ]
  },
  {
   "cell_type": "code",
   "execution_count": null,
   "id": "9758fa18",
   "metadata": {},
   "outputs": [],
   "source": [
    "# Part -2- ...\n",
    "# Step -1- ..."
   ]
  },
  {
   "cell_type": "code",
   "execution_count": 174,
   "id": "025635f4",
   "metadata": {},
   "outputs": [],
   "source": [
    "# importing libraries\n",
    "import numpy as np\n",
    "import pandas as pd\n",
    "import matplotlib.pyplot as plt\n",
    "import seaborn as sns\n",
    "from scipy import stats"
   ]
  },
  {
   "cell_type": "code",
   "execution_count": 177,
   "id": "eab57bab",
   "metadata": {},
   "outputs": [
    {
     "data": {
      "text/html": [
       "<div>\n",
       "<style scoped>\n",
       "    .dataframe tbody tr th:only-of-type {\n",
       "        vertical-align: middle;\n",
       "    }\n",
       "\n",
       "    .dataframe tbody tr th {\n",
       "        vertical-align: top;\n",
       "    }\n",
       "\n",
       "    .dataframe thead th {\n",
       "        text-align: right;\n",
       "    }\n",
       "</style>\n",
       "<table border=\"1\" class=\"dataframe\">\n",
       "  <thead>\n",
       "    <tr style=\"text-align: right;\">\n",
       "      <th></th>\n",
       "      <th>Id</th>\n",
       "      <th>LotArea</th>\n",
       "      <th>OverallQual</th>\n",
       "      <th>YearBuilt</th>\n",
       "      <th>TotalBsmtSF</th>\n",
       "      <th>GrLivArea</th>\n",
       "      <th>FullBath</th>\n",
       "      <th>BedroomAbvGr</th>\n",
       "      <th>KitchenQual</th>\n",
       "      <th>TotRmsAbvGrd</th>\n",
       "      <th>GarageArea</th>\n",
       "      <th>SalePrice</th>\n",
       "    </tr>\n",
       "  </thead>\n",
       "  <tbody>\n",
       "    <tr>\n",
       "      <th>0</th>\n",
       "      <td>1</td>\n",
       "      <td>8450</td>\n",
       "      <td>7</td>\n",
       "      <td>2003</td>\n",
       "      <td>856</td>\n",
       "      <td>1710</td>\n",
       "      <td>2</td>\n",
       "      <td>3</td>\n",
       "      <td>Gd</td>\n",
       "      <td>8</td>\n",
       "      <td>548</td>\n",
       "      <td>208500</td>\n",
       "    </tr>\n",
       "    <tr>\n",
       "      <th>1</th>\n",
       "      <td>2</td>\n",
       "      <td>9600</td>\n",
       "      <td>6</td>\n",
       "      <td>1976</td>\n",
       "      <td>1262</td>\n",
       "      <td>1262</td>\n",
       "      <td>2</td>\n",
       "      <td>3</td>\n",
       "      <td>TA</td>\n",
       "      <td>6</td>\n",
       "      <td>460</td>\n",
       "      <td>181500</td>\n",
       "    </tr>\n",
       "    <tr>\n",
       "      <th>2</th>\n",
       "      <td>3</td>\n",
       "      <td>11250</td>\n",
       "      <td>7</td>\n",
       "      <td>2001</td>\n",
       "      <td>920</td>\n",
       "      <td>1786</td>\n",
       "      <td>2</td>\n",
       "      <td>3</td>\n",
       "      <td>Gd</td>\n",
       "      <td>6</td>\n",
       "      <td>608</td>\n",
       "      <td>223500</td>\n",
       "    </tr>\n",
       "  </tbody>\n",
       "</table>\n",
       "</div>"
      ],
      "text/plain": [
       "   Id  LotArea  OverallQual  YearBuilt  TotalBsmtSF  GrLivArea  FullBath  \\\n",
       "0   1     8450            7       2003          856       1710         2   \n",
       "1   2     9600            6       1976         1262       1262         2   \n",
       "2   3    11250            7       2001          920       1786         2   \n",
       "\n",
       "   BedroomAbvGr KitchenQual  TotRmsAbvGrd  GarageArea  SalePrice  \n",
       "0             3          Gd             8         548     208500  \n",
       "1             3          TA             6         460     181500  \n",
       "2             3          Gd             6         608     223500  "
      ]
     },
     "execution_count": 177,
     "metadata": {},
     "output_type": "execute_result"
    }
   ],
   "source": [
    "# dataset ...\n",
    "df = pd.read_csv('data/housing.csv')\n",
    "df.head(3)\n",
    "\n",
    "# dependent variable: \"SalePrice\" => You can forcast the future of \"SalePrice\""
   ]
  },
  {
   "cell_type": "code",
   "execution_count": 178,
   "id": "bc0ece63",
   "metadata": {},
   "outputs": [
    {
     "data": {
      "text/plain": [
       "(1460, 12)"
      ]
     },
     "execution_count": 178,
     "metadata": {},
     "output_type": "execute_result"
    }
   ],
   "source": [
    "# length of the dataset ...\n",
    "df.shape"
   ]
  },
  {
   "cell_type": "code",
   "execution_count": 179,
   "id": "27106cfb",
   "metadata": {},
   "outputs": [
    {
     "name": "stdout",
     "output_type": "stream",
     "text": [
      "<class 'pandas.core.frame.DataFrame'>\n",
      "RangeIndex: 1460 entries, 0 to 1459\n",
      "Data columns (total 12 columns):\n",
      " #   Column        Non-Null Count  Dtype \n",
      "---  ------        --------------  ----- \n",
      " 0   Id            1460 non-null   int64 \n",
      " 1   LotArea       1460 non-null   int64 \n",
      " 2   OverallQual   1460 non-null   int64 \n",
      " 3   YearBuilt     1460 non-null   int64 \n",
      " 4   TotalBsmtSF   1460 non-null   int64 \n",
      " 5   GrLivArea     1460 non-null   int64 \n",
      " 6   FullBath      1460 non-null   int64 \n",
      " 7   BedroomAbvGr  1460 non-null   int64 \n",
      " 8   KitchenQual   1460 non-null   object\n",
      " 9   TotRmsAbvGrd  1460 non-null   int64 \n",
      " 10  GarageArea    1460 non-null   int64 \n",
      " 11  SalePrice     1460 non-null   int64 \n",
      "dtypes: int64(11), object(1)\n",
      "memory usage: 137.0+ KB\n"
     ]
    }
   ],
   "source": [
    "# General infos about the datset ...\n",
    "df.info() # check and compare it to the length to see if we have a missing data.\n",
    "          # dtype: if numerical ok . And if not convert it to numerical variables using \"Dummy Variables\""
   ]
  },
  {
   "cell_type": "code",
   "execution_count": 180,
   "id": "e6492d13",
   "metadata": {},
   "outputs": [
    {
     "data": {
      "text/plain": [
       "Id              0\n",
       "LotArea         0\n",
       "OverallQual     0\n",
       "YearBuilt       0\n",
       "TotalBsmtSF     0\n",
       "GrLivArea       0\n",
       "FullBath        0\n",
       "BedroomAbvGr    0\n",
       "KitchenQual     0\n",
       "TotRmsAbvGrd    0\n",
       "GarageArea      0\n",
       "SalePrice       0\n",
       "dtype: int64"
      ]
     },
     "execution_count": 180,
     "metadata": {},
     "output_type": "execute_result"
    }
   ],
   "source": [
    "# Checking the missing values ...\n",
    "df.isnull().sum() # we don't have a missing values"
   ]
  },
  {
   "cell_type": "code",
   "execution_count": 181,
   "id": "e7cd3da8",
   "metadata": {},
   "outputs": [],
   "source": [
    "# Part -3- ...\n",
    "# Step -2- ..."
   ]
  },
  {
   "cell_type": "code",
   "execution_count": 182,
   "id": "0506d35c",
   "metadata": {},
   "outputs": [
    {
     "data": {
      "text/plain": [
       "count      1460.000000\n",
       "mean     180921.195890\n",
       "std       79442.502883\n",
       "min       34900.000000\n",
       "25%      129975.000000\n",
       "50%      163000.000000\n",
       "75%      214000.000000\n",
       "max      755000.000000\n",
       "Name: SalePrice, dtype: float64"
      ]
     },
     "execution_count": 182,
     "metadata": {},
     "output_type": "execute_result"
    }
   ],
   "source": [
    "# descibe statistics for dependent variable \"SalePrice\" ...\n",
    "df['SalePrice'].describe()"
   ]
  },
  {
   "cell_type": "code",
   "execution_count": null,
   "id": "05a5d27d",
   "metadata": {},
   "outputs": [],
   "source": [
    "# Step -3- ..."
   ]
  },
  {
   "cell_type": "code",
   "execution_count": 183,
   "id": "62961d86",
   "metadata": {},
   "outputs": [
    {
     "data": {
      "text/html": [
       "<div>\n",
       "<style scoped>\n",
       "    .dataframe tbody tr th:only-of-type {\n",
       "        vertical-align: middle;\n",
       "    }\n",
       "\n",
       "    .dataframe tbody tr th {\n",
       "        vertical-align: top;\n",
       "    }\n",
       "\n",
       "    .dataframe thead th {\n",
       "        text-align: right;\n",
       "    }\n",
       "</style>\n",
       "<table border=\"1\" class=\"dataframe\">\n",
       "  <thead>\n",
       "    <tr style=\"text-align: right;\">\n",
       "      <th></th>\n",
       "      <th>Id</th>\n",
       "      <th>LotArea</th>\n",
       "      <th>OverallQual</th>\n",
       "      <th>YearBuilt</th>\n",
       "      <th>TotalBsmtSF</th>\n",
       "      <th>GrLivArea</th>\n",
       "      <th>FullBath</th>\n",
       "      <th>BedroomAbvGr</th>\n",
       "      <th>TotRmsAbvGrd</th>\n",
       "      <th>GarageArea</th>\n",
       "      <th>SalePrice</th>\n",
       "    </tr>\n",
       "  </thead>\n",
       "  <tbody>\n",
       "    <tr>\n",
       "      <th>Id</th>\n",
       "      <td>1.000000</td>\n",
       "      <td>-0.033226</td>\n",
       "      <td>-0.028365</td>\n",
       "      <td>-0.012713</td>\n",
       "      <td>-0.015415</td>\n",
       "      <td>0.008273</td>\n",
       "      <td>0.005587</td>\n",
       "      <td>0.037719</td>\n",
       "      <td>0.027239</td>\n",
       "      <td>0.017634</td>\n",
       "      <td>-0.021917</td>\n",
       "    </tr>\n",
       "    <tr>\n",
       "      <th>LotArea</th>\n",
       "      <td>-0.033226</td>\n",
       "      <td>1.000000</td>\n",
       "      <td>0.105806</td>\n",
       "      <td>0.014228</td>\n",
       "      <td>0.260833</td>\n",
       "      <td>0.263116</td>\n",
       "      <td>0.126031</td>\n",
       "      <td>0.119690</td>\n",
       "      <td>0.190015</td>\n",
       "      <td>0.180403</td>\n",
       "      <td>0.263843</td>\n",
       "    </tr>\n",
       "    <tr>\n",
       "      <th>OverallQual</th>\n",
       "      <td>-0.028365</td>\n",
       "      <td>0.105806</td>\n",
       "      <td>1.000000</td>\n",
       "      <td>0.572323</td>\n",
       "      <td>0.537808</td>\n",
       "      <td>0.593007</td>\n",
       "      <td>0.550600</td>\n",
       "      <td>0.101676</td>\n",
       "      <td>0.427452</td>\n",
       "      <td>0.562022</td>\n",
       "      <td>0.790982</td>\n",
       "    </tr>\n",
       "    <tr>\n",
       "      <th>YearBuilt</th>\n",
       "      <td>-0.012713</td>\n",
       "      <td>0.014228</td>\n",
       "      <td>0.572323</td>\n",
       "      <td>1.000000</td>\n",
       "      <td>0.391452</td>\n",
       "      <td>0.199010</td>\n",
       "      <td>0.468271</td>\n",
       "      <td>-0.070651</td>\n",
       "      <td>0.095589</td>\n",
       "      <td>0.478954</td>\n",
       "      <td>0.522897</td>\n",
       "    </tr>\n",
       "    <tr>\n",
       "      <th>TotalBsmtSF</th>\n",
       "      <td>-0.015415</td>\n",
       "      <td>0.260833</td>\n",
       "      <td>0.537808</td>\n",
       "      <td>0.391452</td>\n",
       "      <td>1.000000</td>\n",
       "      <td>0.454868</td>\n",
       "      <td>0.323722</td>\n",
       "      <td>0.050450</td>\n",
       "      <td>0.285573</td>\n",
       "      <td>0.486665</td>\n",
       "      <td>0.613581</td>\n",
       "    </tr>\n",
       "    <tr>\n",
       "      <th>GrLivArea</th>\n",
       "      <td>0.008273</td>\n",
       "      <td>0.263116</td>\n",
       "      <td>0.593007</td>\n",
       "      <td>0.199010</td>\n",
       "      <td>0.454868</td>\n",
       "      <td>1.000000</td>\n",
       "      <td>0.630012</td>\n",
       "      <td>0.521270</td>\n",
       "      <td>0.825489</td>\n",
       "      <td>0.468997</td>\n",
       "      <td>0.708624</td>\n",
       "    </tr>\n",
       "    <tr>\n",
       "      <th>FullBath</th>\n",
       "      <td>0.005587</td>\n",
       "      <td>0.126031</td>\n",
       "      <td>0.550600</td>\n",
       "      <td>0.468271</td>\n",
       "      <td>0.323722</td>\n",
       "      <td>0.630012</td>\n",
       "      <td>1.000000</td>\n",
       "      <td>0.363252</td>\n",
       "      <td>0.554784</td>\n",
       "      <td>0.405656</td>\n",
       "      <td>0.560664</td>\n",
       "    </tr>\n",
       "    <tr>\n",
       "      <th>BedroomAbvGr</th>\n",
       "      <td>0.037719</td>\n",
       "      <td>0.119690</td>\n",
       "      <td>0.101676</td>\n",
       "      <td>-0.070651</td>\n",
       "      <td>0.050450</td>\n",
       "      <td>0.521270</td>\n",
       "      <td>0.363252</td>\n",
       "      <td>1.000000</td>\n",
       "      <td>0.676620</td>\n",
       "      <td>0.065253</td>\n",
       "      <td>0.168213</td>\n",
       "    </tr>\n",
       "    <tr>\n",
       "      <th>TotRmsAbvGrd</th>\n",
       "      <td>0.027239</td>\n",
       "      <td>0.190015</td>\n",
       "      <td>0.427452</td>\n",
       "      <td>0.095589</td>\n",
       "      <td>0.285573</td>\n",
       "      <td>0.825489</td>\n",
       "      <td>0.554784</td>\n",
       "      <td>0.676620</td>\n",
       "      <td>1.000000</td>\n",
       "      <td>0.337822</td>\n",
       "      <td>0.533723</td>\n",
       "    </tr>\n",
       "    <tr>\n",
       "      <th>GarageArea</th>\n",
       "      <td>0.017634</td>\n",
       "      <td>0.180403</td>\n",
       "      <td>0.562022</td>\n",
       "      <td>0.478954</td>\n",
       "      <td>0.486665</td>\n",
       "      <td>0.468997</td>\n",
       "      <td>0.405656</td>\n",
       "      <td>0.065253</td>\n",
       "      <td>0.337822</td>\n",
       "      <td>1.000000</td>\n",
       "      <td>0.623431</td>\n",
       "    </tr>\n",
       "    <tr>\n",
       "      <th>SalePrice</th>\n",
       "      <td>-0.021917</td>\n",
       "      <td>0.263843</td>\n",
       "      <td>0.790982</td>\n",
       "      <td>0.522897</td>\n",
       "      <td>0.613581</td>\n",
       "      <td>0.708624</td>\n",
       "      <td>0.560664</td>\n",
       "      <td>0.168213</td>\n",
       "      <td>0.533723</td>\n",
       "      <td>0.623431</td>\n",
       "      <td>1.000000</td>\n",
       "    </tr>\n",
       "  </tbody>\n",
       "</table>\n",
       "</div>"
      ],
      "text/plain": [
       "                    Id   LotArea  OverallQual  YearBuilt  TotalBsmtSF  \\\n",
       "Id            1.000000 -0.033226    -0.028365  -0.012713    -0.015415   \n",
       "LotArea      -0.033226  1.000000     0.105806   0.014228     0.260833   \n",
       "OverallQual  -0.028365  0.105806     1.000000   0.572323     0.537808   \n",
       "YearBuilt    -0.012713  0.014228     0.572323   1.000000     0.391452   \n",
       "TotalBsmtSF  -0.015415  0.260833     0.537808   0.391452     1.000000   \n",
       "GrLivArea     0.008273  0.263116     0.593007   0.199010     0.454868   \n",
       "FullBath      0.005587  0.126031     0.550600   0.468271     0.323722   \n",
       "BedroomAbvGr  0.037719  0.119690     0.101676  -0.070651     0.050450   \n",
       "TotRmsAbvGrd  0.027239  0.190015     0.427452   0.095589     0.285573   \n",
       "GarageArea    0.017634  0.180403     0.562022   0.478954     0.486665   \n",
       "SalePrice    -0.021917  0.263843     0.790982   0.522897     0.613581   \n",
       "\n",
       "              GrLivArea  FullBath  BedroomAbvGr  TotRmsAbvGrd  GarageArea  \\\n",
       "Id             0.008273  0.005587      0.037719      0.027239    0.017634   \n",
       "LotArea        0.263116  0.126031      0.119690      0.190015    0.180403   \n",
       "OverallQual    0.593007  0.550600      0.101676      0.427452    0.562022   \n",
       "YearBuilt      0.199010  0.468271     -0.070651      0.095589    0.478954   \n",
       "TotalBsmtSF    0.454868  0.323722      0.050450      0.285573    0.486665   \n",
       "GrLivArea      1.000000  0.630012      0.521270      0.825489    0.468997   \n",
       "FullBath       0.630012  1.000000      0.363252      0.554784    0.405656   \n",
       "BedroomAbvGr   0.521270  0.363252      1.000000      0.676620    0.065253   \n",
       "TotRmsAbvGrd   0.825489  0.554784      0.676620      1.000000    0.337822   \n",
       "GarageArea     0.468997  0.405656      0.065253      0.337822    1.000000   \n",
       "SalePrice      0.708624  0.560664      0.168213      0.533723    0.623431   \n",
       "\n",
       "              SalePrice  \n",
       "Id            -0.021917  \n",
       "LotArea        0.263843  \n",
       "OverallQual    0.790982  \n",
       "YearBuilt      0.522897  \n",
       "TotalBsmtSF    0.613581  \n",
       "GrLivArea      0.708624  \n",
       "FullBath       0.560664  \n",
       "BedroomAbvGr   0.168213  \n",
       "TotRmsAbvGrd   0.533723  \n",
       "GarageArea     0.623431  \n",
       "SalePrice      1.000000  "
      ]
     },
     "execution_count": 183,
     "metadata": {},
     "output_type": "execute_result"
    }
   ],
   "source": [
    "# Correlation Matrix ...\n",
    "df.corr() # We interest to dependent variable \"SalePrice\"\n",
    "          # Analysis the correlation \"-1 < corr> 1\""
   ]
  },
  {
   "cell_type": "code",
   "execution_count": 185,
   "id": "e61e7fbd",
   "metadata": {},
   "outputs": [
    {
     "data": {
      "text/plain": [
       "<seaborn.axisgrid.PairGrid at 0x20376f90820>"
      ]
     },
     "execution_count": 185,
     "metadata": {},
     "output_type": "execute_result"
    },
    {
     "data": {
      "image/png": "[encoded data removed]",
      "text/plain": [
       "<Figure size 720x720 with 20 Axes>"
      ]
     },
     "metadata": {
      "needs_background": "light"
     },
     "output_type": "display_data"
    }
   ],
   "source": [
    "# Plot ...\n",
    "columns = ['OverallQual', 'TotalBsmtSF', 'GrLivArea', 'SalePrice']\n",
    "sns.pairplot(df[columns]) # We focus on row four (04)."
   ]
  },
  {
   "cell_type": "code",
   "execution_count": 186,
   "id": "4beb3083",
   "metadata": {},
   "outputs": [],
   "source": [
    "# setp -4- => cleaning the data, handle missing data, outliers,\n",
    "              # and categorical variables."
   ]
  },
  {
   "cell_type": "code",
   "execution_count": 187,
   "id": "9d32cbbd",
   "metadata": {},
   "outputs": [
    {
     "data": {
      "text/plain": [
       "<AxesSubplot:xlabel='OverallQual', ylabel='SalePrice'>"
      ]
     },
     "execution_count": 187,
     "metadata": {},
     "output_type": "execute_result"
    },
    {
     "data": {
      "image/png": "[encoded data removed]",
      "text/plain": [
       "<Figure size 432x288 with 1 Axes>"
      ]
     },
     "metadata": {
      "needs_background": "light"
     },
     "output_type": "display_data"
    }
   ],
   "source": [
    "# It is a good adea to create separate plots for each variable.\n",
    "\n",
    "df.plot.scatter(x='OverallQual',\n",
    "                y='SalePrice')\n",
    "# Add the comments about the plot."
   ]
  },
  {
   "cell_type": "code",
   "execution_count": 188,
   "id": "15431197",
   "metadata": {},
   "outputs": [
    {
     "data": {
      "text/plain": [
       "<AxesSubplot:xlabel='TotalBsmtSF', ylabel='SalePrice'>"
      ]
     },
     "execution_count": 188,
     "metadata": {},
     "output_type": "execute_result"
    },
    {
     "data": {
      "image/png": "[encoded data removed]",
      "text/plain": [
       "<Figure size 432x288 with 1 Axes>"
      ]
     },
     "metadata": {
      "needs_background": "light"
     },
     "output_type": "display_data"
    }
   ],
   "source": [
    "# Relationship between 'TotalBsmtSF' and 'SalePrice'\n",
    "# We can see Outliers.\n",
    "\n",
    "df.plot.scatter(x='TotalBsmtSF',\n",
    "                y='SalePrice')\n",
    "# Add the comments about the plot."
   ]
  },
  {
   "cell_type": "code",
   "execution_count": 190,
   "id": "0d3fad1a",
   "metadata": {},
   "outputs": [
    {
     "data": {
      "text/html": [
       "<div>\n",
       "<style scoped>\n",
       "    .dataframe tbody tr th:only-of-type {\n",
       "        vertical-align: middle;\n",
       "    }\n",
       "\n",
       "    .dataframe tbody tr th {\n",
       "        vertical-align: top;\n",
       "    }\n",
       "\n",
       "    .dataframe thead th {\n",
       "        text-align: right;\n",
       "    }\n",
       "</style>\n",
       "<table border=\"1\" class=\"dataframe\">\n",
       "  <thead>\n",
       "    <tr style=\"text-align: right;\">\n",
       "      <th></th>\n",
       "      <th>Id</th>\n",
       "      <th>LotArea</th>\n",
       "      <th>OverallQual</th>\n",
       "      <th>YearBuilt</th>\n",
       "      <th>TotalBsmtSF</th>\n",
       "      <th>GrLivArea</th>\n",
       "      <th>FullBath</th>\n",
       "      <th>BedroomAbvGr</th>\n",
       "      <th>KitchenQual</th>\n",
       "      <th>TotRmsAbvGrd</th>\n",
       "      <th>GarageArea</th>\n",
       "      <th>SalePrice</th>\n",
       "    </tr>\n",
       "  </thead>\n",
       "  <tbody>\n",
       "    <tr>\n",
       "      <th>332</th>\n",
       "      <td>333</td>\n",
       "      <td>10655</td>\n",
       "      <td>8</td>\n",
       "      <td>2003</td>\n",
       "      <td>3206</td>\n",
       "      <td>1629</td>\n",
       "      <td>2</td>\n",
       "      <td>3</td>\n",
       "      <td>Gd</td>\n",
       "      <td>7</td>\n",
       "      <td>880</td>\n",
       "      <td>284000</td>\n",
       "    </tr>\n",
       "    <tr>\n",
       "      <th>523</th>\n",
       "      <td>524</td>\n",
       "      <td>40094</td>\n",
       "      <td>10</td>\n",
       "      <td>2007</td>\n",
       "      <td>3138</td>\n",
       "      <td>4676</td>\n",
       "      <td>3</td>\n",
       "      <td>3</td>\n",
       "      <td>Ex</td>\n",
       "      <td>11</td>\n",
       "      <td>884</td>\n",
       "      <td>184750</td>\n",
       "    </tr>\n",
       "    <tr>\n",
       "      <th>1298</th>\n",
       "      <td>1299</td>\n",
       "      <td>63887</td>\n",
       "      <td>10</td>\n",
       "      <td>2008</td>\n",
       "      <td>6110</td>\n",
       "      <td>5642</td>\n",
       "      <td>2</td>\n",
       "      <td>3</td>\n",
       "      <td>Ex</td>\n",
       "      <td>12</td>\n",
       "      <td>1418</td>\n",
       "      <td>160000</td>\n",
       "    </tr>\n",
       "  </tbody>\n",
       "</table>\n",
       "</div>"
      ],
      "text/plain": [
       "        Id  LotArea  OverallQual  YearBuilt  TotalBsmtSF  GrLivArea  FullBath  \\\n",
       "332    333    10655            8       2003         3206       1629         2   \n",
       "523    524    40094           10       2007         3138       4676         3   \n",
       "1298  1299    63887           10       2008         6110       5642         2   \n",
       "\n",
       "      BedroomAbvGr KitchenQual  TotRmsAbvGrd  GarageArea  SalePrice  \n",
       "332              3          Gd             7         880     284000  \n",
       "523              3          Ex            11         884     184750  \n",
       "1298             3          Ex            12        1418     160000  "
      ]
     },
     "execution_count": 190,
     "metadata": {},
     "output_type": "execute_result"
    }
   ],
   "source": [
    "# Display a specific data with respect to some conditions ...\n",
    "# Objective behind it is to delete the outliers data ...\n",
    "df.loc[(df['TotalBsmtSF'] > 3000) & (df['SalePrice'] < 300000)]\n"
   ]
  },
  {
   "cell_type": "code",
   "execution_count": 191,
   "id": "1a2fb9bf",
   "metadata": {},
   "outputs": [],
   "source": [
    "# Delete the \"outliers\" data ...\n",
    "df = df.drop([332,523,1298])"
   ]
  },
  {
   "cell_type": "code",
   "execution_count": 192,
   "id": "e328cb3f",
   "metadata": {},
   "outputs": [
    {
     "data": {
      "text/plain": [
       "<AxesSubplot:xlabel='TotalBsmtSF', ylabel='SalePrice'>"
      ]
     },
     "execution_count": 192,
     "metadata": {},
     "output_type": "execute_result"
    },
    {
     "data": {
      "image/png": "[encoded data removed]",
      "text/plain": [
       "<Figure size 432x288 with 1 Axes>"
      ]
     },
     "metadata": {
      "needs_background": "light"
     },
     "output_type": "display_data"
    }
   ],
   "source": [
    "# Create another plot again after droping the \"outliers\" ...\n",
    "df.plot.scatter(x='TotalBsmtSF',\n",
    "                y='SalePrice')"
   ]
  },
  {
   "cell_type": "code",
   "execution_count": 193,
   "id": "4a3c9c3c",
   "metadata": {},
   "outputs": [
    {
     "data": {
      "text/plain": [
       "0.6529720902241527"
      ]
     },
     "execution_count": 193,
     "metadata": {},
     "output_type": "execute_result"
    }
   ],
   "source": [
    "# Check the \"correlation\" again after deleting the \"outliers\"\n",
    "\n",
    "df['TotalBsmtSF'].corr(df['SalePrice'])"
   ]
  },
  {
   "cell_type": "code",
   "execution_count": 194,
   "id": "872f7c23",
   "metadata": {},
   "outputs": [
    {
     "data": {
      "text/plain": [
       "<AxesSubplot:xlabel='GrLivArea', ylabel='SalePrice'>"
      ]
     },
     "execution_count": 194,
     "metadata": {},
     "output_type": "execute_result"
    },
    {
     "data": {
      "image/png": "[encoded data removed]",
      "text/plain": [
       "<Figure size 432x288 with 1 Axes>"
      ]
     },
     "metadata": {
      "needs_background": "light"
     },
     "output_type": "display_data"
    }
   ],
   "source": [
    "# Ploting the third (3rd) variable ...\n",
    "df.plot.scatter(x='GrLivArea',\n",
    "                y='SalePrice') # We don't have \"outliers\""
   ]
  },
  {
   "cell_type": "code",
   "execution_count": 195,
   "id": "b010ef1c",
   "metadata": {},
   "outputs": [
    {
     "data": {
      "text/plain": [
       "<AxesSubplot:xlabel='GarageArea', ylabel='SalePrice'>"
      ]
     },
     "execution_count": 195,
     "metadata": {},
     "output_type": "execute_result"
    },
    {
     "data": {
      "image/png": "[encoded data removed]",
      "text/plain": [
       "<Figure size 432x288 with 1 Axes>"
      ]
     },
     "metadata": {
      "needs_background": "light"
     },
     "output_type": "display_data"
    }
   ],
   "source": [
    "# Ploting the fourth (4th) variable ...\n",
    "df.plot.scatter(x='GarageArea',\n",
    "                y='SalePrice') # We have \"Outliers\" we have to delete them."
   ]
  },
  {
   "cell_type": "code",
   "execution_count": 196,
   "id": "96cfcd31",
   "metadata": {},
   "outputs": [
    {
     "data": {
      "text/html": [
       "<div>\n",
       "<style scoped>\n",
       "    .dataframe tbody tr th:only-of-type {\n",
       "        vertical-align: middle;\n",
       "    }\n",
       "\n",
       "    .dataframe tbody tr th {\n",
       "        vertical-align: top;\n",
       "    }\n",
       "\n",
       "    .dataframe thead th {\n",
       "        text-align: right;\n",
       "    }\n",
       "</style>\n",
       "<table border=\"1\" class=\"dataframe\">\n",
       "  <thead>\n",
       "    <tr style=\"text-align: right;\">\n",
       "      <th></th>\n",
       "      <th>Id</th>\n",
       "      <th>LotArea</th>\n",
       "      <th>OverallQual</th>\n",
       "      <th>YearBuilt</th>\n",
       "      <th>TotalBsmtSF</th>\n",
       "      <th>GrLivArea</th>\n",
       "      <th>FullBath</th>\n",
       "      <th>BedroomAbvGr</th>\n",
       "      <th>KitchenQual</th>\n",
       "      <th>TotRmsAbvGrd</th>\n",
       "      <th>GarageArea</th>\n",
       "      <th>SalePrice</th>\n",
       "    </tr>\n",
       "  </thead>\n",
       "  <tbody>\n",
       "    <tr>\n",
       "      <th>581</th>\n",
       "      <td>582</td>\n",
       "      <td>12704</td>\n",
       "      <td>8</td>\n",
       "      <td>2008</td>\n",
       "      <td>2042</td>\n",
       "      <td>2042</td>\n",
       "      <td>2</td>\n",
       "      <td>3</td>\n",
       "      <td>Ex</td>\n",
       "      <td>8</td>\n",
       "      <td>1390</td>\n",
       "      <td>253293</td>\n",
       "    </tr>\n",
       "    <tr>\n",
       "      <th>1061</th>\n",
       "      <td>1062</td>\n",
       "      <td>18000</td>\n",
       "      <td>3</td>\n",
       "      <td>1935</td>\n",
       "      <td>894</td>\n",
       "      <td>894</td>\n",
       "      <td>1</td>\n",
       "      <td>2</td>\n",
       "      <td>TA</td>\n",
       "      <td>6</td>\n",
       "      <td>1248</td>\n",
       "      <td>81000</td>\n",
       "    </tr>\n",
       "    <tr>\n",
       "      <th>1190</th>\n",
       "      <td>1191</td>\n",
       "      <td>32463</td>\n",
       "      <td>4</td>\n",
       "      <td>1961</td>\n",
       "      <td>1249</td>\n",
       "      <td>1622</td>\n",
       "      <td>1</td>\n",
       "      <td>3</td>\n",
       "      <td>TA</td>\n",
       "      <td>7</td>\n",
       "      <td>1356</td>\n",
       "      <td>168000</td>\n",
       "    </tr>\n",
       "  </tbody>\n",
       "</table>\n",
       "</div>"
      ],
      "text/plain": [
       "        Id  LotArea  OverallQual  YearBuilt  TotalBsmtSF  GrLivArea  FullBath  \\\n",
       "581    582    12704            8       2008         2042       2042         2   \n",
       "1061  1062    18000            3       1935          894        894         1   \n",
       "1190  1191    32463            4       1961         1249       1622         1   \n",
       "\n",
       "      BedroomAbvGr KitchenQual  TotRmsAbvGrd  GarageArea  SalePrice  \n",
       "581              3          Ex             8        1390     253293  \n",
       "1061             2          TA             6        1248      81000  \n",
       "1190             3          TA             7        1356     168000  "
      ]
     },
     "execution_count": 196,
     "metadata": {},
     "output_type": "execute_result"
    }
   ],
   "source": [
    "# Delete the \"outliers from the data\" ...\n",
    "df.loc[(df['GarageArea'] > 1200) & (df['SalePrice'] < 300000)]\n"
   ]
  },
  {
   "cell_type": "code",
   "execution_count": 197,
   "id": "928e6b9f",
   "metadata": {},
   "outputs": [],
   "source": [
    "# Delete the \"outliers\" data ...\n",
    "df = df.drop([581, 1061, 1190])"
   ]
  },
  {
   "cell_type": "code",
   "execution_count": 198,
   "id": "389b7b5f",
   "metadata": {},
   "outputs": [
    {
     "data": {
      "text/plain": [
       "<AxesSubplot:xlabel='GarageArea', ylabel='SalePrice'>"
      ]
     },
     "execution_count": 198,
     "metadata": {},
     "output_type": "execute_result"
    },
    {
     "data": {
      "image/png": "[encoded data removed]",
      "text/plain": [
       "<Figure size 432x288 with 1 Axes>"
      ]
     },
     "metadata": {
      "needs_background": "light"
     },
     "output_type": "display_data"
    }
   ],
   "source": [
    "# Ploting again the fourth (4th) variable ...\n",
    "df.plot.scatter(x='GarageArea',\n",
    "                y='SalePrice')"
   ]
  },
  {
   "cell_type": "code",
   "execution_count": 199,
   "id": "2d9ed6a6",
   "metadata": {},
   "outputs": [
    {
     "data": {
      "text/plain": [
       "0.6411338199828444"
      ]
     },
     "execution_count": 199,
     "metadata": {},
     "output_type": "execute_result"
    }
   ],
   "source": [
    "# Check the \"correlation\" again after deleting the \"outliers\"\n",
    "\n",
    "df['GarageArea'].corr(df['SalePrice'])"
   ]
  },
  {
   "cell_type": "code",
   "execution_count": 200,
   "id": "656c881b",
   "metadata": {},
   "outputs": [],
   "source": [
    "# setp -5- => checking statistical assumptions. Check if the data\n",
    "              # meet assumptions that are required for advanced\n",
    "              # analysis, for example checking for data normality."
   ]
  },
  {
   "cell_type": "code",
   "execution_count": 202,
   "id": "2051ff96",
   "metadata": {},
   "outputs": [
    {
     "data": {
      "text/plain": [
       "<AxesSubplot:xlabel='SalePrice', ylabel='Count'>"
      ]
     },
     "execution_count": 202,
     "metadata": {},
     "output_type": "execute_result"
    },
    {
     "data": {
      "image/png": "[encoded data removed]",
      "text/plain": [
       "<Figure size 432x288 with 1 Axes>"
      ]
     },
     "metadata": {
      "needs_background": "light"
     },
     "output_type": "display_data"
    }
   ],
   "source": [
    "# Check for \"Normality\" by \"Histogram\" or \"Density Plot\" ...\n",
    "\n",
    "sns.histplot(df['SalePrice'], \n",
    "             kde=True) # add a comments about the graphics"
   ]
  },
  {
   "cell_type": "code",
   "execution_count": 203,
   "id": "5f736ae5",
   "metadata": {},
   "outputs": [
    {
     "data": {
      "text/plain": [
       "((array([-3.30398548, -3.04669486, -2.90360817, ...,  2.90360817,\n",
       "          3.04669486,  3.30398548]),\n",
       "  array([ 34900,  35311,  37900, ..., 625000, 745000, 755000], dtype=int64)),\n",
       " (74176.3532456065, 180889.89202200828, 0.931585733830412))"
      ]
     },
     "execution_count": 203,
     "metadata": {},
     "output_type": "execute_result"
    },
    {
     "data": {
      "image/png": "[encoded data removed]",
      "text/plain": [
       "<Figure size 432x288 with 1 Axes>"
      ]
     },
     "metadata": {
      "needs_background": "light"
     },
     "output_type": "display_data"
    }
   ],
   "source": [
    "# Probability plot to check the \"Normality\" ...\n",
    "stats.probplot(df['SalePrice'],\n",
    "               plot=plt)\n",
    "# The Graphic => means the data is \"NOt normaly\" distributed."
   ]
  },
  {
   "cell_type": "code",
   "execution_count": 204,
   "id": "f5326d61",
   "metadata": {},
   "outputs": [],
   "source": [
    "# How to solve theis problem of \"Normality\" ...\n",
    "# Using data \"Transformation/Square Root Transformation\" ...\n",
    "# Using \"log()\" fct ...\n",
    "\n",
    "df['SalePrice'] = np.log(df['SalePrice'])"
   ]
  },
  {
   "cell_type": "code",
   "execution_count": 205,
   "id": "9b0700f3",
   "metadata": {},
   "outputs": [
    {
     "data": {
      "text/plain": [
       "<AxesSubplot:xlabel='SalePrice', ylabel='Count'>"
      ]
     },
     "execution_count": 205,
     "metadata": {},
     "output_type": "execute_result"
    },
    {
     "data": {
      "image/png": "[encoded data removed]",
      "text/plain": [
       "<Figure size 432x288 with 1 Axes>"
      ]
     },
     "metadata": {
      "needs_background": "light"
     },
     "output_type": "display_data"
    }
   ],
   "source": [
    "# Check for \"Normality\" by \"Histogram\" or \"Density Plot\" again ...\n",
    "\n",
    "sns.histplot(df['SalePrice'], \n",
    "             kde=True)"
   ]
  },
  {
   "cell_type": "code",
   "execution_count": 206,
   "id": "4b8720b5",
   "metadata": {},
   "outputs": [
    {
     "data": {
      "text/plain": [
       "((array([-3.30398548, -3.04669486, -2.90360817, ...,  2.90360817,\n",
       "          3.04669486,  3.30398548]),\n",
       "  array([10.46024211, 10.47194981, 10.54270639, ..., 13.34550693,\n",
       "         13.5211395 , 13.53447303])),\n",
       " (0.398195152659083, 12.023845716834316, 0.9952772349085542))"
      ]
     },
     "execution_count": 206,
     "metadata": {},
     "output_type": "execute_result"
    },
    {
     "data": {
      "image/png": "[encoded data removed]",
      "text/plain": [
       "<Figure size 432x288 with 1 Axes>"
      ]
     },
     "metadata": {
      "needs_background": "light"
     },
     "output_type": "display_data"
    }
   ],
   "source": [
    "# Probability plot to check the \"Normality\" again ...\n",
    "stats.probplot(df['SalePrice'],\n",
    "               plot=plt)\n",
    "\n",
    "# Now we solved the problem, so it is \"Normaly distribited\""
   ]
  },
  {
   "cell_type": "markdown",
   "id": "c430a51e",
   "metadata": {},
   "source": [
    "##### Checking the \"Density plot\" for other variables ..."
   ]
  },
  {
   "cell_type": "code",
   "execution_count": 207,
   "id": "75e8d93e",
   "metadata": {},
   "outputs": [
    {
     "data": {
      "text/plain": [
       "<AxesSubplot:xlabel='GrLivArea', ylabel='Count'>"
      ]
     },
     "execution_count": 207,
     "metadata": {},
     "output_type": "execute_result"
    },
    {
     "data": {
      "image/png": "[encoded data removed]",
      "text/plain": [
       "<Figure size 432x288 with 1 Axes>"
      ]
     },
     "metadata": {
      "needs_background": "light"
     },
     "output_type": "display_data"
    }
   ],
   "source": [
    "# Checking the \"Density plot\" for other variables ...\n",
    "sns.histplot(df['GrLivArea'], \n",
    "             kde=True)"
   ]
  },
  {
   "cell_type": "code",
   "execution_count": 208,
   "id": "889979ad",
   "metadata": {},
   "outputs": [
    {
     "data": {
      "text/plain": [
       "((array([-3.30398548, -3.04669486, -2.90360817, ...,  2.90360817,\n",
       "          3.04669486,  3.30398548]),\n",
       "  array([ 334,  438,  480, ..., 3627, 4316, 4476], dtype=int64)),\n",
       " (495.87446410915817, 1510.365887207703, 0.9743017218385464))"
      ]
     },
     "execution_count": 208,
     "metadata": {},
     "output_type": "execute_result"
    },
    {
     "data": {
      "image/png": "[encoded data removed]",
      "text/plain": [
       "<Figure size 432x288 with 1 Axes>"
      ]
     },
     "metadata": {
      "needs_background": "light"
     },
     "output_type": "display_data"
    }
   ],
   "source": [
    "# Probability plot to check the \"Normality\"  ...\n",
    "stats.probplot(df['GrLivArea'],\n",
    "               plot=plt)\n",
    "\n",
    "# It is \" NOT Normaly distribited\""
   ]
  },
  {
   "cell_type": "code",
   "execution_count": 209,
   "id": "c237d375",
   "metadata": {},
   "outputs": [],
   "source": [
    "# How to solve theis problem of \"Normality\" ...\n",
    "# Using data \"Transformation/Square Root Transformation\" ...\n",
    "# Using \"log()\" fct ...\n",
    "\n",
    "df['GrLivArea'] = np.log(df['GrLivArea'])"
   ]
  },
  {
   "cell_type": "code",
   "execution_count": 210,
   "id": "6a2841d7",
   "metadata": {},
   "outputs": [
    {
     "data": {
      "text/plain": [
       "<AxesSubplot:xlabel='SalePrice', ylabel='Count'>"
      ]
     },
     "execution_count": 210,
     "metadata": {},
     "output_type": "execute_result"
    },
    {
     "data": {
      "image/png": "[encoded data removed]",
      "text/plain": [
       "<Figure size 432x288 with 1 Axes>"
      ]
     },
     "metadata": {
      "needs_background": "light"
     },
     "output_type": "display_data"
    }
   ],
   "source": [
    "# Check for \"Normality\" by \"Histogram\" or \"Density Plot\" again ...\n",
    "\n",
    "sns.histplot(df['SalePrice'], \n",
    "             kde=True)"
   ]
  },
  {
   "cell_type": "code",
   "execution_count": 212,
   "id": "1f6fbb07",
   "metadata": {},
   "outputs": [
    {
     "data": {
      "text/plain": [
       "((array([-3.30398548, -3.04669486, -2.90360817, ...,  2.90360817,\n",
       "          3.04669486,  3.30398548]),\n",
       "  array([5.81114099, 6.08221891, 6.1737861 , ..., 8.19616114, 8.37008433,\n",
       "         8.40648507])),\n",
       " (0.3303910756964251, 7.265927014995005, 0.9981704176655275))"
      ]
     },
     "execution_count": 212,
     "metadata": {},
     "output_type": "execute_result"
    },
    {
     "data": {
      "image/png": "[encoded data removed]",
      "text/plain": [
       "<Figure size 432x288 with 1 Axes>"
      ]
     },
     "metadata": {
      "needs_background": "light"
     },
     "output_type": "display_data"
    }
   ],
   "source": [
    "# Probability plot to check the \"Normality\" again ...\n",
    "stats.probplot(df['GrLivArea'],\n",
    "               plot=plt)\n",
    "\n",
    "# Now we solved the problem, so it is \"Normaly distribited\""
   ]
  },
  {
   "cell_type": "markdown",
   "id": "e7513581",
   "metadata": {},
   "source": [
    "# "
   ]
  },
  {
   "cell_type": "markdown",
   "id": "ae90f2f4",
   "metadata": {},
   "source": [
    "##### Checking for Categorical Data ..."
   ]
  },
  {
   "cell_type": "code",
   "execution_count": 214,
   "id": "4cb27f96",
   "metadata": {},
   "outputs": [
    {
     "data": {
      "text/plain": [
       "TA    733\n",
       "Gd    585\n",
       "Ex     97\n",
       "Fa     39\n",
       "Name: KitchenQual, dtype: int64"
      ]
     },
     "execution_count": 214,
     "metadata": {},
     "output_type": "execute_result"
    }
   ],
   "source": [
    "# Categorical variable \"KitchenQual\" ...\n",
    "df['KitchenQual'].value_counts()\n",
    "\n",
    "# It contains four (04) values ..."
   ]
  },
  {
   "cell_type": "code",
   "execution_count": 215,
   "id": "68d640c7",
   "metadata": {},
   "outputs": [
    {
     "data": {
      "text/html": [
       "<div>\n",
       "<style scoped>\n",
       "    .dataframe tbody tr th:only-of-type {\n",
       "        vertical-align: middle;\n",
       "    }\n",
       "\n",
       "    .dataframe tbody tr th {\n",
       "        vertical-align: top;\n",
       "    }\n",
       "\n",
       "    .dataframe thead th {\n",
       "        text-align: right;\n",
       "    }\n",
       "</style>\n",
       "<table border=\"1\" class=\"dataframe\">\n",
       "  <thead>\n",
       "    <tr style=\"text-align: right;\">\n",
       "      <th></th>\n",
       "      <th>Ex</th>\n",
       "      <th>Fa</th>\n",
       "      <th>Gd</th>\n",
       "      <th>TA</th>\n",
       "    </tr>\n",
       "  </thead>\n",
       "  <tbody>\n",
       "    <tr>\n",
       "      <th>0</th>\n",
       "      <td>0</td>\n",
       "      <td>0</td>\n",
       "      <td>1</td>\n",
       "      <td>0</td>\n",
       "    </tr>\n",
       "    <tr>\n",
       "      <th>1</th>\n",
       "      <td>0</td>\n",
       "      <td>0</td>\n",
       "      <td>0</td>\n",
       "      <td>1</td>\n",
       "    </tr>\n",
       "    <tr>\n",
       "      <th>2</th>\n",
       "      <td>0</td>\n",
       "      <td>0</td>\n",
       "      <td>1</td>\n",
       "      <td>0</td>\n",
       "    </tr>\n",
       "    <tr>\n",
       "      <th>3</th>\n",
       "      <td>0</td>\n",
       "      <td>0</td>\n",
       "      <td>1</td>\n",
       "      <td>0</td>\n",
       "    </tr>\n",
       "    <tr>\n",
       "      <th>4</th>\n",
       "      <td>0</td>\n",
       "      <td>0</td>\n",
       "      <td>1</td>\n",
       "      <td>0</td>\n",
       "    </tr>\n",
       "  </tbody>\n",
       "</table>\n",
       "</div>"
      ],
      "text/plain": [
       "   Ex  Fa  Gd  TA\n",
       "0   0   0   1   0\n",
       "1   0   0   0   1\n",
       "2   0   0   1   0\n",
       "3   0   0   1   0\n",
       "4   0   0   1   0"
      ]
     },
     "execution_count": 215,
     "metadata": {},
     "output_type": "execute_result"
    }
   ],
   "source": [
    "# To analyse it we need to convert it to \"Dummy variables\" ...\n",
    "# Using a fct \"get_dummies\" ...\n",
    "\n",
    "kitchen = pd.get_dummies(df['KitchenQual'])\n",
    "kitchen.head()"
   ]
  },
  {
   "cell_type": "code",
   "execution_count": 216,
   "id": "8d6bcbfe",
   "metadata": {},
   "outputs": [
    {
     "data": {
      "text/html": [
       "<div>\n",
       "<style scoped>\n",
       "    .dataframe tbody tr th:only-of-type {\n",
       "        vertical-align: middle;\n",
       "    }\n",
       "\n",
       "    .dataframe tbody tr th {\n",
       "        vertical-align: top;\n",
       "    }\n",
       "\n",
       "    .dataframe thead th {\n",
       "        text-align: right;\n",
       "    }\n",
       "</style>\n",
       "<table border=\"1\" class=\"dataframe\">\n",
       "  <thead>\n",
       "    <tr style=\"text-align: right;\">\n",
       "      <th></th>\n",
       "      <th>Id</th>\n",
       "      <th>LotArea</th>\n",
       "      <th>OverallQual</th>\n",
       "      <th>YearBuilt</th>\n",
       "      <th>TotalBsmtSF</th>\n",
       "      <th>GrLivArea</th>\n",
       "      <th>FullBath</th>\n",
       "      <th>BedroomAbvGr</th>\n",
       "      <th>KitchenQual</th>\n",
       "      <th>TotRmsAbvGrd</th>\n",
       "      <th>GarageArea</th>\n",
       "      <th>SalePrice</th>\n",
       "      <th>Ex</th>\n",
       "      <th>Fa</th>\n",
       "      <th>Gd</th>\n",
       "      <th>TA</th>\n",
       "    </tr>\n",
       "  </thead>\n",
       "  <tbody>\n",
       "    <tr>\n",
       "      <th>0</th>\n",
       "      <td>1</td>\n",
       "      <td>8450</td>\n",
       "      <td>7</td>\n",
       "      <td>2003</td>\n",
       "      <td>856</td>\n",
       "      <td>7.444249</td>\n",
       "      <td>2</td>\n",
       "      <td>3</td>\n",
       "      <td>Gd</td>\n",
       "      <td>8</td>\n",
       "      <td>548</td>\n",
       "      <td>12.247694</td>\n",
       "      <td>0</td>\n",
       "      <td>0</td>\n",
       "      <td>1</td>\n",
       "      <td>0</td>\n",
       "    </tr>\n",
       "    <tr>\n",
       "      <th>1</th>\n",
       "      <td>2</td>\n",
       "      <td>9600</td>\n",
       "      <td>6</td>\n",
       "      <td>1976</td>\n",
       "      <td>1262</td>\n",
       "      <td>7.140453</td>\n",
       "      <td>2</td>\n",
       "      <td>3</td>\n",
       "      <td>TA</td>\n",
       "      <td>6</td>\n",
       "      <td>460</td>\n",
       "      <td>12.109011</td>\n",
       "      <td>0</td>\n",
       "      <td>0</td>\n",
       "      <td>0</td>\n",
       "      <td>1</td>\n",
       "    </tr>\n",
       "    <tr>\n",
       "      <th>2</th>\n",
       "      <td>3</td>\n",
       "      <td>11250</td>\n",
       "      <td>7</td>\n",
       "      <td>2001</td>\n",
       "      <td>920</td>\n",
       "      <td>7.487734</td>\n",
       "      <td>2</td>\n",
       "      <td>3</td>\n",
       "      <td>Gd</td>\n",
       "      <td>6</td>\n",
       "      <td>608</td>\n",
       "      <td>12.317167</td>\n",
       "      <td>0</td>\n",
       "      <td>0</td>\n",
       "      <td>1</td>\n",
       "      <td>0</td>\n",
       "    </tr>\n",
       "    <tr>\n",
       "      <th>3</th>\n",
       "      <td>4</td>\n",
       "      <td>9550</td>\n",
       "      <td>7</td>\n",
       "      <td>1915</td>\n",
       "      <td>756</td>\n",
       "      <td>7.448334</td>\n",
       "      <td>1</td>\n",
       "      <td>3</td>\n",
       "      <td>Gd</td>\n",
       "      <td>7</td>\n",
       "      <td>642</td>\n",
       "      <td>11.849398</td>\n",
       "      <td>0</td>\n",
       "      <td>0</td>\n",
       "      <td>1</td>\n",
       "      <td>0</td>\n",
       "    </tr>\n",
       "    <tr>\n",
       "      <th>4</th>\n",
       "      <td>5</td>\n",
       "      <td>14260</td>\n",
       "      <td>8</td>\n",
       "      <td>2000</td>\n",
       "      <td>1145</td>\n",
       "      <td>7.695303</td>\n",
       "      <td>2</td>\n",
       "      <td>4</td>\n",
       "      <td>Gd</td>\n",
       "      <td>9</td>\n",
       "      <td>836</td>\n",
       "      <td>12.429216</td>\n",
       "      <td>0</td>\n",
       "      <td>0</td>\n",
       "      <td>1</td>\n",
       "      <td>0</td>\n",
       "    </tr>\n",
       "  </tbody>\n",
       "</table>\n",
       "</div>"
      ],
      "text/plain": [
       "   Id  LotArea  OverallQual  YearBuilt  TotalBsmtSF  GrLivArea  FullBath  \\\n",
       "0   1     8450            7       2003          856   7.444249         2   \n",
       "1   2     9600            6       1976         1262   7.140453         2   \n",
       "2   3    11250            7       2001          920   7.487734         2   \n",
       "3   4     9550            7       1915          756   7.448334         1   \n",
       "4   5    14260            8       2000         1145   7.695303         2   \n",
       "\n",
       "   BedroomAbvGr KitchenQual  TotRmsAbvGrd  GarageArea  SalePrice  Ex  Fa  Gd  \\\n",
       "0             3          Gd             8         548  12.247694   0   0   1   \n",
       "1             3          TA             6         460  12.109011   0   0   0   \n",
       "2             3          Gd             6         608  12.317167   0   0   1   \n",
       "3             3          Gd             7         642  11.849398   0   0   1   \n",
       "4             4          Gd             9         836  12.429216   0   0   1   \n",
       "\n",
       "   TA  \n",
       "0   0  \n",
       "1   1  \n",
       "2   0  \n",
       "3   0  \n",
       "4   0  "
      ]
     },
     "execution_count": 216,
     "metadata": {},
     "output_type": "execute_result"
    }
   ],
   "source": [
    "# Adding it to the DF dataset using \"join()\" fct   ...\n",
    "df = df.join(kitchen)\n",
    "df.head()"
   ]
  },
  {
   "cell_type": "code",
   "execution_count": 217,
   "id": "6f6b4014",
   "metadata": {},
   "outputs": [
    {
     "data": {
      "text/html": [
       "<div>\n",
       "<style scoped>\n",
       "    .dataframe tbody tr th:only-of-type {\n",
       "        vertical-align: middle;\n",
       "    }\n",
       "\n",
       "    .dataframe tbody tr th {\n",
       "        vertical-align: top;\n",
       "    }\n",
       "\n",
       "    .dataframe thead th {\n",
       "        text-align: right;\n",
       "    }\n",
       "</style>\n",
       "<table border=\"1\" class=\"dataframe\">\n",
       "  <thead>\n",
       "    <tr style=\"text-align: right;\">\n",
       "      <th></th>\n",
       "      <th>Id</th>\n",
       "      <th>LotArea</th>\n",
       "      <th>OverallQual</th>\n",
       "      <th>YearBuilt</th>\n",
       "      <th>TotalBsmtSF</th>\n",
       "      <th>GrLivArea</th>\n",
       "      <th>FullBath</th>\n",
       "      <th>BedroomAbvGr</th>\n",
       "      <th>TotRmsAbvGrd</th>\n",
       "      <th>GarageArea</th>\n",
       "      <th>SalePrice</th>\n",
       "      <th>Ex</th>\n",
       "      <th>Fa</th>\n",
       "      <th>Gd</th>\n",
       "      <th>TA</th>\n",
       "    </tr>\n",
       "  </thead>\n",
       "  <tbody>\n",
       "    <tr>\n",
       "      <th>0</th>\n",
       "      <td>1</td>\n",
       "      <td>8450</td>\n",
       "      <td>7</td>\n",
       "      <td>2003</td>\n",
       "      <td>856</td>\n",
       "      <td>7.444249</td>\n",
       "      <td>2</td>\n",
       "      <td>3</td>\n",
       "      <td>8</td>\n",
       "      <td>548</td>\n",
       "      <td>12.247694</td>\n",
       "      <td>0</td>\n",
       "      <td>0</td>\n",
       "      <td>1</td>\n",
       "      <td>0</td>\n",
       "    </tr>\n",
       "    <tr>\n",
       "      <th>1</th>\n",
       "      <td>2</td>\n",
       "      <td>9600</td>\n",
       "      <td>6</td>\n",
       "      <td>1976</td>\n",
       "      <td>1262</td>\n",
       "      <td>7.140453</td>\n",
       "      <td>2</td>\n",
       "      <td>3</td>\n",
       "      <td>6</td>\n",
       "      <td>460</td>\n",
       "      <td>12.109011</td>\n",
       "      <td>0</td>\n",
       "      <td>0</td>\n",
       "      <td>0</td>\n",
       "      <td>1</td>\n",
       "    </tr>\n",
       "    <tr>\n",
       "      <th>2</th>\n",
       "      <td>3</td>\n",
       "      <td>11250</td>\n",
       "      <td>7</td>\n",
       "      <td>2001</td>\n",
       "      <td>920</td>\n",
       "      <td>7.487734</td>\n",
       "      <td>2</td>\n",
       "      <td>3</td>\n",
       "      <td>6</td>\n",
       "      <td>608</td>\n",
       "      <td>12.317167</td>\n",
       "      <td>0</td>\n",
       "      <td>0</td>\n",
       "      <td>1</td>\n",
       "      <td>0</td>\n",
       "    </tr>\n",
       "    <tr>\n",
       "      <th>3</th>\n",
       "      <td>4</td>\n",
       "      <td>9550</td>\n",
       "      <td>7</td>\n",
       "      <td>1915</td>\n",
       "      <td>756</td>\n",
       "      <td>7.448334</td>\n",
       "      <td>1</td>\n",
       "      <td>3</td>\n",
       "      <td>7</td>\n",
       "      <td>642</td>\n",
       "      <td>11.849398</td>\n",
       "      <td>0</td>\n",
       "      <td>0</td>\n",
       "      <td>1</td>\n",
       "      <td>0</td>\n",
       "    </tr>\n",
       "    <tr>\n",
       "      <th>4</th>\n",
       "      <td>5</td>\n",
       "      <td>14260</td>\n",
       "      <td>8</td>\n",
       "      <td>2000</td>\n",
       "      <td>1145</td>\n",
       "      <td>7.695303</td>\n",
       "      <td>2</td>\n",
       "      <td>4</td>\n",
       "      <td>9</td>\n",
       "      <td>836</td>\n",
       "      <td>12.429216</td>\n",
       "      <td>0</td>\n",
       "      <td>0</td>\n",
       "      <td>1</td>\n",
       "      <td>0</td>\n",
       "    </tr>\n",
       "  </tbody>\n",
       "</table>\n",
       "</div>"
      ],
      "text/plain": [
       "   Id  LotArea  OverallQual  YearBuilt  TotalBsmtSF  GrLivArea  FullBath  \\\n",
       "0   1     8450            7       2003          856   7.444249         2   \n",
       "1   2     9600            6       1976         1262   7.140453         2   \n",
       "2   3    11250            7       2001          920   7.487734         2   \n",
       "3   4     9550            7       1915          756   7.448334         1   \n",
       "4   5    14260            8       2000         1145   7.695303         2   \n",
       "\n",
       "   BedroomAbvGr  TotRmsAbvGrd  GarageArea  SalePrice  Ex  Fa  Gd  TA  \n",
       "0             3             8         548  12.247694   0   0   1   0  \n",
       "1             3             6         460  12.109011   0   0   0   1  \n",
       "2             3             6         608  12.317167   0   0   1   0  \n",
       "3             3             7         642  11.849398   0   0   1   0  \n",
       "4             4             9         836  12.429216   0   0   1   0  "
      ]
     },
     "execution_count": 217,
     "metadata": {},
     "output_type": "execute_result"
    }
   ],
   "source": [
    "# The \"Categorical variable\" is not longer needed, so we drop it ...\n",
    "# from the dataset -DF- ...\n",
    "df = df.drop(['KitchenQual'], axis=1)\n",
    "df.head()"
   ]
  },
  {
   "cell_type": "markdown",
   "id": "711d55dc",
   "metadata": {},
   "source": [
    "### Our Dataset is ready for the Next step  who is application of ML/DL ..."
   ]
  },
  {
   "cell_type": "code",
   "execution_count": 221,
   "id": "b070acb8",
   "metadata": {},
   "outputs": [
    {
     "data": {
      "text/plain": [
       "'C:\\\\Users\\\\xps\\\\Desktop\\\\Python'"
      ]
     },
     "execution_count": 221,
     "metadata": {},
     "output_type": "execute_result"
    }
   ],
   "source": [
    "%pwd"
   ]
  },
  {
   "cell_type": "code",
   "execution_count": null,
   "id": "20a9009c",
   "metadata": {},
   "outputs": [],
   "source": []
  },
  {
   "cell_type": "code",
   "execution_count": null,
   "id": "57100617",
   "metadata": {},
   "outputs": [],
   "source": []
  }
 ],
 "metadata": {
  "kernelspec": {
   "display_name": "Python 3 (ipykernel)",
   "language": "python",
   "name": "python3"
  },
  "language_info": {
   "codemirror_mode": {
    "name": "ipython",
    "version": 3
   },
   "file_extension": ".py",
   "mimetype": "text/x-python",
   "name": "python",
   "nbconvert_exporter": "python",
   "pygments_lexer": "ipython3",
   "version": "3.9.12"
  }
 },
 "nbformat": 4,
 "nbformat_minor": 5
}
